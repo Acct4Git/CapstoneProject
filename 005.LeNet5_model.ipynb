{
 "cells": [
  {
   "cell_type": "markdown",
   "id": "4a409a3a",
   "metadata": {},
   "source": [
    "# This is running the LeNet 5 models, one dataset folder at a time.  \n",
    "\n",
    "The model takes the image data from a root folder (greyscale/gy. original(RBG)/og or Four-channel/fc and runs them through a classic LeNet 5 model.\n",
    "\n",
    "VERSIONS\n",
    "\n",
    "Outputs are to the 3 (_gy, _or, _fc) data folders which themselves reflect the quality of the data provided.\n",
    "So EACH folder needs to be run separately.\n",
    "\n",
    "PARAMETERS\n",
    "\n",
    "It adjusts the data to the 3 datasizes used in the KNN and Random Forest Models (64x64,128x128,256x256)\n",
    "The 3 image sizes go into the LeNet5, which has a fixed structure\n",
    "\n",
    "The 2x2 grid search is batches and epoch sizes\n",
    "\n",
    "The model uses 5-fold on the 80% 'training-validation' data.  The data includes 20% for final testing.\n",
    "\n",
    "LOCALISATION\n",
    "\n",
    "root_folders - these are the sources of data (right at the end of each code block)\n",
    "Adjust as needed.\n",
    "\n",
    "It is assumed that earlier models and pip's have been installed.\n",
    "\n",
    "TIMING\n",
    "\n",
    "The models (when run in series and with concurrent cores) ran in 51 + 53 + 54 = 2hr 28 mins.\n",
    "This is indicative as depends on the resources available.\n",
    "\n",
    "RESULTS\n",
    "\n",
    "each model x imagesize combination generates an excel file with results and logs\n",
    "These are saved in the related root folders.\n",
    "\n",
    "\n",
    "\n"
   ]
  },
  {
   "cell_type": "markdown",
   "id": "1d44575e",
   "metadata": {},
   "source": [
    "Running 06.DataSet_gy GREYSCALE"
   ]
  },
  {
   "cell_type": "code",
   "execution_count": 1,
   "id": "2146e934",
   "metadata": {},
   "outputs": [
    {
     "name": "stdout",
     "output_type": "stream",
     "text": [
      "Overall processing started at 2024-08-05 22:37:31.267233\n",
      "Processing gy:country - Started at 2024-08-05 22:37:31.268232\n",
      "Processing gy:country - Loading and preprocessing training data\n",
      "Processing gy:exact_piece - Started at 2024-08-05 22:37:31.268232\n",
      "Processing gy:exact_piece - Loading and preprocessing training data\n",
      "Processing gy:force - Started at 2024-08-05 22:37:31.269232\n",
      "Processing gy:force - Loading and preprocessing training data\n",
      "Processing gy:piece - Started at 2024-08-05 22:37:31.269232\n",
      "Processing gy:piece - Loading and preprocessing training data\n",
      "Processing gy:piece - Time taken for loading and preprocessing: 31.00 seconds\n",
      "Processing gy:piece - Evaluating for image size: (64, 64)\n",
      "Processing gy:country - Time taken for loading and preprocessing: 31.15 seconds\n",
      "Processing gy:country - Evaluating for image size: (64, 64)\n",
      "Processing gy:force - Time taken for loading and preprocessing: 31.20 seconds\n",
      "Processing gy:force - Evaluating for image size: (64, 64)\n",
      "Processing gy:exact_piece - Time taken for loading and preprocessing: 31.22 seconds\n",
      "Processing gy:exact_piece - Evaluating for image size: (64, 64)\n"
     ]
    },
    {
     "name": "stderr",
     "output_type": "stream",
     "text": [
      "C:\\Users\\ReCas\\anaconda3\\Lib\\site-packages\\keras\\src\\layers\\convolutional\\base_conv.py:107: UserWarning: Do not pass an `input_shape`/`input_dim` argument to a layer. When using Sequential models, prefer using an `Input(shape)` object as the first layer in the model instead.\n",
      "  super().__init__(activity_regularizer=activity_regularizer, **kwargs)\n"
     ]
    },
    {
     "name": "stdout",
     "output_type": "stream",
     "text": [
      "Processing gy:piece - Params: {'batch_size': 32, 'epochs': 10} - Mean Score (accuracy): 0.9282 - Time: 19.68 seconds\n",
      "Processing gy:country - Params: {'batch_size': 32, 'epochs': 10} - Mean Score (accuracy): 0.8645 - Time: 19.74 seconds\n",
      "Processing gy:force - Params: {'batch_size': 32, 'epochs': 10} - Mean Score (accuracy): 0.9535 - Time: 20.06 seconds\n",
      "Processing gy:exact_piece - Params: {'batch_size': 32, 'epochs': 10} - Mean Score (accuracy): 0.6865 - Time: 20.13 seconds\n",
      "\u001b[1m8/8\u001b[0m \u001b[32m━━━━━━━━━━━━━━━━━━━━\u001b[0m\u001b[37m\u001b[0m \u001b[1m0s\u001b[0m 22ms/step\n",
      "\u001b[1m8/8\u001b[0m \u001b[32m━━━━━━━━━━━━━━━━━━━━\u001b[0m\u001b[37m\u001b[0m \u001b[1m0s\u001b[0m 19ms/step\n"
     ]
    },
    {
     "name": "stderr",
     "output_type": "stream",
     "text": [
      "C:\\Users\\ReCas\\anaconda3\\Lib\\site-packages\\keras\\src\\layers\\convolutional\\base_conv.py:107: UserWarning: Do not pass an `input_shape`/`input_dim` argument to a layer. When using Sequential models, prefer using an `Input(shape)` object as the first layer in the model instead.\n",
      "  super().__init__(activity_regularizer=activity_regularizer, **kwargs)\n",
      "C:\\Users\\ReCas\\anaconda3\\Lib\\site-packages\\keras\\src\\layers\\convolutional\\base_conv.py:107: UserWarning: Do not pass an `input_shape`/`input_dim` argument to a layer. When using Sequential models, prefer using an `Input(shape)` object as the first layer in the model instead.\n",
      "  super().__init__(activity_regularizer=activity_regularizer, **kwargs)\n"
     ]
    },
    {
     "name": "stdout",
     "output_type": "stream",
     "text": [
      "WARNING:tensorflow:5 out of the last 17 calls to <function TensorFlowTrainer.make_predict_function.<locals>.one_step_on_data_distributed at 0x000001DBB6738E00> triggered tf.function retracing. Tracing is expensive and the excessive number of tracings could be due to (1) creating @tf.function repeatedly in a loop, (2) passing tensors with different shapes, (3) passing Python objects instead of tensors. For (1), please define your @tf.function outside of the loop. For (2), @tf.function has reduce_retracing=True option that can avoid unnecessary retracing. For (3), please refer to https://www.tensorflow.org/guide/function#controlling_retracing and https://www.tensorflow.org/api_docs/python/tf/function for  more details.\n",
      "\u001b[1m8/8\u001b[0m \u001b[32m━━━━━━━━━━━━━━━━━━━━\u001b[0m\u001b[37m\u001b[0m \u001b[1m0s\u001b[0m 17ms/step\n",
      "\u001b[1m8/8\u001b[0m \u001b[32m━━━━━━━━━━━━━━━━━━━━\u001b[0m\u001b[37m\u001b[0m \u001b[1m0s\u001b[0m 16ms/step\n"
     ]
    },
    {
     "name": "stderr",
     "output_type": "stream",
     "text": [
      "C:\\Users\\ReCas\\anaconda3\\Lib\\site-packages\\keras\\src\\layers\\convolutional\\base_conv.py:107: UserWarning: Do not pass an `input_shape`/`input_dim` argument to a layer. When using Sequential models, prefer using an `Input(shape)` object as the first layer in the model instead.\n",
      "  super().__init__(activity_regularizer=activity_regularizer, **kwargs)\n",
      "C:\\Users\\ReCas\\anaconda3\\Lib\\site-packages\\keras\\src\\layers\\convolutional\\base_conv.py:107: UserWarning: Do not pass an `input_shape`/`input_dim` argument to a layer. When using Sequential models, prefer using an `Input(shape)` object as the first layer in the model instead.\n",
      "  super().__init__(activity_regularizer=activity_regularizer, **kwargs)\n"
     ]
    },
    {
     "name": "stdout",
     "output_type": "stream",
     "text": [
      "Processing gy:piece - Params: {'batch_size': 32, 'epochs': 20} - Mean Score (accuracy): 0.9649 - Time: 36.17 seconds\n",
      "Processing gy:country - Params: {'batch_size': 32, 'epochs': 20} - Mean Score (accuracy): 0.8980 - Time: 36.81 seconds\n",
      "Processing gy:force - Params: {'batch_size': 32, 'epochs': 20} - Mean Score (accuracy): 0.9959 - Time: 36.87 seconds\n",
      "Processing gy:exact_piece - Params: {'batch_size': 32, 'epochs': 20} - Mean Score (accuracy): 0.8922 - Time: 38.00 seconds\n",
      "WARNING:tensorflow:5 out of the last 17 calls to <function TensorFlowTrainer.make_predict_function.<locals>.one_step_on_data_distributed at 0x000001DBB458F380> triggered tf.function retracing. Tracing is expensive and the excessive number of tracings could be due to (1) creating @tf.function repeatedly in a loop, (2) passing tensors with different shapes, (3) passing Python objects instead of tensors. For (1), please define your @tf.function outside of the loop. For (2), @tf.function has reduce_retracing=True option that can avoid unnecessary retracing. For (3), please refer to https://www.tensorflow.org/guide/function#controlling_retracing and https://www.tensorflow.org/api_docs/python/tf/function for  more details.\n",
      "\u001b[1m8/8\u001b[0m \u001b[32m━━━━━━━━━━━━━━━━━━━━\u001b[0m\u001b[37m\u001b[0m \u001b[1m0s\u001b[0m 20ms/step\n"
     ]
    },
    {
     "name": "stderr",
     "output_type": "stream",
     "text": [
      "C:\\Users\\ReCas\\anaconda3\\Lib\\site-packages\\keras\\src\\layers\\convolutional\\base_conv.py:107: UserWarning: Do not pass an `input_shape`/`input_dim` argument to a layer. When using Sequential models, prefer using an `Input(shape)` object as the first layer in the model instead.\n",
      "  super().__init__(activity_regularizer=activity_regularizer, **kwargs)\n"
     ]
    },
    {
     "name": "stdout",
     "output_type": "stream",
     "text": [
      "\u001b[1m8/8\u001b[0m \u001b[32m━━━━━━━━━━━━━━━━━━━━\u001b[0m\u001b[37m\u001b[0m \u001b[1m0s\u001b[0m 20ms/step\n"
     ]
    },
    {
     "name": "stderr",
     "output_type": "stream",
     "text": [
      "C:\\Users\\ReCas\\anaconda3\\Lib\\site-packages\\keras\\src\\layers\\convolutional\\base_conv.py:107: UserWarning: Do not pass an `input_shape`/`input_dim` argument to a layer. When using Sequential models, prefer using an `Input(shape)` object as the first layer in the model instead.\n",
      "  super().__init__(activity_regularizer=activity_regularizer, **kwargs)\n"
     ]
    },
    {
     "name": "stdout",
     "output_type": "stream",
     "text": [
      "\u001b[1m8/8\u001b[0m \u001b[32m━━━━━━━━━━━━━━━━━━━━\u001b[0m\u001b[37m\u001b[0m \u001b[1m0s\u001b[0m 17ms/step\n"
     ]
    },
    {
     "name": "stderr",
     "output_type": "stream",
     "text": [
      "C:\\Users\\ReCas\\anaconda3\\Lib\\site-packages\\keras\\src\\layers\\convolutional\\base_conv.py:107: UserWarning: Do not pass an `input_shape`/`input_dim` argument to a layer. When using Sequential models, prefer using an `Input(shape)` object as the first layer in the model instead.\n",
      "  super().__init__(activity_regularizer=activity_regularizer, **kwargs)\n"
     ]
    },
    {
     "name": "stdout",
     "output_type": "stream",
     "text": [
      "\u001b[1m8/8\u001b[0m \u001b[32m━━━━━━━━━━━━━━━━━━━━\u001b[0m\u001b[37m\u001b[0m \u001b[1m0s\u001b[0m 16ms/step\n"
     ]
    },
    {
     "name": "stderr",
     "output_type": "stream",
     "text": [
      "C:\\Users\\ReCas\\anaconda3\\Lib\\site-packages\\keras\\src\\layers\\convolutional\\base_conv.py:107: UserWarning: Do not pass an `input_shape`/`input_dim` argument to a layer. When using Sequential models, prefer using an `Input(shape)` object as the first layer in the model instead.\n",
      "  super().__init__(activity_regularizer=activity_regularizer, **kwargs)\n"
     ]
    },
    {
     "name": "stdout",
     "output_type": "stream",
     "text": [
      "Processing gy:piece - Params: {'batch_size': 64, 'epochs': 10} - Mean Score (accuracy): 0.8457 - Time: 18.14 seconds\n",
      "Processing gy:country - Params: {'batch_size': 64, 'epochs': 10} - Mean Score (accuracy): 0.7395 - Time: 19.11 seconds\n",
      "Processing gy:force - Params: {'batch_size': 64, 'epochs': 10} - Mean Score (accuracy): 0.9649 - Time: 19.48 seconds\n",
      "\u001b[1m8/8\u001b[0m \u001b[32m━━━━━━━━━━━━━━━━━━━━\u001b[0m\u001b[37m\u001b[0m \u001b[1m0s\u001b[0m 20ms/step\n"
     ]
    },
    {
     "name": "stderr",
     "output_type": "stream",
     "text": [
      "C:\\Users\\ReCas\\anaconda3\\Lib\\site-packages\\keras\\src\\layers\\convolutional\\base_conv.py:107: UserWarning: Do not pass an `input_shape`/`input_dim` argument to a layer. When using Sequential models, prefer using an `Input(shape)` object as the first layer in the model instead.\n",
      "  super().__init__(activity_regularizer=activity_regularizer, **kwargs)\n"
     ]
    },
    {
     "name": "stdout",
     "output_type": "stream",
     "text": [
      "Processing gy:exact_piece - Params: {'batch_size': 64, 'epochs': 10} - Mean Score (accuracy): 0.6766 - Time: 19.54 seconds\n",
      "\u001b[1m8/8\u001b[0m \u001b[32m━━━━━━━━━━━━━━━━━━━━\u001b[0m\u001b[37m\u001b[0m \u001b[1m0s\u001b[0m 30ms/step\n"
     ]
    },
    {
     "name": "stderr",
     "output_type": "stream",
     "text": [
      "C:\\Users\\ReCas\\anaconda3\\Lib\\site-packages\\keras\\src\\layers\\convolutional\\base_conv.py:107: UserWarning: Do not pass an `input_shape`/`input_dim` argument to a layer. When using Sequential models, prefer using an `Input(shape)` object as the first layer in the model instead.\n",
      "  super().__init__(activity_regularizer=activity_regularizer, **kwargs)\n"
     ]
    },
    {
     "name": "stdout",
     "output_type": "stream",
     "text": [
      "\u001b[1m8/8\u001b[0m \u001b[32m━━━━━━━━━━━━━━━━━━━━\u001b[0m\u001b[37m\u001b[0m \u001b[1m0s\u001b[0m 20ms/step\n"
     ]
    },
    {
     "name": "stderr",
     "output_type": "stream",
     "text": [
      "C:\\Users\\ReCas\\anaconda3\\Lib\\site-packages\\keras\\src\\layers\\convolutional\\base_conv.py:107: UserWarning: Do not pass an `input_shape`/`input_dim` argument to a layer. When using Sequential models, prefer using an `Input(shape)` object as the first layer in the model instead.\n",
      "  super().__init__(activity_regularizer=activity_regularizer, **kwargs)\n"
     ]
    },
    {
     "name": "stdout",
     "output_type": "stream",
     "text": [
      "\u001b[1m8/8\u001b[0m \u001b[32m━━━━━━━━━━━━━━━━━━━━\u001b[0m\u001b[37m\u001b[0m \u001b[1m0s\u001b[0m 14ms/step\n"
     ]
    },
    {
     "name": "stderr",
     "output_type": "stream",
     "text": [
      "C:\\Users\\ReCas\\anaconda3\\Lib\\site-packages\\keras\\src\\layers\\convolutional\\base_conv.py:107: UserWarning: Do not pass an `input_shape`/`input_dim` argument to a layer. When using Sequential models, prefer using an `Input(shape)` object as the first layer in the model instead.\n",
      "  super().__init__(activity_regularizer=activity_regularizer, **kwargs)\n"
     ]
    },
    {
     "name": "stdout",
     "output_type": "stream",
     "text": [
      "Processing gy:piece - Params: {'batch_size': 64, 'epochs': 20} - Mean Score (accuracy): 0.9282 - Time: 33.95 seconds\n",
      "Processing gy:country - Params: {'batch_size': 64, 'epochs': 20} - Mean Score (accuracy): 0.8898 - Time: 35.19 seconds\n",
      "Processing gy:force - Params: {'batch_size': 64, 'epochs': 20} - Mean Score (accuracy): 0.9927 - Time: 35.26 seconds\n",
      "Processing gy:exact_piece - Params: {'batch_size': 64, 'epochs': 20} - Mean Score (accuracy): 0.8416 - Time: 35.67 seconds\n",
      "\u001b[1m8/8\u001b[0m \u001b[32m━━━━━━━━━━━━━━━━━━━━\u001b[0m\u001b[37m\u001b[0m \u001b[1m0s\u001b[0m 23ms/step\n",
      "Processing gy:piece - Total time taken for image size (64, 64): 129.42 seconds\n",
      "\n",
      "Processing gy:piece - Evaluating for image size: (128, 128)\n"
     ]
    },
    {
     "name": "stderr",
     "output_type": "stream",
     "text": [
      "C:\\Users\\ReCas\\anaconda3\\Lib\\site-packages\\keras\\src\\layers\\convolutional\\base_conv.py:107: UserWarning: Do not pass an `input_shape`/`input_dim` argument to a layer. When using Sequential models, prefer using an `Input(shape)` object as the first layer in the model instead.\n",
      "  super().__init__(activity_regularizer=activity_regularizer, **kwargs)\n"
     ]
    },
    {
     "name": "stdout",
     "output_type": "stream",
     "text": [
      "\u001b[1m8/8\u001b[0m \u001b[32m━━━━━━━━━━━━━━━━━━━━\u001b[0m\u001b[37m\u001b[0m \u001b[1m0s\u001b[0m 25ms/step\n",
      "Processing gy:country - Total time taken for image size (64, 64): 131.99 seconds\n",
      "\n",
      "Processing gy:country - Evaluating for image size: (128, 128)\n",
      "\u001b[1m8/8\u001b[0m \u001b[32m━━━━━━━━━━━━━━━━━━━━\u001b[0m\u001b[37m\u001b[0m \u001b[1m0s\u001b[0m 21ms/step\n",
      "Processing gy:force - Total time taken for image size (64, 64): 132.49 seconds\n",
      "\n",
      "Processing gy:force - Evaluating for image size: (128, 128)\n"
     ]
    },
    {
     "name": "stderr",
     "output_type": "stream",
     "text": [
      "C:\\Users\\ReCas\\anaconda3\\Lib\\site-packages\\keras\\src\\layers\\convolutional\\base_conv.py:107: UserWarning: Do not pass an `input_shape`/`input_dim` argument to a layer. When using Sequential models, prefer using an `Input(shape)` object as the first layer in the model instead.\n",
      "  super().__init__(activity_regularizer=activity_regularizer, **kwargs)\n"
     ]
    },
    {
     "name": "stdout",
     "output_type": "stream",
     "text": [
      "\u001b[1m8/8\u001b[0m \u001b[32m━━━━━━━━━━━━━━━━━━━━\u001b[0m\u001b[37m\u001b[0m \u001b[1m0s\u001b[0m 33ms/step\n",
      "Processing gy:exact_piece - Total time taken for image size (64, 64): 133.44 seconds\n",
      "\n",
      "Processing gy:exact_piece - Evaluating for image size: (128, 128)\n"
     ]
    },
    {
     "name": "stderr",
     "output_type": "stream",
     "text": [
      "C:\\Users\\ReCas\\anaconda3\\Lib\\site-packages\\keras\\src\\layers\\convolutional\\base_conv.py:107: UserWarning: Do not pass an `input_shape`/`input_dim` argument to a layer. When using Sequential models, prefer using an `Input(shape)` object as the first layer in the model instead.\n",
      "  super().__init__(activity_regularizer=activity_regularizer, **kwargs)\n"
     ]
    },
    {
     "name": "stdout",
     "output_type": "stream",
     "text": [
      "Processing gy:piece - Params: {'batch_size': 32, 'epochs': 10} - Mean Score (accuracy): 0.9698 - Time: 72.82 seconds\n",
      "Processing gy:country - Params: {'batch_size': 32, 'epochs': 10} - Mean Score (accuracy): 0.9167 - Time: 78.61 seconds\n",
      "Processing gy:force - Params: {'batch_size': 32, 'epochs': 10} - Mean Score (accuracy): 0.9918 - Time: 80.53 seconds\n",
      "\u001b[1m8/8\u001b[0m \u001b[32m━━━━━━━━━━━━━━━━━━━━\u001b[0m\u001b[37m\u001b[0m \u001b[1m1s\u001b[0m 40ms/step\n"
     ]
    },
    {
     "name": "stderr",
     "output_type": "stream",
     "text": [
      "C:\\Users\\ReCas\\anaconda3\\Lib\\site-packages\\keras\\src\\layers\\convolutional\\base_conv.py:107: UserWarning: Do not pass an `input_shape`/`input_dim` argument to a layer. When using Sequential models, prefer using an `Input(shape)` object as the first layer in the model instead.\n",
      "  super().__init__(activity_regularizer=activity_regularizer, **kwargs)\n"
     ]
    },
    {
     "name": "stdout",
     "output_type": "stream",
     "text": [
      "Processing gy:exact_piece - Params: {'batch_size': 32, 'epochs': 10} - Mean Score (accuracy): 0.8922 - Time: 87.43 seconds\n",
      "\u001b[1m8/8\u001b[0m \u001b[32m━━━━━━━━━━━━━━━━━━━━\u001b[0m\u001b[37m\u001b[0m \u001b[1m1s\u001b[0m 39ms/step\n"
     ]
    },
    {
     "name": "stderr",
     "output_type": "stream",
     "text": [
      "C:\\Users\\ReCas\\anaconda3\\Lib\\site-packages\\keras\\src\\layers\\convolutional\\base_conv.py:107: UserWarning: Do not pass an `input_shape`/`input_dim` argument to a layer. When using Sequential models, prefer using an `Input(shape)` object as the first layer in the model instead.\n",
      "  super().__init__(activity_regularizer=activity_regularizer, **kwargs)\n"
     ]
    },
    {
     "name": "stdout",
     "output_type": "stream",
     "text": [
      "\u001b[1m8/8\u001b[0m \u001b[32m━━━━━━━━━━━━━━━━━━━━\u001b[0m\u001b[37m\u001b[0m \u001b[1m0s\u001b[0m 43ms/step\n"
     ]
    },
    {
     "name": "stderr",
     "output_type": "stream",
     "text": [
      "C:\\Users\\ReCas\\anaconda3\\Lib\\site-packages\\keras\\src\\layers\\convolutional\\base_conv.py:107: UserWarning: Do not pass an `input_shape`/`input_dim` argument to a layer. When using Sequential models, prefer using an `Input(shape)` object as the first layer in the model instead.\n",
      "  super().__init__(activity_regularizer=activity_regularizer, **kwargs)\n"
     ]
    },
    {
     "name": "stdout",
     "output_type": "stream",
     "text": [
      "\u001b[1m8/8\u001b[0m \u001b[32m━━━━━━━━━━━━━━━━━━━━\u001b[0m\u001b[37m\u001b[0m \u001b[1m1s\u001b[0m 54ms/step\n"
     ]
    },
    {
     "name": "stderr",
     "output_type": "stream",
     "text": [
      "C:\\Users\\ReCas\\anaconda3\\Lib\\site-packages\\keras\\src\\layers\\convolutional\\base_conv.py:107: UserWarning: Do not pass an `input_shape`/`input_dim` argument to a layer. When using Sequential models, prefer using an `Input(shape)` object as the first layer in the model instead.\n",
      "  super().__init__(activity_regularizer=activity_regularizer, **kwargs)\n"
     ]
    },
    {
     "name": "stdout",
     "output_type": "stream",
     "text": [
      "Processing gy:piece - Params: {'batch_size': 32, 'epochs': 20} - Mean Score (accuracy): 0.9788 - Time: 156.28 seconds\n",
      "Processing gy:country - Params: {'batch_size': 32, 'epochs': 20} - Mean Score (accuracy): 0.9567 - Time: 164.79 seconds\n",
      "Processing gy:force - Params: {'batch_size': 32, 'epochs': 20} - Mean Score (accuracy): 0.9935 - Time: 163.15 seconds\n",
      "Processing gy:exact_piece - Params: {'batch_size': 32, 'epochs': 20} - Mean Score (accuracy): 0.9265 - Time: 159.08 seconds\n",
      "\u001b[1m8/8\u001b[0m \u001b[32m━━━━━━━━━━━━━━━━━━━━\u001b[0m\u001b[37m\u001b[0m \u001b[1m1s\u001b[0m 44ms/step\n"
     ]
    },
    {
     "name": "stderr",
     "output_type": "stream",
     "text": [
      "C:\\Users\\ReCas\\anaconda3\\Lib\\site-packages\\keras\\src\\layers\\convolutional\\base_conv.py:107: UserWarning: Do not pass an `input_shape`/`input_dim` argument to a layer. When using Sequential models, prefer using an `Input(shape)` object as the first layer in the model instead.\n",
      "  super().__init__(activity_regularizer=activity_regularizer, **kwargs)\n"
     ]
    },
    {
     "name": "stdout",
     "output_type": "stream",
     "text": [
      "\u001b[1m8/8\u001b[0m \u001b[32m━━━━━━━━━━━━━━━━━━━━\u001b[0m\u001b[37m\u001b[0m \u001b[1m0s\u001b[0m 33ms/step\n",
      "\u001b[1m5/8\u001b[0m \u001b[32m━━━━━━━━━━━━\u001b[0m\u001b[37m━━━━━━━━\u001b[0m \u001b[1m0s\u001b[0m 27ms/step"
     ]
    },
    {
     "name": "stderr",
     "output_type": "stream",
     "text": [
      "C:\\Users\\ReCas\\anaconda3\\Lib\\site-packages\\keras\\src\\layers\\convolutional\\base_conv.py:107: UserWarning: Do not pass an `input_shape`/`input_dim` argument to a layer. When using Sequential models, prefer using an `Input(shape)` object as the first layer in the model instead.\n",
      "  super().__init__(activity_regularizer=activity_regularizer, **kwargs)\n"
     ]
    },
    {
     "name": "stdout",
     "output_type": "stream",
     "text": [
      "\u001b[1m8/8\u001b[0m \u001b[32m━━━━━━━━━━━━━━━━━━━━\u001b[0m\u001b[37m\u001b[0m \u001b[1m0s\u001b[0m 39ms/step\n"
     ]
    },
    {
     "name": "stderr",
     "output_type": "stream",
     "text": [
      "C:\\Users\\ReCas\\anaconda3\\Lib\\site-packages\\keras\\src\\layers\\convolutional\\base_conv.py:107: UserWarning: Do not pass an `input_shape`/`input_dim` argument to a layer. When using Sequential models, prefer using an `Input(shape)` object as the first layer in the model instead.\n",
      "  super().__init__(activity_regularizer=activity_regularizer, **kwargs)\n"
     ]
    },
    {
     "name": "stdout",
     "output_type": "stream",
     "text": [
      "\u001b[1m8/8\u001b[0m \u001b[32m━━━━━━━━━━━━━━━━━━━━\u001b[0m\u001b[37m\u001b[0m \u001b[1m0s\u001b[0m 27ms/step\n"
     ]
    },
    {
     "name": "stderr",
     "output_type": "stream",
     "text": [
      "C:\\Users\\ReCas\\anaconda3\\Lib\\site-packages\\keras\\src\\layers\\convolutional\\base_conv.py:107: UserWarning: Do not pass an `input_shape`/`input_dim` argument to a layer. When using Sequential models, prefer using an `Input(shape)` object as the first layer in the model instead.\n",
      "  super().__init__(activity_regularizer=activity_regularizer, **kwargs)\n"
     ]
    },
    {
     "name": "stdout",
     "output_type": "stream",
     "text": [
      "Processing gy:piece - Params: {'batch_size': 64, 'epochs': 10} - Mean Score (accuracy): 0.9078 - Time: 72.44 seconds\n",
      "\u001b[1m8/8\u001b[0m \u001b[32m━━━━━━━━━━━━━━━━━━━━\u001b[0m\u001b[37m\u001b[0m \u001b[1m0s\u001b[0m 36ms/step\n"
     ]
    },
    {
     "name": "stderr",
     "output_type": "stream",
     "text": [
      "C:\\Users\\ReCas\\anaconda3\\Lib\\site-packages\\keras\\src\\layers\\convolutional\\base_conv.py:107: UserWarning: Do not pass an `input_shape`/`input_dim` argument to a layer. When using Sequential models, prefer using an `Input(shape)` object as the first layer in the model instead.\n",
      "  super().__init__(activity_regularizer=activity_regularizer, **kwargs)\n"
     ]
    },
    {
     "name": "stdout",
     "output_type": "stream",
     "text": [
      "Processing gy:force - Params: {'batch_size': 64, 'epochs': 10} - Mean Score (accuracy): 0.9902 - Time: 73.80 seconds\n",
      "Processing gy:country - Params: {'batch_size': 64, 'epochs': 10} - Mean Score (accuracy): 0.8882 - Time: 74.37 seconds\n",
      "Processing gy:exact_piece - Params: {'batch_size': 64, 'epochs': 10} - Mean Score (accuracy): 0.8392 - Time: 74.01 seconds\n",
      "\u001b[1m8/8\u001b[0m \u001b[32m━━━━━━━━━━━━━━━━━━━━\u001b[0m\u001b[37m\u001b[0m \u001b[1m1s\u001b[0m 45ms/step\n"
     ]
    },
    {
     "name": "stderr",
     "output_type": "stream",
     "text": [
      "C:\\Users\\ReCas\\anaconda3\\Lib\\site-packages\\keras\\src\\layers\\convolutional\\base_conv.py:107: UserWarning: Do not pass an `input_shape`/`input_dim` argument to a layer. When using Sequential models, prefer using an `Input(shape)` object as the first layer in the model instead.\n",
      "  super().__init__(activity_regularizer=activity_regularizer, **kwargs)\n"
     ]
    },
    {
     "name": "stdout",
     "output_type": "stream",
     "text": [
      "\u001b[1m8/8\u001b[0m \u001b[32m━━━━━━━━━━━━━━━━━━━━\u001b[0m\u001b[37m\u001b[0m \u001b[1m0s\u001b[0m 38ms/step\n"
     ]
    },
    {
     "name": "stderr",
     "output_type": "stream",
     "text": [
      "C:\\Users\\ReCas\\anaconda3\\Lib\\site-packages\\keras\\src\\layers\\convolutional\\base_conv.py:107: UserWarning: Do not pass an `input_shape`/`input_dim` argument to a layer. When using Sequential models, prefer using an `Input(shape)` object as the first layer in the model instead.\n",
      "  super().__init__(activity_regularizer=activity_regularizer, **kwargs)\n"
     ]
    },
    {
     "name": "stdout",
     "output_type": "stream",
     "text": [
      "\u001b[1m8/8\u001b[0m \u001b[32m━━━━━━━━━━━━━━━━━━━━\u001b[0m\u001b[37m\u001b[0m \u001b[1m0s\u001b[0m 33ms/step\n"
     ]
    },
    {
     "name": "stderr",
     "output_type": "stream",
     "text": [
      "C:\\Users\\ReCas\\anaconda3\\Lib\\site-packages\\keras\\src\\layers\\convolutional\\base_conv.py:107: UserWarning: Do not pass an `input_shape`/`input_dim` argument to a layer. When using Sequential models, prefer using an `Input(shape)` object as the first layer in the model instead.\n",
      "  super().__init__(activity_regularizer=activity_regularizer, **kwargs)\n"
     ]
    },
    {
     "name": "stdout",
     "output_type": "stream",
     "text": [
      "Processing gy:piece - Params: {'batch_size': 64, 'epochs': 20} - Mean Score (accuracy): 0.9584 - Time: 136.99 seconds\n",
      "Processing gy:force - Params: {'batch_size': 64, 'epochs': 20} - Mean Score (accuracy): 0.9959 - Time: 142.06 seconds\n",
      "Processing gy:exact_piece - Params: {'batch_size': 64, 'epochs': 20} - Mean Score (accuracy): 0.9118 - Time: 142.69 seconds\n",
      "\u001b[1m8/8\u001b[0m \u001b[32m━━━━━━━━━━━━━━━━━━━━\u001b[0m\u001b[37m\u001b[0m \u001b[1m1s\u001b[0m 43ms/step\n",
      "Processing gy:piece - Total time taken for image size (128, 128): 529.04 seconds\n",
      "\n",
      "Processing gy:piece - Evaluating for image size: (256, 256)\n",
      "Processing gy:country - Params: {'batch_size': 64, 'epochs': 20} - Mean Score (accuracy): 0.9380 - Time: 147.77 seconds\n"
     ]
    },
    {
     "name": "stderr",
     "output_type": "stream",
     "text": [
      "C:\\Users\\ReCas\\anaconda3\\Lib\\site-packages\\keras\\src\\layers\\convolutional\\base_conv.py:107: UserWarning: Do not pass an `input_shape`/`input_dim` argument to a layer. When using Sequential models, prefer using an `Input(shape)` object as the first layer in the model instead.\n",
      "  super().__init__(activity_regularizer=activity_regularizer, **kwargs)\n"
     ]
    },
    {
     "name": "stdout",
     "output_type": "stream",
     "text": [
      "\u001b[1m8/8\u001b[0m \u001b[32m━━━━━━━━━━━━━━━━━━━━\u001b[0m\u001b[37m\u001b[0m \u001b[1m1s\u001b[0m 47ms/step\n",
      "Processing gy:force - Total time taken for image size (128, 128): 549.37 seconds\n",
      "\n",
      "Processing gy:force - Evaluating for image size: (256, 256)\n",
      "\u001b[1m8/8\u001b[0m \u001b[32m━━━━━━━━━━━━━━━━━━━━\u001b[0m\u001b[37m\u001b[0m \u001b[1m0s\u001b[0m 73ms/step"
     ]
    },
    {
     "name": "stderr",
     "output_type": "stream",
     "text": [
      "C:\\Users\\ReCas\\anaconda3\\Lib\\site-packages\\keras\\src\\layers\\convolutional\\base_conv.py:107: UserWarning: Do not pass an `input_shape`/`input_dim` argument to a layer. When using Sequential models, prefer using an `Input(shape)` object as the first layer in the model instead.\n",
      "  super().__init__(activity_regularizer=activity_regularizer, **kwargs)\n"
     ]
    },
    {
     "name": "stdout",
     "output_type": "stream",
     "text": [
      "\u001b[1m8/8\u001b[0m \u001b[32m━━━━━━━━━━━━━━━━━━━━\u001b[0m\u001b[37m\u001b[0m \u001b[1m1s\u001b[0m 73ms/step\n",
      "Processing gy:exact_piece - Total time taken for image size (128, 128): 551.45 seconds\n",
      "\n",
      "Processing gy:exact_piece - Evaluating for image size: (256, 256)\n",
      "\u001b[1m8/8\u001b[0m \u001b[32m━━━━━━━━━━━━━━━━━━━━\u001b[0m\u001b[37m\u001b[0m \u001b[1m0s\u001b[0m 29ms/step\n",
      "Processing gy:country - Total time taken for image size (128, 128): 554.86 seconds\n",
      "\n",
      "Processing gy:country - Evaluating for image size: (256, 256)\n"
     ]
    },
    {
     "name": "stderr",
     "output_type": "stream",
     "text": [
      "C:\\Users\\ReCas\\anaconda3\\Lib\\site-packages\\keras\\src\\layers\\convolutional\\base_conv.py:107: UserWarning: Do not pass an `input_shape`/`input_dim` argument to a layer. When using Sequential models, prefer using an `Input(shape)` object as the first layer in the model instead.\n",
      "  super().__init__(activity_regularizer=activity_regularizer, **kwargs)\n"
     ]
    },
    {
     "name": "stdout",
     "output_type": "stream",
     "text": [
      "Processing gy:piece - Params: {'batch_size': 32, 'epochs': 10} - Mean Score (accuracy): 0.9665 - Time: 317.10 seconds\n",
      "Processing gy:force - Params: {'batch_size': 32, 'epochs': 10} - Mean Score (accuracy): 0.9976 - Time: 331.90 seconds\n",
      "Processing gy:country - Params: {'batch_size': 32, 'epochs': 10} - Mean Score (accuracy): 0.9331 - Time: 341.65 seconds\n",
      "Processing gy:exact_piece - Params: {'batch_size': 32, 'epochs': 10} - Mean Score (accuracy): 0.9224 - Time: 347.81 seconds\n",
      "\u001b[1m8/8\u001b[0m \u001b[32m━━━━━━━━━━━━━━━━━━━━\u001b[0m\u001b[37m\u001b[0m \u001b[1m1s\u001b[0m 86ms/step\n"
     ]
    },
    {
     "name": "stderr",
     "output_type": "stream",
     "text": [
      "C:\\Users\\ReCas\\anaconda3\\Lib\\site-packages\\keras\\src\\layers\\convolutional\\base_conv.py:107: UserWarning: Do not pass an `input_shape`/`input_dim` argument to a layer. When using Sequential models, prefer using an `Input(shape)` object as the first layer in the model instead.\n",
      "  super().__init__(activity_regularizer=activity_regularizer, **kwargs)\n"
     ]
    },
    {
     "name": "stdout",
     "output_type": "stream",
     "text": [
      "\u001b[1m8/8\u001b[0m \u001b[32m━━━━━━━━━━━━━━━━━━━━\u001b[0m\u001b[37m\u001b[0m \u001b[1m1s\u001b[0m 79ms/step\n"
     ]
    },
    {
     "name": "stderr",
     "output_type": "stream",
     "text": [
      "C:\\Users\\ReCas\\anaconda3\\Lib\\site-packages\\keras\\src\\layers\\convolutional\\base_conv.py:107: UserWarning: Do not pass an `input_shape`/`input_dim` argument to a layer. When using Sequential models, prefer using an `Input(shape)` object as the first layer in the model instead.\n",
      "  super().__init__(activity_regularizer=activity_regularizer, **kwargs)\n"
     ]
    },
    {
     "name": "stdout",
     "output_type": "stream",
     "text": [
      "\u001b[1m8/8\u001b[0m \u001b[32m━━━━━━━━━━━━━━━━━━━━\u001b[0m\u001b[37m\u001b[0m \u001b[1m1s\u001b[0m 87ms/step\n"
     ]
    },
    {
     "name": "stderr",
     "output_type": "stream",
     "text": [
      "C:\\Users\\ReCas\\anaconda3\\Lib\\site-packages\\keras\\src\\layers\\convolutional\\base_conv.py:107: UserWarning: Do not pass an `input_shape`/`input_dim` argument to a layer. When using Sequential models, prefer using an `Input(shape)` object as the first layer in the model instead.\n",
      "  super().__init__(activity_regularizer=activity_regularizer, **kwargs)\n"
     ]
    },
    {
     "name": "stdout",
     "output_type": "stream",
     "text": [
      "\u001b[1m8/8\u001b[0m \u001b[32m━━━━━━━━━━━━━━━━━━━━\u001b[0m\u001b[37m\u001b[0m \u001b[1m1s\u001b[0m 92ms/step\n"
     ]
    },
    {
     "name": "stderr",
     "output_type": "stream",
     "text": [
      "C:\\Users\\ReCas\\anaconda3\\Lib\\site-packages\\keras\\src\\layers\\convolutional\\base_conv.py:107: UserWarning: Do not pass an `input_shape`/`input_dim` argument to a layer. When using Sequential models, prefer using an `Input(shape)` object as the first layer in the model instead.\n",
      "  super().__init__(activity_regularizer=activity_regularizer, **kwargs)\n"
     ]
    },
    {
     "name": "stdout",
     "output_type": "stream",
     "text": [
      "Processing gy:piece - Params: {'batch_size': 32, 'epochs': 20} - Mean Score (accuracy): 0.9853 - Time: 671.52 seconds\n",
      "Processing gy:force - Params: {'batch_size': 32, 'epochs': 20} - Mean Score (accuracy): 0.9910 - Time: 657.71 seconds\n",
      "Processing gy:country - Params: {'batch_size': 32, 'epochs': 20} - Mean Score (accuracy): 0.9551 - Time: 654.48 seconds\n",
      "Processing gy:exact_piece - Params: {'batch_size': 32, 'epochs': 20} - Mean Score (accuracy): 0.9200 - Time: 672.86 seconds\n",
      "\u001b[1m8/8\u001b[0m \u001b[32m━━━━━━━━━━━━━━━━━━━━\u001b[0m\u001b[37m\u001b[0m \u001b[1m1s\u001b[0m 75ms/step\n"
     ]
    },
    {
     "name": "stderr",
     "output_type": "stream",
     "text": [
      "C:\\Users\\ReCas\\anaconda3\\Lib\\site-packages\\keras\\src\\layers\\convolutional\\base_conv.py:107: UserWarning: Do not pass an `input_shape`/`input_dim` argument to a layer. When using Sequential models, prefer using an `Input(shape)` object as the first layer in the model instead.\n",
      "  super().__init__(activity_regularizer=activity_regularizer, **kwargs)\n"
     ]
    },
    {
     "name": "stdout",
     "output_type": "stream",
     "text": [
      "\u001b[1m8/8\u001b[0m \u001b[32m━━━━━━━━━━━━━━━━━━━━\u001b[0m\u001b[37m\u001b[0m \u001b[1m1s\u001b[0m 77ms/step\n"
     ]
    },
    {
     "name": "stderr",
     "output_type": "stream",
     "text": [
      "C:\\Users\\ReCas\\anaconda3\\Lib\\site-packages\\keras\\src\\layers\\convolutional\\base_conv.py:107: UserWarning: Do not pass an `input_shape`/`input_dim` argument to a layer. When using Sequential models, prefer using an `Input(shape)` object as the first layer in the model instead.\n",
      "  super().__init__(activity_regularizer=activity_regularizer, **kwargs)\n"
     ]
    },
    {
     "name": "stdout",
     "output_type": "stream",
     "text": [
      "\u001b[1m8/8\u001b[0m \u001b[32m━━━━━━━━━━━━━━━━━━━━\u001b[0m\u001b[37m\u001b[0m \u001b[1m1s\u001b[0m 97ms/step\n"
     ]
    },
    {
     "name": "stderr",
     "output_type": "stream",
     "text": [
      "C:\\Users\\ReCas\\anaconda3\\Lib\\site-packages\\keras\\src\\layers\\convolutional\\base_conv.py:107: UserWarning: Do not pass an `input_shape`/`input_dim` argument to a layer. When using Sequential models, prefer using an `Input(shape)` object as the first layer in the model instead.\n",
      "  super().__init__(activity_regularizer=activity_regularizer, **kwargs)\n"
     ]
    },
    {
     "name": "stdout",
     "output_type": "stream",
     "text": [
      "\u001b[1m8/8\u001b[0m \u001b[32m━━━━━━━━━━━━━━━━━━━━\u001b[0m\u001b[37m\u001b[0m \u001b[1m1s\u001b[0m 95ms/step\n"
     ]
    },
    {
     "name": "stderr",
     "output_type": "stream",
     "text": [
      "C:\\Users\\ReCas\\anaconda3\\Lib\\site-packages\\keras\\src\\layers\\convolutional\\base_conv.py:107: UserWarning: Do not pass an `input_shape`/`input_dim` argument to a layer. When using Sequential models, prefer using an `Input(shape)` object as the first layer in the model instead.\n",
      "  super().__init__(activity_regularizer=activity_regularizer, **kwargs)\n"
     ]
    },
    {
     "name": "stdout",
     "output_type": "stream",
     "text": [
      "Processing gy:piece - Params: {'batch_size': 64, 'epochs': 10} - Mean Score (accuracy): 0.9739 - Time: 289.86 seconds\n",
      "Processing gy:force - Params: {'batch_size': 64, 'epochs': 10} - Mean Score (accuracy): 0.9600 - Time: 288.69 seconds\n",
      "Processing gy:exact_piece - Params: {'batch_size': 64, 'epochs': 10} - Mean Score (accuracy): 0.8873 - Time: 290.39 seconds\n",
      "Processing gy:country - Params: {'batch_size': 64, 'epochs': 10} - Mean Score (accuracy): 0.9453 - Time: 303.25 seconds\n",
      "\u001b[1m8/8\u001b[0m \u001b[32m━━━━━━━━━━━━━━━━━━━━\u001b[0m\u001b[37m\u001b[0m \u001b[1m1s\u001b[0m 93ms/step\n"
     ]
    },
    {
     "name": "stderr",
     "output_type": "stream",
     "text": [
      "C:\\Users\\ReCas\\anaconda3\\Lib\\site-packages\\keras\\src\\layers\\convolutional\\base_conv.py:107: UserWarning: Do not pass an `input_shape`/`input_dim` argument to a layer. When using Sequential models, prefer using an `Input(shape)` object as the first layer in the model instead.\n",
      "  super().__init__(activity_regularizer=activity_regularizer, **kwargs)\n"
     ]
    },
    {
     "name": "stdout",
     "output_type": "stream",
     "text": [
      "\u001b[1m8/8\u001b[0m \u001b[32m━━━━━━━━━━━━━━━━━━━━\u001b[0m\u001b[37m\u001b[0m \u001b[1m1s\u001b[0m 92ms/step\n"
     ]
    },
    {
     "name": "stderr",
     "output_type": "stream",
     "text": [
      "C:\\Users\\ReCas\\anaconda3\\Lib\\site-packages\\keras\\src\\layers\\convolutional\\base_conv.py:107: UserWarning: Do not pass an `input_shape`/`input_dim` argument to a layer. When using Sequential models, prefer using an `Input(shape)` object as the first layer in the model instead.\n",
      "  super().__init__(activity_regularizer=activity_regularizer, **kwargs)\n"
     ]
    },
    {
     "name": "stdout",
     "output_type": "stream",
     "text": [
      "\u001b[1m8/8\u001b[0m \u001b[32m━━━━━━━━━━━━━━━━━━━━\u001b[0m\u001b[37m\u001b[0m \u001b[1m1s\u001b[0m 89ms/step\n"
     ]
    },
    {
     "name": "stderr",
     "output_type": "stream",
     "text": [
      "C:\\Users\\ReCas\\anaconda3\\Lib\\site-packages\\keras\\src\\layers\\convolutional\\base_conv.py:107: UserWarning: Do not pass an `input_shape`/`input_dim` argument to a layer. When using Sequential models, prefer using an `Input(shape)` object as the first layer in the model instead.\n",
      "  super().__init__(activity_regularizer=activity_regularizer, **kwargs)\n"
     ]
    },
    {
     "name": "stdout",
     "output_type": "stream",
     "text": [
      "\u001b[1m8/8\u001b[0m \u001b[32m━━━━━━━━━━━━━━━━━━━━\u001b[0m\u001b[37m\u001b[0m \u001b[1m1s\u001b[0m 91ms/step\n"
     ]
    },
    {
     "name": "stderr",
     "output_type": "stream",
     "text": [
      "C:\\Users\\ReCas\\anaconda3\\Lib\\site-packages\\keras\\src\\layers\\convolutional\\base_conv.py:107: UserWarning: Do not pass an `input_shape`/`input_dim` argument to a layer. When using Sequential models, prefer using an `Input(shape)` object as the first layer in the model instead.\n",
      "  super().__init__(activity_regularizer=activity_regularizer, **kwargs)\n"
     ]
    },
    {
     "name": "stdout",
     "output_type": "stream",
     "text": [
      "Processing gy:piece - Params: {'batch_size': 64, 'epochs': 20} - Mean Score (accuracy): 0.9763 - Time: 577.57 seconds\n",
      "Processing gy:force - Params: {'batch_size': 64, 'epochs': 20} - Mean Score (accuracy): 0.9959 - Time: 577.81 seconds\n",
      "Processing gy:exact_piece - Params: {'batch_size': 64, 'epochs': 20} - Mean Score (accuracy): 0.9445 - Time: 579.06 seconds\n",
      "Processing gy:country - Params: {'batch_size': 64, 'epochs': 20} - Mean Score (accuracy): 0.9567 - Time: 578.07 seconds\n",
      "\u001b[1m8/8\u001b[0m \u001b[32m━━━━━━━━━━━━━━━━━━━━\u001b[0m\u001b[37m\u001b[0m \u001b[1m1s\u001b[0m 83ms/step\n",
      "Processing gy:piece - Total time taken for image size (256, 256): 2227.58 seconds\n",
      "\n",
      "Processing gy:piece - Best Score: 0.9853061318397522\n",
      "Processing gy:piece - Best Parameters: {'batch_size': 32, 'epochs': 20}\n",
      "Processing gy:piece - Best Image Size: (256, 256)\n",
      "Processing gy:piece - Grid search results saved to C:\\Users\\ReCas\\OneDrive\\Documents\\2024_AIMachineLearning\\99_Projects\\06.DataSets_gy\\gy_piece_LeNet5_results_20240805_232608.xlsx\n",
      "Processing gy:piece - Loading and preprocessing test data\n",
      "\u001b[1m8/8\u001b[0m \u001b[32m━━━━━━━━━━━━━━━━━━━━\u001b[0m\u001b[37m\u001b[0m \u001b[1m1s\u001b[0m 60ms/step\n",
      "Processing gy:force - Total time taken for image size (256, 256): 2219.55 seconds\n",
      "\n",
      "Processing gy:force - Best Score: 0.9975510239601135\n",
      "Processing gy:force - Best Parameters: {'batch_size': 32, 'epochs': 10}\n",
      "Processing gy:force - Best Image Size: (256, 256)\n",
      "Processing gy:force - Grid search results saved to C:\\Users\\ReCas\\OneDrive\\Documents\\2024_AIMachineLearning\\99_Projects\\06.DataSets_gy\\gy_force_LeNet5_results_20240805_232623.xlsx\n",
      "Processing gy:force - Loading and preprocessing test data\n"
     ]
    },
    {
     "name": "stderr",
     "output_type": "stream",
     "text": [
      "C:\\Users\\ReCas\\anaconda3\\Lib\\site-packages\\keras\\src\\layers\\convolutional\\base_conv.py:107: UserWarning: Do not pass an `input_shape`/`input_dim` argument to a layer. When using Sequential models, prefer using an `Input(shape)` object as the first layer in the model instead.\n",
      "  super().__init__(activity_regularizer=activity_regularizer, **kwargs)\n"
     ]
    },
    {
     "name": "stdout",
     "output_type": "stream",
     "text": [
      "\u001b[1m8/8\u001b[0m \u001b[32m━━━━━━━━━━━━━━━━━━━━\u001b[0m\u001b[37m\u001b[0m \u001b[1m1s\u001b[0m 75ms/step\n",
      "Processing gy:exact_piece - Total time taken for image size (256, 256): 2238.13 seconds\n",
      "\n",
      "Processing gy:exact_piece - Best Score: 0.9444897890090942\n",
      "Processing gy:exact_piece - Best Parameters: {'batch_size': 64, 'epochs': 20}\n",
      "Processing gy:exact_piece - Best Image Size: (256, 256)\n",
      "Processing gy:exact_piece - Grid search results saved to C:\\Users\\ReCas\\OneDrive\\Documents\\2024_AIMachineLearning\\99_Projects\\06.DataSets_gy\\gy_exact_piece_LeNet5_results_20240805_232645.xlsx\n",
      "Processing gy:exact_piece - Loading and preprocessing test data\n",
      "\u001b[1m8/8\u001b[0m \u001b[32m━━━━━━━━━━━━━━━━━━━━\u001b[0m\u001b[37m\u001b[0m \u001b[1m1s\u001b[0m 53ms/step\n",
      "Processing gy:country - Total time taken for image size (256, 256): 2242.42 seconds\n",
      "\n",
      "Processing gy:country - Best Score: 0.9567346930503845\n",
      "Processing gy:country - Best Parameters: {'batch_size': 32, 'epochs': 20}\n",
      "Processing gy:country - Best Image Size: (128, 128)\n",
      "Processing gy:country - Grid search results saved to C:\\Users\\ReCas\\OneDrive\\Documents\\2024_AIMachineLearning\\99_Projects\\06.DataSets_gy\\gy_country_LeNet5_results_20240805_232651.xlsx\n",
      "Processing gy:country - Loading and preprocessing test data\n"
     ]
    },
    {
     "name": "stderr",
     "output_type": "stream",
     "text": [
      "C:\\Users\\ReCas\\anaconda3\\Lib\\site-packages\\keras\\src\\layers\\convolutional\\base_conv.py:107: UserWarning: Do not pass an `input_shape`/`input_dim` argument to a layer. When using Sequential models, prefer using an `Input(shape)` object as the first layer in the model instead.\n",
      "  super().__init__(activity_regularizer=activity_regularizer, **kwargs)\n"
     ]
    },
    {
     "name": "stdout",
     "output_type": "stream",
     "text": [
      "\u001b[1m10/10\u001b[0m \u001b[32m━━━━━━━━━━━━━━━━━━━━\u001b[0m\u001b[37m\u001b[0m \u001b[1m1s\u001b[0m 77ms/step\n",
      "Processing gy:force - Test Accuracy: 0.8824\n",
      "Processing gy:force - Time taken for final training: 67.19 seconds\n",
      "Processing gy:force - Time taken for final prediction: 1.51 seconds\n",
      "Processing gy:force - Test Classification Report:\n",
      "              precision    recall  f1-score   support\n",
      "\n",
      "         AIR       0.86      0.72      0.78        68\n",
      "         LND       0.98      0.76      0.86        68\n",
      "         SEA       0.86      0.99      0.92       170\n",
      "\n",
      "    accuracy                           0.88       306\n",
      "   macro avg       0.90      0.83      0.86       306\n",
      "weighted avg       0.89      0.88      0.88       306\n",
      "\n",
      "Processing gy:force - Test Confusion Matrix:\n",
      "[[ 49   0  19]\n",
      " [  8  52   8]\n",
      " [  0   1 169]]\n",
      "Processing gy:force - Ended at 2024-08-05 23:27:54.601513\n",
      "Processing gy:force - Total duration: 0:50:23.332281\n",
      "Processing gy:force - Best Parameters identified from the grid search: {'batch_size': 32, 'epochs': 10}\n",
      "Processing gy:force - Best Image Size identified from the grid search: (256, 256)\n",
      "Processing gy:force - Final test results saved to C:\\Users\\ReCas\\OneDrive\\Documents\\2024_AIMachineLearning\\99_Projects\\06.DataSets_gy\\gy_force_LeNet5_results_20240805_232623.xlsx\n",
      "\u001b[1m10/10\u001b[0m \u001b[32m━━━━━━━━━━━━━━━━━━━━\u001b[0m\u001b[37m\u001b[0m \u001b[1m0s\u001b[0m 40ms/step\n",
      "Processing gy:country - Test Accuracy: 0.8007\n",
      "Processing gy:country - Time taken for final training: 56.96 seconds\n",
      "Processing gy:country - Time taken for final prediction: 0.67 seconds\n",
      "Processing gy:country - Test Classification Report:\n",
      "              precision    recall  f1-score   support\n",
      "\n",
      "      100RUS       0.82      0.74      0.78        61\n",
      "      200GER       0.78      0.85      0.81        61\n",
      "       300UK       0.82      0.97      0.89        61\n",
      "      400JAP       0.79      0.73      0.76        62\n",
      "      500USA       0.80      0.72      0.76        61\n",
      "\n",
      "    accuracy                           0.80       306\n",
      "   macro avg       0.80      0.80      0.80       306\n",
      "weighted avg       0.80      0.80      0.80       306\n",
      "\n",
      "Processing gy:country - Test Confusion Matrix:\n",
      "[[45 15  0  0  1]\n",
      " [ 8 52  0  0  1]\n",
      " [ 0  0 59  2  0]\n",
      " [ 0  0  8 45  9]\n",
      " [ 2  0  5 10 44]]\n",
      "Processing gy:country - Ended at 2024-08-05 23:28:08.705830\n",
      "Processing gy:country - Total duration: 0:50:37.437598\n",
      "Processing gy:country - Best Parameters identified from the grid search: {'batch_size': 32, 'epochs': 20}\n",
      "Processing gy:country - Best Image Size identified from the grid search: (128, 128)\n",
      "Processing gy:country - Final test results saved to C:\\Users\\ReCas\\OneDrive\\Documents\\2024_AIMachineLearning\\99_Projects\\06.DataSets_gy\\gy_country_LeNet5_results_20240805_232651.xlsx\n",
      "\u001b[1m10/10\u001b[0m \u001b[32m━━━━━━━━━━━━━━━━━━━━\u001b[0m\u001b[37m\u001b[0m \u001b[1m0s\u001b[0m 36ms/step\n",
      "Processing gy:piece - Test Accuracy: 0.6895\n",
      "Processing gy:piece - Time taken for final training: 115.88 seconds\n",
      "Processing gy:piece - Time taken for final prediction: 0.76 seconds\n",
      "Processing gy:piece - Test Classification Report:\n",
      "              precision    recall  f1-score   support\n",
      "\n",
      "       01INF       0.90      0.76      0.83        34\n",
      "       02TNK       0.75      0.71      0.73        34\n",
      "       03FGT       0.79      0.76      0.78        34\n",
      "       04BMB       0.75      0.62      0.68        34\n",
      "       05DES       0.45      0.44      0.45        34\n",
      "       06TRS       0.72      0.53      0.61        34\n",
      "       07SUB       0.86      0.53      0.65        34\n",
      "       08BAT       0.74      0.85      0.79        34\n",
      "       09CAR       0.52      1.00      0.68        34\n",
      "\n",
      "    accuracy                           0.69       306\n",
      "   macro avg       0.72      0.69      0.69       306\n",
      "weighted avg       0.72      0.69      0.69       306\n",
      "\n",
      "Processing gy:piece - Test Confusion Matrix:\n",
      "[[26  5  0  1  0  0  0  2  0]\n",
      " [ 3 24  5  1  0  0  0  0  1]\n",
      " [ 0  2 26  2  3  0  0  0  1]\n",
      " [ 0  0  1 21 12  0  0  0  0]\n",
      " [ 0  0  1  3 15  4  3  1  7]\n",
      " [ 0  0  0  0  2 18  0  5  9]\n",
      " [ 0  1  0  0  1  3 18  2  9]\n",
      " [ 0  0  0  0  0  0  0 29  5]\n",
      " [ 0  0  0  0  0  0  0  0 34]]\n",
      "Processing gy:piece - Ended at 2024-08-05 23:28:25.762204\n",
      "Processing gy:piece - Total duration: 0:50:54.492972\n",
      "Processing gy:piece - Best Parameters identified from the grid search: {'batch_size': 32, 'epochs': 20}\n",
      "Processing gy:piece - Best Image Size identified from the grid search: (256, 256)\n",
      "Processing gy:piece - Final test results saved to C:\\Users\\ReCas\\OneDrive\\Documents\\2024_AIMachineLearning\\99_Projects\\06.DataSets_gy\\gy_piece_LeNet5_results_20240805_232608.xlsx\n",
      "\u001b[1m10/10\u001b[0m \u001b[32m━━━━━━━━━━━━━━━━━━━━\u001b[0m\u001b[37m\u001b[0m \u001b[1m0s\u001b[0m 25ms/step\n",
      "Processing gy:exact_piece - Test Accuracy: 0.1242\n",
      "Processing gy:exact_piece - Time taken for final training: 94.86 seconds\n",
      "Processing gy:exact_piece - Time taken for final prediction: 0.40 seconds\n",
      "Processing gy:exact_piece - Test Classification Report:\n",
      "                  precision    recall  f1-score   support\n",
      "\n",
      "101_100RUS_01INF       0.67      0.29      0.40         7\n",
      "102_100RUS_02TNK       0.00      0.00      0.00         7\n",
      "103_100RUS_03FGT       0.00      0.00      0.00         7\n",
      "104_100RUS_04BMB       0.06      0.14      0.09         7\n",
      "105_100RUS_05DES       0.00      0.00      0.00         6\n",
      "106_100RUS_06TRS       0.33      0.14      0.20         7\n",
      "107_100RUS_07SUB       1.00      0.29      0.44         7\n",
      "108_100RUS_08BAT       0.09      0.86      0.16         7\n",
      "109_100RUS_09CAR       0.03      0.33      0.06         6\n",
      "201_200GER_01INF       0.00      0.00      0.00         7\n",
      "202_200GER_02TNK       0.25      0.29      0.27         7\n",
      "203_200GER_03FGT       1.00      0.29      0.44         7\n",
      "204_200GER_04BMB       0.13      0.67      0.22         6\n",
      "205_200GER_05DES       0.00      0.00      0.00         7\n",
      "206_200GER_06TRS       0.50      0.14      0.22         7\n",
      "207_200GER_07SUB       0.14      0.14      0.14         7\n",
      "208_200GER_08BAT       0.18      0.71      0.29         7\n",
      "209_200GER_09CAR       0.33      0.71      0.45         7\n",
      " 301_300UK_01INF       0.00      0.00      0.00         7\n",
      " 302_300UK_02TNK       0.00      0.00      0.00         7\n",
      " 303_300UK_03FGT       0.00      0.00      0.00         7\n",
      " 304_300UK_04BMB       0.00      0.00      0.00         7\n",
      " 305_300UK_05DES       0.00      0.00      0.00         7\n",
      " 306_300UK_06TRS       0.00      0.00      0.00         7\n",
      " 307_300UK_07SUB       1.00      0.14      0.25         7\n",
      " 308_300UK_08BAT       0.00      0.00      0.00         6\n",
      " 309_300UK_09CAR       0.00      0.00      0.00         6\n",
      "401_400JAP_01INF       0.00      0.00      0.00         7\n",
      "402_400JAP_02TNK       0.00      0.00      0.00         7\n",
      "403_400JAP_03FGT       0.00      0.00      0.00         7\n",
      "404_400JAP_04BMB       0.00      0.00      0.00         7\n",
      "405_400JAP_05DES       0.00      0.00      0.00         7\n",
      "406_400JAP_06TRS       0.00      0.00      0.00         7\n",
      "407_400JAP_07SUB       0.00      0.00      0.00         7\n",
      "408_400JAP_08BAT       0.00      0.00      0.00         7\n",
      "409_400JAP_09CAR       0.04      0.17      0.06         6\n",
      "501_500USA_01INF       0.00      0.00      0.00         7\n",
      "502_500USA_02TNK       0.00      0.00      0.00         7\n",
      "503_500USA_03FGT       0.00      0.00      0.00         7\n",
      "504_500USA_04BMB       0.00      0.00      0.00         6\n",
      "505_500USA_05DES       0.00      0.00      0.00         7\n",
      "506_500USA_06TRS       0.00      0.00      0.00         6\n",
      "507_500USA_07SUB       0.00      0.00      0.00         7\n",
      "508_500USA_08BAT       0.17      0.33      0.22         6\n",
      "509_500USA_09CAR       0.00      0.00      0.00         7\n",
      "\n",
      "        accuracy                           0.12       306\n",
      "       macro avg       0.13      0.13      0.09       306\n",
      "    weighted avg       0.13      0.12      0.09       306\n",
      "\n",
      "Processing gy:exact_piece - Test Confusion Matrix:\n",
      "[[2 0 0 ... 0 0 0]\n",
      " [0 0 0 ... 0 0 0]\n",
      " [0 0 0 ... 0 0 0]\n",
      " ...\n",
      " [0 0 0 ... 0 1 0]\n",
      " [0 0 0 ... 0 2 0]\n",
      " [0 0 0 ... 0 0 0]]\n"
     ]
    },
    {
     "name": "stderr",
     "output_type": "stream",
     "text": [
      "C:\\Users\\ReCas\\anaconda3\\Lib\\site-packages\\sklearn\\metrics\\_classification.py:1531: UndefinedMetricWarning: Precision is ill-defined and being set to 0.0 in labels with no predicted samples. Use `zero_division` parameter to control this behavior.\n",
      "  _warn_prf(average, modifier, f\"{metric.capitalize()} is\", len(result))\n",
      "C:\\Users\\ReCas\\anaconda3\\Lib\\site-packages\\sklearn\\metrics\\_classification.py:1531: UndefinedMetricWarning: Precision is ill-defined and being set to 0.0 in labels with no predicted samples. Use `zero_division` parameter to control this behavior.\n",
      "  _warn_prf(average, modifier, f\"{metric.capitalize()} is\", len(result))\n",
      "C:\\Users\\ReCas\\anaconda3\\Lib\\site-packages\\sklearn\\metrics\\_classification.py:1531: UndefinedMetricWarning: Precision is ill-defined and being set to 0.0 in labels with no predicted samples. Use `zero_division` parameter to control this behavior.\n",
      "  _warn_prf(average, modifier, f\"{metric.capitalize()} is\", len(result))\n",
      "C:\\Users\\ReCas\\anaconda3\\Lib\\site-packages\\sklearn\\metrics\\_classification.py:1531: UndefinedMetricWarning: Precision is ill-defined and being set to 0.0 in labels with no predicted samples. Use `zero_division` parameter to control this behavior.\n",
      "  _warn_prf(average, modifier, f\"{metric.capitalize()} is\", len(result))\n",
      "C:\\Users\\ReCas\\anaconda3\\Lib\\site-packages\\sklearn\\metrics\\_classification.py:1531: UndefinedMetricWarning: Precision is ill-defined and being set to 0.0 in labels with no predicted samples. Use `zero_division` parameter to control this behavior.\n",
      "  _warn_prf(average, modifier, f\"{metric.capitalize()} is\", len(result))\n",
      "C:\\Users\\ReCas\\anaconda3\\Lib\\site-packages\\sklearn\\metrics\\_classification.py:1531: UndefinedMetricWarning: Precision is ill-defined and being set to 0.0 in labels with no predicted samples. Use `zero_division` parameter to control this behavior.\n",
      "  _warn_prf(average, modifier, f\"{metric.capitalize()} is\", len(result))\n",
      "C:\\Users\\ReCas\\anaconda3\\Lib\\site-packages\\sklearn\\metrics\\_classification.py:1531: UndefinedMetricWarning: Precision is ill-defined and being set to 0.0 in labels with no predicted samples. Use `zero_division` parameter to control this behavior.\n",
      "  _warn_prf(average, modifier, f\"{metric.capitalize()} is\", len(result))\n",
      "C:\\Users\\ReCas\\anaconda3\\Lib\\site-packages\\sklearn\\metrics\\_classification.py:1531: UndefinedMetricWarning: Precision is ill-defined and being set to 0.0 in labels with no predicted samples. Use `zero_division` parameter to control this behavior.\n",
      "  _warn_prf(average, modifier, f\"{metric.capitalize()} is\", len(result))\n",
      "C:\\Users\\ReCas\\anaconda3\\Lib\\site-packages\\sklearn\\metrics\\_classification.py:1531: UndefinedMetricWarning: Precision is ill-defined and being set to 0.0 in labels with no predicted samples. Use `zero_division` parameter to control this behavior.\n",
      "  _warn_prf(average, modifier, f\"{metric.capitalize()} is\", len(result))\n"
     ]
    },
    {
     "name": "stdout",
     "output_type": "stream",
     "text": [
      "Processing gy:exact_piece - Ended at 2024-08-05 23:28:47.268125\n",
      "Processing gy:exact_piece - Total duration: 0:51:15.999893\n",
      "Processing gy:exact_piece - Best Parameters identified from the grid search: {'batch_size': 64, 'epochs': 20}\n",
      "Processing gy:exact_piece - Best Image Size identified from the grid search: (256, 256)\n",
      "Processing gy:exact_piece - Final test results saved to C:\\Users\\ReCas\\OneDrive\\Documents\\2024_AIMachineLearning\\99_Projects\\06.DataSets_gy\\gy_exact_piece_LeNet5_results_20240805_232645.xlsx\n",
      "Overall processing ended at 2024-08-05 23:28:47.422871\n",
      "Total duration for all models: 0:51:16.155638\n"
     ]
    }
   ],
   "source": [
    "import os\n",
    "import numpy as np\n",
    "import cv2\n",
    "import time\n",
    "import pandas as pd\n",
    "from sklearn.model_selection import KFold, train_test_split\n",
    "from sklearn.metrics import classification_report, confusion_matrix, accuracy_score\n",
    "from datetime import datetime\n",
    "import concurrent.futures\n",
    "import tensorflow as tf\n",
    "from tensorflow.keras.models import Sequential\n",
    "from tensorflow.keras.layers import Conv2D, MaxPooling2D, Flatten, Dense\n",
    "from tensorflow.keras.utils import to_categorical\n",
    "\n",
    "# Function to load and preprocess images\n",
    "def load_images_from_folder(folder, target_size):\n",
    "    images = []\n",
    "    labels = []\n",
    "    class_names = os.listdir(folder)\n",
    "    filenames = []\n",
    "    for label, class_name in enumerate(class_names):\n",
    "        class_folder = os.path.join(folder, class_name)\n",
    "        for filename in os.listdir(class_folder):\n",
    "            img_path = os.path.join(class_folder, filename)\n",
    "            img = cv2.imread(img_path, cv2.IMREAD_UNCHANGED)\n",
    "            if img is not None:\n",
    "                if len(img.shape) == 2:  # Grayscale image\n",
    "                    img = cv2.cvtColor(img, cv2.COLOR_GRAY2RGB)\n",
    "                elif img.shape[2] == 4:  # 4-channel image (e.g., RGBA)\n",
    "                    img = img[:, :, :3]  # Discard the alpha channel\n",
    "\n",
    "                img = cv2.resize(img, target_size)  # Resize to target_size\n",
    "                images.append(img)\n",
    "                labels.append(label)\n",
    "                filenames.append(filename)\n",
    "    return np.array(images), np.array(labels), class_names, filenames\n",
    "\n",
    "# Function to preprocess images for neural network\n",
    "def preprocess_images(X, target_size):\n",
    "    X_resized = []\n",
    "    for img in X:\n",
    "        img_resized = cv2.resize(img, target_size)\n",
    "        X_resized.append(img_resized)\n",
    "    X_resized = np.array(X_resized).astype('float32') / 255.0\n",
    "    return X_resized\n",
    "\n",
    "# Define LeNet-5 model\n",
    "def create_lenet5(input_shape, num_classes):\n",
    "    model = Sequential()\n",
    "    model.add(Conv2D(6, (5, 5), activation='relu', input_shape=input_shape, padding='same'))\n",
    "    model.add(MaxPooling2D(pool_size=(2, 2)))\n",
    "    model.add(Conv2D(16, (5, 5), activation='relu', padding='same'))\n",
    "    model.add(MaxPooling2D(pool_size=(2, 2)))\n",
    "    model.add(Flatten())\n",
    "    model.add(Dense(120, activation='relu'))\n",
    "    model.add(Dense(84, activation='relu'))\n",
    "    model.add(Dense(num_classes, activation='softmax'))\n",
    "    model.compile(optimizer='adam', loss='categorical_crossentropy', metrics=['accuracy'])\n",
    "    return model\n",
    "\n",
    "# Define parameter grid for GridSearch\n",
    "param_grid = {\n",
    "    'batch_size': [32, 64],\n",
    "    'epochs': [10, 20]\n",
    "}\n",
    "\n",
    "image_sizes = [(64, 64), (128, 128), (256, 256)]\n",
    "\n",
    "def run_model(train_dataset_folder, test_dataset_folder, model_type, root_folder_suffix):\n",
    "    model_start_time = datetime.now()\n",
    "    log = []\n",
    "    log.append(f\"Processing {root_folder_suffix}:{model_type} - Started at {model_start_time}\")\n",
    "    print(f\"Processing {root_folder_suffix}:{model_type} - Started at {model_start_time}\")\n",
    "\n",
    "    log.append(f\"Processing {root_folder_suffix}:{model_type} - Loading and preprocessing training data\")\n",
    "    print(f\"Processing {root_folder_suffix}:{model_type} - Loading and preprocessing training data\")\n",
    "    start_time = time.time()\n",
    "    X_train_orig, y_train, class_names, train_filenames = load_images_from_folder(train_dataset_folder, target_size=(128, 128))\n",
    "    y_train = to_categorical(y_train, num_classes=len(class_names))\n",
    "    load_preprocess_time = time.time() - start_time\n",
    "    log.append(f\"Processing {root_folder_suffix}:{model_type} - Time taken for loading and preprocessing: {load_preprocess_time:.2f} seconds\")\n",
    "    print(f\"Processing {root_folder_suffix}:{model_type} - Time taken for loading and preprocessing: {load_preprocess_time:.2f} seconds\")\n",
    "\n",
    "    best_params = None\n",
    "    best_score = 0\n",
    "    best_target_size = None\n",
    "    best_conf_matrix = None\n",
    "    best_X_train_resized = None\n",
    "\n",
    "    kf = KFold(n_splits=5, shuffle=True, random_state=42)\n",
    "\n",
    "    timing_results = []\n",
    "    cm_results = []\n",
    "\n",
    "    for target_size in image_sizes:\n",
    "        start_size_time = time.time()\n",
    "        log.append(f\"Processing {root_folder_suffix}:{model_type} - Evaluating for image size: {target_size}\")\n",
    "        print(f\"Processing {root_folder_suffix}:{model_type} - Evaluating for image size: {target_size}\")\n",
    "\n",
    "        X_train_resized = preprocess_images(X_train_orig, target_size)\n",
    "        input_shape = (target_size[0], target_size[1], 3)\n",
    "\n",
    "        for batch_size in param_grid['batch_size']:\n",
    "            for epochs in param_grid['epochs']:\n",
    "                params = {\n",
    "                    'batch_size': batch_size,\n",
    "                    'epochs': epochs\n",
    "                }\n",
    "\n",
    "                lenet5 = create_lenet5(input_shape, len(class_names))\n",
    "\n",
    "                start_grid_item_time = time.time()\n",
    "                scores = []\n",
    "\n",
    "                for train_index, val_index in kf.split(X_train_resized):\n",
    "                    X_train_fold, X_val_fold = X_train_resized[train_index], X_train_resized[val_index]\n",
    "                    y_train_fold, y_val_fold = y_train[train_index], y_train[val_index]\n",
    "\n",
    "                    lenet5.fit(X_train_fold, y_train_fold, batch_size=batch_size, epochs=epochs, verbose=0)\n",
    "                    score = lenet5.evaluate(X_val_fold, y_val_fold, verbose=0)[1]\n",
    "                    scores.append(score)\n",
    "\n",
    "                mean_score = np.mean(scores)\n",
    "                grid_item_time = time.time() - start_grid_item_time\n",
    "\n",
    "                timing_results.append({\n",
    "                    'image_size': target_size,\n",
    "                    'batch_size': batch_size,\n",
    "                    'epochs': epochs,\n",
    "                    'mean_score': mean_score,\n",
    "                    'time': grid_item_time,\n",
    "                    'scoring_metric': 'accuracy'\n",
    "                })\n",
    "\n",
    "                log.append(f\"Processing {root_folder_suffix}:{model_type} - Params: {params} - Mean Score (accuracy): {mean_score:.4f} - Time: {grid_item_time:.2f} seconds\")\n",
    "                print(f\"Processing {root_folder_suffix}:{model_type} - Params: {params} - Mean Score (accuracy): {mean_score:.4f} - Time: {grid_item_time:.2f} seconds\")\n",
    "\n",
    "                X_train_split, X_valid_split, y_train_split, y_valid_split = train_test_split(X_train_resized, y_train, test_size=0.2, random_state=42)\n",
    "                lenet5.fit(X_train_split, y_train_split, batch_size=batch_size, epochs=epochs, verbose=0)\n",
    "                y_valid_pred = np.argmax(lenet5.predict(X_valid_split), axis=1)\n",
    "                y_valid_true = np.argmax(y_valid_split, axis=1)\n",
    "                cm = confusion_matrix(y_valid_true, y_valid_pred)\n",
    "                cm_results.append({\n",
    "                    'image_size': target_size,\n",
    "                    'params': params,\n",
    "                    'confusion_matrix': cm\n",
    "                })\n",
    "\n",
    "                if mean_score > best_score:\n",
    "                    best_score = mean_score\n",
    "                    best_params = params\n",
    "                    best_target_size = target_size\n",
    "                    best_conf_matrix = cm\n",
    "                    best_X_train_resized = X_train_resized\n",
    "\n",
    "        size_time = time.time() - start_size_time\n",
    "        log.append(f\"Processing {root_folder_suffix}:{model_type} - Total time taken for image size {target_size}: {size_time:.2f} seconds\\n\")\n",
    "        print(f\"Processing {root_folder_suffix}:{model_type} - Total time taken for image size {target_size}: {size_time:.2f} seconds\\n\")\n",
    "\n",
    "    log.append(f\"Processing {root_folder_suffix}:{model_type} - Best Score: {best_score}\")\n",
    "    log.append(f\"Processing {root_folder_suffix}:{model_type} - Best Parameters: {best_params}\")\n",
    "    log.append(f\"Processing {root_folder_suffix}:{model_type} - Best Image Size: {best_target_size}\")\n",
    "    print(f\"Processing {root_folder_suffix}:{model_type} - Best Score: {best_score}\")\n",
    "    print(f\"Processing {root_folder_suffix}:{model_type} - Best Parameters: {best_params}\")\n",
    "    print(f\"Processing {root_folder_suffix}:{model_type} - Best Image Size: {best_target_size}\")\n",
    "\n",
    "    timestamp = datetime.now().strftime(\"%Y%m%d_%H%M%S\")\n",
    "    result_folder = os.path.dirname(train_dataset_folder)\n",
    "    file_path = os.path.join(result_folder, f\"{root_folder_suffix}_{model_type}_LeNet5_results_{timestamp}.xlsx\")\n",
    "\n",
    "    with pd.ExcelWriter(file_path, engine='xlsxwriter') as writer:\n",
    "        best_params_df = pd.DataFrame([best_params])\n",
    "        best_params_df['image_size'] = [best_target_size]\n",
    "        best_params_df.to_excel(writer, sheet_name='Best_Parameters', index=False)\n",
    "\n",
    "        timing_df = pd.DataFrame(timing_results)\n",
    "        timing_df.to_excel(writer, sheet_name='Timing_Results', index=False)\n",
    "\n",
    "        cm_data = []\n",
    "        for cm_result in cm_results:\n",
    "            for i in range(len(class_names)):\n",
    "                for j in range(len(class_names)):\n",
    "                    cm_data.append({\n",
    "                        'image_size': cm_result['image_size'],\n",
    "                        'params': cm_result['params'],\n",
    "                        'true_class': class_names[i],\n",
    "                        'predicted_class': class_names[j],\n",
    "                        'count': cm_result['confusion_matrix'][i, j]\n",
    "                    })\n",
    "        cm_df = pd.DataFrame(cm_data)\n",
    "        cm_df.to_excel(writer, sheet_name='Confusion_Matrices', index=False)\n",
    "\n",
    "    log.append(f\"Processing {root_folder_suffix}:{model_type} - Grid search results saved to {file_path}\")\n",
    "    print(f\"Processing {root_folder_suffix}:{model_type} - Grid search results saved to {file_path}\")\n",
    "\n",
    "    log.append(f\"Processing {root_folder_suffix}:{model_type} - Loading and preprocessing test data\")\n",
    "    print(f\"Processing {root_folder_suffix}:{model_type} - Loading and preprocessing test data\")\n",
    "    X_test_orig, y_test, _, test_filenames = load_images_from_folder(test_dataset_folder, target_size=best_target_size)\n",
    "    y_test = to_categorical(y_test, num_classes=len(class_names))\n",
    "\n",
    "    X_test_resized = preprocess_images(X_test_orig, best_target_size)\n",
    "\n",
    "    start_time = time.time()\n",
    "    final_model = create_lenet5((best_target_size[0], best_target_size[1], 3), len(class_names))\n",
    "    final_model.fit(best_X_train_resized, y_train, batch_size=best_params['batch_size'], epochs=best_params['epochs'], verbose=0)\n",
    "    train_time = time.time() - start_time\n",
    "\n",
    "    start_time = time.time()\n",
    "    y_test_pred = np.argmax(final_model.predict(X_test_resized), axis=1)\n",
    "    y_test_true = np.argmax(y_test, axis=1)\n",
    "    predict_time = time.time() - start_time\n",
    "\n",
    "    test_accuracy = accuracy_score(y_test_true, y_test_pred)\n",
    "    log.append(f\"Processing {root_folder_suffix}:{model_type} - Test Accuracy: {test_accuracy:.4f}\")\n",
    "    log.append(f\"Processing {root_folder_suffix}:{model_type} - Time taken for final training: {train_time:.2f} seconds\")\n",
    "    log.append(f\"Processing {root_folder_suffix}:{model_type} - Time taken for final prediction: {predict_time:.2f} seconds\")\n",
    "    log.append(f\"Processing {root_folder_suffix}:{model_type} - Test Classification Report:\\n{classification_report(y_test_true, y_test_pred, target_names=class_names)}\")\n",
    "    log.append(f\"Processing {root_folder_suffix}:{model_type} - Test Confusion Matrix:\\n{confusion_matrix(y_test_true, y_test_pred)}\")\n",
    "    print(f\"Processing {root_folder_suffix}:{model_type} - Test Accuracy: {test_accuracy:.4f}\")\n",
    "    print(f\"Processing {root_folder_suffix}:{model_type} - Time taken for final training: {train_time:.2f} seconds\")\n",
    "    print(f\"Processing {root_folder_suffix}:{model_type} - Time taken for final prediction: {predict_time:.2f} seconds\")\n",
    "    print(f\"Processing {root_folder_suffix}:{model_type} - Test Classification Report:\\n{classification_report(y_test_true, y_test_pred, target_names=class_names)}\")\n",
    "    print(f\"Processing {root_folder_suffix}:{model_type} - Test Confusion Matrix:\\n{confusion_matrix(y_test_true, y_test_pred)}\")\n",
    "\n",
    "    with pd.ExcelWriter(file_path, engine='openpyxl', mode='a') as writer:\n",
    "        test_report = classification_report(y_test_true, y_test_pred, target_names=class_names, output_dict=True)\n",
    "        test_report_df = pd.DataFrame(test_report).transpose()\n",
    "        test_report_df.to_excel(writer, sheet_name='Test_Classification_Report')\n",
    "\n",
    "        test_cm = confusion_matrix(y_test_true, y_test_pred)\n",
    "        test_cm_df = pd.DataFrame(test_cm, index=class_names, columns=class_names)\n",
    "        test_cm_df.to_excel(writer, sheet_name='Test_Confusion_Matrix')\n",
    "\n",
    "        predictions_df = pd.DataFrame({\n",
    "            'Filename': test_filenames,\n",
    "            'Actual': [class_names[label] for label in y_test_true],\n",
    "            'Predicted': [class_names[label] for label in y_test_pred]\n",
    "        })\n",
    "        predictions_df.to_excel(writer, sheet_name='Image_Predictions', index=False)\n",
    "\n",
    "        summary_data = {\n",
    "            'Best Score': [best_score],\n",
    "            'Best Parameters': [best_params],\n",
    "            'Best Image Size': [best_target_size],\n",
    "            'Test Accuracy': [test_accuracy],\n",
    "            'Training Time': [train_time],\n",
    "            'Prediction Time': [predict_time]\n",
    "        }\n",
    "        summary_df = pd.DataFrame(summary_data)\n",
    "        summary_df.to_excel(writer, sheet_name='Summary', index=False)\n",
    "\n",
    "        log_df = pd.DataFrame(log, columns=['Log'])\n",
    "        log_df.to_excel(writer, sheet_name='Log', index=False)\n",
    "\n",
    "    model_end_time = datetime.now()\n",
    "    log.append(f\"Processing {root_folder_suffix}:{model_type} - Ended at {model_end_time}\")\n",
    "    log.append(f\"Processing {root_folder_suffix}:{model_type} - Total duration: {model_end_time - model_start_time}\")\n",
    "    log.append(f\"Processing {root_folder_suffix}:{model_type} - Best Parameters identified from the grid search: {best_params}\")\n",
    "    log.append(f\"Processing {root_folder_suffix}:{model_type} - Best Image Size identified from the grid search: {best_target_size}\")\n",
    "    log.append(f\"Processing {root_folder_suffix}:{model_type} - Final test results saved to {file_path}\")\n",
    "    print(f\"Processing {root_folder_suffix}:{model_type} - Ended at {model_end_time}\")\n",
    "    print(f\"Processing {root_folder_suffix}:{model_type} - Total duration: {model_end_time - model_start_time}\")\n",
    "    print(f\"Processing {root_folder_suffix}:{model_type} - Best Parameters identified from the grid search: {best_params}\")\n",
    "    print(f\"Processing {root_folder_suffix}:{model_type} - Best Image Size identified from the grid search: {best_target_size}\")\n",
    "    print(f\"Processing {root_folder_suffix}:{model_type} - Final test results saved to {file_path}\")\n",
    "\n",
    "# Function to iterate over the data directories and run the model\n",
    "def run_models_for_all_datasets(root_folders):\n",
    "    overall_start_time = datetime.now()\n",
    "    print(f\"Overall processing started at {overall_start_time}\")\n",
    "\n",
    "    model_types = ['country', 'exact_piece', 'force', 'piece']\n",
    "\n",
    "    tasks = []\n",
    "\n",
    "    for root_folder in root_folders:\n",
    "        root_folder_suffix = os.path.basename(root_folder)[-2:]\n",
    "        for model_type in model_types:\n",
    "            train_folder = os.path.join(root_folder, f\"{model_type}_train\")\n",
    "            test_folder = os.path.join(root_folder, f\"{model_type}_test\")\n",
    "\n",
    "            if os.path.exists(train_folder) and os.path.exists(test_folder):\n",
    "                tasks.append((train_folder, test_folder, model_type, root_folder_suffix))\n",
    "            else:\n",
    "                print(f\"Skipping {model_type} in {root_folder} as train or test folder does not exist\")\n",
    "\n",
    "    with concurrent.futures.ThreadPoolExecutor() as executor:\n",
    "        futures = [executor.submit(run_model, train, test, model, suffix) for train, test, model, suffix in tasks]\n",
    "        for future in concurrent.futures.as_completed(futures):\n",
    "            try:\n",
    "                future.result()\n",
    "            except Exception as exc:\n",
    "                print(f\"Generated an exception: {exc}\")\n",
    "\n",
    "    overall_end_time = datetime.now()\n",
    "    print(f\"Overall processing ended at {overall_end_time}\")\n",
    "    print(f\"Total duration for all models: {overall_end_time - overall_start_time}\")\n",
    "\n",
    "root_folders = [\n",
    "    'C:\\\\Users\\\\ReCas\\\\OneDrive\\\\Documents\\\\2024_AIMachineLearning\\\\99_Projects\\\\06.DataSets_gy',\n",
    "#    'C:\\\\Users\\\\ReCas\\\\OneDrive\\\\Documents\\\\2024_AIMachineLearning\\\\99_Projects\\\\07.DataSets_or',\n",
    "#    'C:\\\\Users\\\\ReCas\\\\OneDrive\\\\Documents\\\\2024_AIMachineLearning\\\\99_Projects\\\\08.DataSets_fc'\n",
    "]\n",
    "\n",
    "run_models_for_all_datasets(root_folders)\n"
   ]
  },
  {
   "cell_type": "markdown",
   "id": "73295ce6",
   "metadata": {},
   "source": [
    "Running 06.DataSet_or ORIGINAL"
   ]
  },
  {
   "cell_type": "code",
   "execution_count": 2,
   "id": "e0f5b823",
   "metadata": {},
   "outputs": [
    {
     "name": "stdout",
     "output_type": "stream",
     "text": [
      "Overall processing started at 2024-08-05 23:31:21.364193\n",
      "Processing or:country - Started at 2024-08-05 23:31:21.366177\n",
      "Processing or:country - Loading and preprocessing training data\n",
      "Processing or:exact_piece - Started at 2024-08-05 23:31:21.366683\n",
      "Processing or:exact_piece - Loading and preprocessing training data\n",
      "Processing or:force - Started at 2024-08-05 23:31:21.366683\n",
      "Processing or:force - Loading and preprocessing training data\n",
      "Processing or:piece - Started at 2024-08-05 23:31:21.366683\n",
      "Processing or:piece - Loading and preprocessing training data\n",
      "Processing or:piece - Time taken for loading and preprocessing: 46.67 seconds\n",
      "Processing or:piece - Evaluating for image size: (64, 64)\n",
      "Processing or:country - Time taken for loading and preprocessing: 46.70 seconds\n",
      "Processing or:country - Evaluating for image size: (64, 64)\n",
      "Processing or:force - Time taken for loading and preprocessing: 46.70 seconds\n",
      "Processing or:force - Evaluating for image size: (64, 64)\n",
      "Processing or:exact_piece - Time taken for loading and preprocessing: 46.74 seconds\n",
      "Processing or:exact_piece - Evaluating for image size: (64, 64)\n"
     ]
    },
    {
     "name": "stderr",
     "output_type": "stream",
     "text": [
      "C:\\Users\\ReCas\\anaconda3\\Lib\\site-packages\\keras\\src\\layers\\convolutional\\base_conv.py:107: UserWarning: Do not pass an `input_shape`/`input_dim` argument to a layer. When using Sequential models, prefer using an `Input(shape)` object as the first layer in the model instead.\n",
      "  super().__init__(activity_regularizer=activity_regularizer, **kwargs)\n"
     ]
    },
    {
     "name": "stdout",
     "output_type": "stream",
     "text": [
      "Processing or:force - Params: {'batch_size': 32, 'epochs': 10} - Mean Score (accuracy): 0.9894 - Time: 25.35 seconds\n",
      "Processing or:exact_piece - Params: {'batch_size': 32, 'epochs': 10} - Mean Score (accuracy): 0.8000 - Time: 25.74 seconds\n",
      "Processing or:country - Params: {'batch_size': 32, 'epochs': 10} - Mean Score (accuracy): 0.8547 - Time: 26.06 seconds\n",
      "Processing or:piece - Params: {'batch_size': 32, 'epochs': 10} - Mean Score (accuracy): 0.9282 - Time: 26.20 seconds\n",
      "\u001b[1m8/8\u001b[0m \u001b[32m━━━━━━━━━━━━━━━━━━━━\u001b[0m\u001b[37m\u001b[0m \u001b[1m0s\u001b[0m 23ms/step\n",
      "\u001b[1m1/8\u001b[0m \u001b[32m━━\u001b[0m\u001b[37m━━━━━━━━━━━━━━━━━━\u001b[0m \u001b[1m1s\u001b[0m 144ms/step"
     ]
    },
    {
     "name": "stderr",
     "output_type": "stream",
     "text": [
      "C:\\Users\\ReCas\\anaconda3\\Lib\\site-packages\\keras\\src\\layers\\convolutional\\base_conv.py:107: UserWarning: Do not pass an `input_shape`/`input_dim` argument to a layer. When using Sequential models, prefer using an `Input(shape)` object as the first layer in the model instead.\n",
      "  super().__init__(activity_regularizer=activity_regularizer, **kwargs)\n"
     ]
    },
    {
     "name": "stdout",
     "output_type": "stream",
     "text": [
      "\u001b[1m8/8\u001b[0m \u001b[32m━━━━━━━━━━━━━━━━━━━━\u001b[0m\u001b[37m\u001b[0m \u001b[1m0s\u001b[0m 19ms/step\n",
      "\u001b[1m8/8\u001b[0m \u001b[32m━━━━━━━━━━━━━━━━━━━━\u001b[0m\u001b[37m\u001b[0m \u001b[1m0s\u001b[0m 15ms/step\n",
      "\u001b[1m8/8\u001b[0m \u001b[32m━━━━━━━━━━━━━━━━━━━━\u001b[0m\u001b[37m\u001b[0m \u001b[1m0s\u001b[0m 15ms/step "
     ]
    },
    {
     "name": "stderr",
     "output_type": "stream",
     "text": [
      "C:\\Users\\ReCas\\anaconda3\\Lib\\site-packages\\keras\\src\\layers\\convolutional\\base_conv.py:107: UserWarning: Do not pass an `input_shape`/`input_dim` argument to a layer. When using Sequential models, prefer using an `Input(shape)` object as the first layer in the model instead.\n",
      "  super().__init__(activity_regularizer=activity_regularizer, **kwargs)\n"
     ]
    },
    {
     "name": "stdout",
     "output_type": "stream",
     "text": [
      "\b\b\b\b\b\b\b\b\b\b\b\b\b\b\b\b\b\b\b\b\b\b\b\b\b\b\b\b\b\b\b\b\b\b\b\b\b\r",
      "\u001b[1m8/8\u001b[0m \u001b[32m━━━━━━━━━━━━━━━━━━━━\u001b[0m\u001b[37m\u001b[0m \u001b[1m0s\u001b[0m 15ms/step\n"
     ]
    },
    {
     "name": "stderr",
     "output_type": "stream",
     "text": [
      "C:\\Users\\ReCas\\anaconda3\\Lib\\site-packages\\keras\\src\\layers\\convolutional\\base_conv.py:107: UserWarning: Do not pass an `input_shape`/`input_dim` argument to a layer. When using Sequential models, prefer using an `Input(shape)` object as the first layer in the model instead.\n",
      "  super().__init__(activity_regularizer=activity_regularizer, **kwargs)\n",
      "C:\\Users\\ReCas\\anaconda3\\Lib\\site-packages\\keras\\src\\layers\\convolutional\\base_conv.py:107: UserWarning: Do not pass an `input_shape`/`input_dim` argument to a layer. When using Sequential models, prefer using an `Input(shape)` object as the first layer in the model instead.\n",
      "  super().__init__(activity_regularizer=activity_regularizer, **kwargs)\n"
     ]
    },
    {
     "name": "stdout",
     "output_type": "stream",
     "text": [
      "Processing or:force - Params: {'batch_size': 32, 'epochs': 20} - Mean Score (accuracy): 0.9943 - Time: 39.75 seconds\n",
      "Processing or:exact_piece - Params: {'batch_size': 32, 'epochs': 20} - Mean Score (accuracy): 0.8710 - Time: 40.19 seconds\n",
      "Processing or:piece - Params: {'batch_size': 32, 'epochs': 20} - Mean Score (accuracy): 0.9698 - Time: 40.35 seconds\n",
      "Processing or:country - Params: {'batch_size': 32, 'epochs': 20} - Mean Score (accuracy): 0.9780 - Time: 40.87 seconds\n",
      "\u001b[1m8/8\u001b[0m \u001b[32m━━━━━━━━━━━━━━━━━━━━\u001b[0m\u001b[37m\u001b[0m \u001b[1m0s\u001b[0m 17ms/step\n"
     ]
    },
    {
     "name": "stderr",
     "output_type": "stream",
     "text": [
      "C:\\Users\\ReCas\\anaconda3\\Lib\\site-packages\\keras\\src\\layers\\convolutional\\base_conv.py:107: UserWarning: Do not pass an `input_shape`/`input_dim` argument to a layer. When using Sequential models, prefer using an `Input(shape)` object as the first layer in the model instead.\n",
      "  super().__init__(activity_regularizer=activity_regularizer, **kwargs)\n"
     ]
    },
    {
     "name": "stdout",
     "output_type": "stream",
     "text": [
      "\u001b[1m8/8\u001b[0m \u001b[32m━━━━━━━━━━━━━━━━━━━━\u001b[0m\u001b[37m\u001b[0m \u001b[1m0s\u001b[0m 22ms/step\n",
      "\u001b[1m6/8\u001b[0m \u001b[32m━━━━━━━━━━━━━━━\u001b[0m\u001b[37m━━━━━\u001b[0m \u001b[1m0s\u001b[0m 11ms/step "
     ]
    },
    {
     "name": "stderr",
     "output_type": "stream",
     "text": [
      "C:\\Users\\ReCas\\anaconda3\\Lib\\site-packages\\keras\\src\\layers\\convolutional\\base_conv.py:107: UserWarning: Do not pass an `input_shape`/`input_dim` argument to a layer. When using Sequential models, prefer using an `Input(shape)` object as the first layer in the model instead.\n",
      "  super().__init__(activity_regularizer=activity_regularizer, **kwargs)\n"
     ]
    },
    {
     "name": "stdout",
     "output_type": "stream",
     "text": [
      "\u001b[1m8/8\u001b[0m \u001b[32m━━━━━━━━━━━━━━━━━━━━\u001b[0m\u001b[37m\u001b[0m \u001b[1m0s\u001b[0m 23ms/step\n",
      "\u001b[1m8/8\u001b[0m \u001b[32m━━━━━━━━━━━━━━━━━━━━\u001b[0m\u001b[37m\u001b[0m \u001b[1m0s\u001b[0m 27ms/step\n"
     ]
    },
    {
     "name": "stderr",
     "output_type": "stream",
     "text": [
      "C:\\Users\\ReCas\\anaconda3\\Lib\\site-packages\\keras\\src\\layers\\convolutional\\base_conv.py:107: UserWarning: Do not pass an `input_shape`/`input_dim` argument to a layer. When using Sequential models, prefer using an `Input(shape)` object as the first layer in the model instead.\n",
      "  super().__init__(activity_regularizer=activity_regularizer, **kwargs)\n",
      "C:\\Users\\ReCas\\anaconda3\\Lib\\site-packages\\keras\\src\\layers\\convolutional\\base_conv.py:107: UserWarning: Do not pass an `input_shape`/`input_dim` argument to a layer. When using Sequential models, prefer using an `Input(shape)` object as the first layer in the model instead.\n",
      "  super().__init__(activity_regularizer=activity_regularizer, **kwargs)\n"
     ]
    },
    {
     "name": "stdout",
     "output_type": "stream",
     "text": [
      "Processing or:force - Params: {'batch_size': 64, 'epochs': 10} - Mean Score (accuracy): 0.9706 - Time: 19.58 seconds\n",
      "Processing or:piece - Params: {'batch_size': 64, 'epochs': 10} - Mean Score (accuracy): 0.8841 - Time: 21.04 seconds\n",
      "\u001b[1m8/8\u001b[0m \u001b[32m━━━━━━━━━━━━━━━━━━━━\u001b[0m\u001b[37m\u001b[0m \u001b[1m0s\u001b[0m 17ms/step\n",
      "Processing or:exact_piece - Params: {'batch_size': 64, 'epochs': 10} - Mean Score (accuracy): 0.6636 - Time: 21.22 seconds\n"
     ]
    },
    {
     "name": "stderr",
     "output_type": "stream",
     "text": [
      "C:\\Users\\ReCas\\anaconda3\\Lib\\site-packages\\keras\\src\\layers\\convolutional\\base_conv.py:107: UserWarning: Do not pass an `input_shape`/`input_dim` argument to a layer. When using Sequential models, prefer using an `Input(shape)` object as the first layer in the model instead.\n",
      "  super().__init__(activity_regularizer=activity_regularizer, **kwargs)\n"
     ]
    },
    {
     "name": "stdout",
     "output_type": "stream",
     "text": [
      "Processing or:country - Params: {'batch_size': 64, 'epochs': 10} - Mean Score (accuracy): 0.8939 - Time: 21.91 seconds\n",
      "\u001b[1m8/8\u001b[0m \u001b[32m━━━━━━━━━━━━━━━━━━━━\u001b[0m\u001b[37m\u001b[0m \u001b[1m0s\u001b[0m 27ms/step\n"
     ]
    },
    {
     "name": "stderr",
     "output_type": "stream",
     "text": [
      "C:\\Users\\ReCas\\anaconda3\\Lib\\site-packages\\keras\\src\\layers\\convolutional\\base_conv.py:107: UserWarning: Do not pass an `input_shape`/`input_dim` argument to a layer. When using Sequential models, prefer using an `Input(shape)` object as the first layer in the model instead.\n",
      "  super().__init__(activity_regularizer=activity_regularizer, **kwargs)\n"
     ]
    },
    {
     "name": "stdout",
     "output_type": "stream",
     "text": [
      "\u001b[1m8/8\u001b[0m \u001b[32m━━━━━━━━━━━━━━━━━━━━\u001b[0m\u001b[37m\u001b[0m \u001b[1m0s\u001b[0m 18ms/step\n"
     ]
    },
    {
     "name": "stderr",
     "output_type": "stream",
     "text": [
      "C:\\Users\\ReCas\\anaconda3\\Lib\\site-packages\\keras\\src\\layers\\convolutional\\base_conv.py:107: UserWarning: Do not pass an `input_shape`/`input_dim` argument to a layer. When using Sequential models, prefer using an `Input(shape)` object as the first layer in the model instead.\n",
      "  super().__init__(activity_regularizer=activity_regularizer, **kwargs)\n"
     ]
    },
    {
     "name": "stdout",
     "output_type": "stream",
     "text": [
      "\u001b[1m8/8\u001b[0m \u001b[32m━━━━━━━━━━━━━━━━━━━━\u001b[0m\u001b[37m\u001b[0m \u001b[1m0s\u001b[0m 26ms/step\n"
     ]
    },
    {
     "name": "stderr",
     "output_type": "stream",
     "text": [
      "C:\\Users\\ReCas\\anaconda3\\Lib\\site-packages\\keras\\src\\layers\\convolutional\\base_conv.py:107: UserWarning: Do not pass an `input_shape`/`input_dim` argument to a layer. When using Sequential models, prefer using an `Input(shape)` object as the first layer in the model instead.\n",
      "  super().__init__(activity_regularizer=activity_regularizer, **kwargs)\n"
     ]
    },
    {
     "name": "stdout",
     "output_type": "stream",
     "text": [
      "Processing or:force - Params: {'batch_size': 64, 'epochs': 20} - Mean Score (accuracy): 0.9845 - Time: 36.40 seconds\n",
      "Processing or:piece - Params: {'batch_size': 64, 'epochs': 20} - Mean Score (accuracy): 0.9094 - Time: 39.48 seconds\n",
      "\u001b[1m1/8\u001b[0m \u001b[32m━━\u001b[0m\u001b[37m━━━━━━━━━━━━━━━━━━\u001b[0m \u001b[1m0s\u001b[0m 125ms/stepProcessing or:exact_piece - Params: {'batch_size': 64, 'epochs': 20} - Mean Score (accuracy): 0.8400 - Time: 40.00 seconds\n",
      "\u001b[1m8/8\u001b[0m \u001b[32m━━━━━━━━━━━━━━━━━━━━\u001b[0m\u001b[37m\u001b[0m \u001b[1m0s\u001b[0m 25ms/step\n",
      "Processing or:force - Total time taken for image size (64, 64): 143.51 seconds\n",
      "\n",
      "Processing or:force - Evaluating for image size: (128, 128)\n",
      "Processing or:country - Params: {'batch_size': 64, 'epochs': 20} - Mean Score (accuracy): 0.9641 - Time: 39.76 seconds\n"
     ]
    },
    {
     "name": "stderr",
     "output_type": "stream",
     "text": [
      "C:\\Users\\ReCas\\anaconda3\\Lib\\site-packages\\keras\\src\\layers\\convolutional\\base_conv.py:107: UserWarning: Do not pass an `input_shape`/`input_dim` argument to a layer. When using Sequential models, prefer using an `Input(shape)` object as the first layer in the model instead.\n",
      "  super().__init__(activity_regularizer=activity_regularizer, **kwargs)\n"
     ]
    },
    {
     "name": "stdout",
     "output_type": "stream",
     "text": [
      "\u001b[1m8/8\u001b[0m \u001b[32m━━━━━━━━━━━━━━━━━━━━\u001b[0m\u001b[37m\u001b[0m \u001b[1m0s\u001b[0m 28ms/step\n",
      "Processing or:piece - Total time taken for image size (64, 64): 149.14 seconds\n",
      "\n",
      "Processing or:piece - Evaluating for image size: (128, 128)\n"
     ]
    },
    {
     "name": "stderr",
     "output_type": "stream",
     "text": [
      "C:\\Users\\ReCas\\anaconda3\\Lib\\site-packages\\keras\\src\\layers\\convolutional\\base_conv.py:107: UserWarning: Do not pass an `input_shape`/`input_dim` argument to a layer. When using Sequential models, prefer using an `Input(shape)` object as the first layer in the model instead.\n",
      "  super().__init__(activity_regularizer=activity_regularizer, **kwargs)\n"
     ]
    },
    {
     "name": "stdout",
     "output_type": "stream",
     "text": [
      "\u001b[1m8/8\u001b[0m \u001b[32m━━━━━━━━━━━━━━━━━━━━\u001b[0m\u001b[37m\u001b[0m \u001b[1m0s\u001b[0m 35ms/step\n",
      "Processing or:exact_piece - Total time taken for image size (64, 64): 150.41 seconds\n",
      "\n",
      "Processing or:exact_piece - Evaluating for image size: (128, 128)\n",
      "\u001b[1m8/8\u001b[0m \u001b[32m━━━━━━━━━━━━━━━━━━━━\u001b[0m\u001b[37m\u001b[0m \u001b[1m0s\u001b[0m 21ms/step\n",
      "Processing or:country - Total time taken for image size (64, 64): 150.82 seconds\n",
      "\n",
      "Processing or:country - Evaluating for image size: (128, 128)\n"
     ]
    },
    {
     "name": "stderr",
     "output_type": "stream",
     "text": [
      "C:\\Users\\ReCas\\anaconda3\\Lib\\site-packages\\keras\\src\\layers\\convolutional\\base_conv.py:107: UserWarning: Do not pass an `input_shape`/`input_dim` argument to a layer. When using Sequential models, prefer using an `Input(shape)` object as the first layer in the model instead.\n",
      "  super().__init__(activity_regularizer=activity_regularizer, **kwargs)\n"
     ]
    },
    {
     "name": "stdout",
     "output_type": "stream",
     "text": [
      "Processing or:force - Params: {'batch_size': 32, 'epochs': 10} - Mean Score (accuracy): 0.9935 - Time: 79.68 seconds\n",
      "Processing or:piece - Params: {'batch_size': 32, 'epochs': 10} - Mean Score (accuracy): 0.9608 - Time: 83.76 seconds\n",
      "\u001b[1m8/8\u001b[0m \u001b[32m━━━━━━━━━━━━━━━━━━━━\u001b[0m\u001b[37m\u001b[0m \u001b[1m0s\u001b[0m 36ms/step\n"
     ]
    },
    {
     "name": "stderr",
     "output_type": "stream",
     "text": [
      "C:\\Users\\ReCas\\anaconda3\\Lib\\site-packages\\keras\\src\\layers\\convolutional\\base_conv.py:107: UserWarning: Do not pass an `input_shape`/`input_dim` argument to a layer. When using Sequential models, prefer using an `Input(shape)` object as the first layer in the model instead.\n",
      "  super().__init__(activity_regularizer=activity_regularizer, **kwargs)\n"
     ]
    },
    {
     "name": "stdout",
     "output_type": "stream",
     "text": [
      "Processing or:exact_piece - Params: {'batch_size': 32, 'epochs': 10} - Mean Score (accuracy): 0.8890 - Time: 89.82 seconds\n",
      "Processing or:country - Params: {'batch_size': 32, 'epochs': 10} - Mean Score (accuracy): 0.9559 - Time: 90.69 seconds\n",
      "\u001b[1m8/8\u001b[0m \u001b[32m━━━━━━━━━━━━━━━━━━━━\u001b[0m\u001b[37m\u001b[0m \u001b[1m1s\u001b[0m 47ms/step\n"
     ]
    },
    {
     "name": "stderr",
     "output_type": "stream",
     "text": [
      "C:\\Users\\ReCas\\anaconda3\\Lib\\site-packages\\keras\\src\\layers\\convolutional\\base_conv.py:107: UserWarning: Do not pass an `input_shape`/`input_dim` argument to a layer. When using Sequential models, prefer using an `Input(shape)` object as the first layer in the model instead.\n",
      "  super().__init__(activity_regularizer=activity_regularizer, **kwargs)\n"
     ]
    },
    {
     "name": "stdout",
     "output_type": "stream",
     "text": [
      "\u001b[1m8/8\u001b[0m \u001b[32m━━━━━━━━━━━━━━━━━━━━\u001b[0m\u001b[37m\u001b[0m \u001b[1m1s\u001b[0m 44ms/step\n"
     ]
    },
    {
     "name": "stderr",
     "output_type": "stream",
     "text": [
      "C:\\Users\\ReCas\\anaconda3\\Lib\\site-packages\\keras\\src\\layers\\convolutional\\base_conv.py:107: UserWarning: Do not pass an `input_shape`/`input_dim` argument to a layer. When using Sequential models, prefer using an `Input(shape)` object as the first layer in the model instead.\n",
      "  super().__init__(activity_regularizer=activity_regularizer, **kwargs)\n"
     ]
    },
    {
     "name": "stdout",
     "output_type": "stream",
     "text": [
      "\u001b[1m8/8\u001b[0m \u001b[32m━━━━━━━━━━━━━━━━━━━━\u001b[0m\u001b[37m\u001b[0m \u001b[1m0s\u001b[0m 31ms/step\n"
     ]
    },
    {
     "name": "stderr",
     "output_type": "stream",
     "text": [
      "C:\\Users\\ReCas\\anaconda3\\Lib\\site-packages\\keras\\src\\layers\\convolutional\\base_conv.py:107: UserWarning: Do not pass an `input_shape`/`input_dim` argument to a layer. When using Sequential models, prefer using an `Input(shape)` object as the first layer in the model instead.\n",
      "  super().__init__(activity_regularizer=activity_regularizer, **kwargs)\n"
     ]
    },
    {
     "name": "stdout",
     "output_type": "stream",
     "text": [
      "Processing or:force - Params: {'batch_size': 32, 'epochs': 20} - Mean Score (accuracy): 0.9984 - Time: 166.53 seconds\n",
      "Processing or:piece - Params: {'batch_size': 32, 'epochs': 20} - Mean Score (accuracy): 0.9747 - Time: 161.75 seconds\n",
      "Processing or:exact_piece - Params: {'batch_size': 32, 'epochs': 20} - Mean Score (accuracy): 0.9331 - Time: 168.35 seconds\n",
      "Processing or:country - Params: {'batch_size': 32, 'epochs': 20} - Mean Score (accuracy): 0.9641 - Time: 169.78 seconds\n",
      "\u001b[1m8/8\u001b[0m \u001b[32m━━━━━━━━━━━━━━━━━━━━\u001b[0m\u001b[37m\u001b[0m \u001b[1m0s\u001b[0m 38ms/step\n"
     ]
    },
    {
     "name": "stderr",
     "output_type": "stream",
     "text": [
      "C:\\Users\\ReCas\\anaconda3\\Lib\\site-packages\\keras\\src\\layers\\convolutional\\base_conv.py:107: UserWarning: Do not pass an `input_shape`/`input_dim` argument to a layer. When using Sequential models, prefer using an `Input(shape)` object as the first layer in the model instead.\n",
      "  super().__init__(activity_regularizer=activity_regularizer, **kwargs)\n"
     ]
    },
    {
     "name": "stdout",
     "output_type": "stream",
     "text": [
      "\u001b[1m8/8\u001b[0m \u001b[32m━━━━━━━━━━━━━━━━━━━━\u001b[0m\u001b[37m\u001b[0m \u001b[1m0s\u001b[0m 36ms/step\n"
     ]
    },
    {
     "name": "stderr",
     "output_type": "stream",
     "text": [
      "C:\\Users\\ReCas\\anaconda3\\Lib\\site-packages\\keras\\src\\layers\\convolutional\\base_conv.py:107: UserWarning: Do not pass an `input_shape`/`input_dim` argument to a layer. When using Sequential models, prefer using an `Input(shape)` object as the first layer in the model instead.\n",
      "  super().__init__(activity_regularizer=activity_regularizer, **kwargs)\n"
     ]
    },
    {
     "name": "stdout",
     "output_type": "stream",
     "text": [
      "\u001b[1m8/8\u001b[0m \u001b[32m━━━━━━━━━━━━━━━━━━━━\u001b[0m\u001b[37m\u001b[0m \u001b[1m0s\u001b[0m 31ms/step\n"
     ]
    },
    {
     "name": "stderr",
     "output_type": "stream",
     "text": [
      "C:\\Users\\ReCas\\anaconda3\\Lib\\site-packages\\keras\\src\\layers\\convolutional\\base_conv.py:107: UserWarning: Do not pass an `input_shape`/`input_dim` argument to a layer. When using Sequential models, prefer using an `Input(shape)` object as the first layer in the model instead.\n",
      "  super().__init__(activity_regularizer=activity_regularizer, **kwargs)\n"
     ]
    },
    {
     "name": "stdout",
     "output_type": "stream",
     "text": [
      "\u001b[1m8/8\u001b[0m \u001b[32m━━━━━━━━━━━━━━━━━━━━\u001b[0m\u001b[37m\u001b[0m \u001b[1m0s\u001b[0m 40ms/step\n"
     ]
    },
    {
     "name": "stderr",
     "output_type": "stream",
     "text": [
      "C:\\Users\\ReCas\\anaconda3\\Lib\\site-packages\\keras\\src\\layers\\convolutional\\base_conv.py:107: UserWarning: Do not pass an `input_shape`/`input_dim` argument to a layer. When using Sequential models, prefer using an `Input(shape)` object as the first layer in the model instead.\n",
      "  super().__init__(activity_regularizer=activity_regularizer, **kwargs)\n"
     ]
    },
    {
     "name": "stdout",
     "output_type": "stream",
     "text": [
      "Processing or:force - Params: {'batch_size': 64, 'epochs': 10} - Mean Score (accuracy): 0.9902 - Time: 69.22 seconds\n",
      "Processing or:piece - Params: {'batch_size': 64, 'epochs': 10} - Mean Score (accuracy): 0.9224 - Time: 72.61 seconds\n",
      "\u001b[1m8/8\u001b[0m \u001b[32m━━━━━━━━━━━━━━━━━━━━\u001b[0m\u001b[37m\u001b[0m \u001b[1m1s\u001b[0m 45ms/step\n"
     ]
    },
    {
     "name": "stderr",
     "output_type": "stream",
     "text": [
      "C:\\Users\\ReCas\\anaconda3\\Lib\\site-packages\\keras\\src\\layers\\convolutional\\base_conv.py:107: UserWarning: Do not pass an `input_shape`/`input_dim` argument to a layer. When using Sequential models, prefer using an `Input(shape)` object as the first layer in the model instead.\n",
      "  super().__init__(activity_regularizer=activity_regularizer, **kwargs)\n"
     ]
    },
    {
     "name": "stdout",
     "output_type": "stream",
     "text": [
      "Processing or:exact_piece - Params: {'batch_size': 64, 'epochs': 10} - Mean Score (accuracy): 0.8539 - Time: 71.34 seconds\n",
      "Processing or:country - Params: {'batch_size': 64, 'epochs': 10} - Mean Score (accuracy): 0.9322 - Time: 72.15 seconds\n",
      "\u001b[1m8/8\u001b[0m \u001b[32m━━━━━━━━━━━━━━━━━━━━\u001b[0m\u001b[37m\u001b[0m \u001b[1m0s\u001b[0m 35ms/step\n"
     ]
    },
    {
     "name": "stderr",
     "output_type": "stream",
     "text": [
      "C:\\Users\\ReCas\\anaconda3\\Lib\\site-packages\\keras\\src\\layers\\convolutional\\base_conv.py:107: UserWarning: Do not pass an `input_shape`/`input_dim` argument to a layer. When using Sequential models, prefer using an `Input(shape)` object as the first layer in the model instead.\n",
      "  super().__init__(activity_regularizer=activity_regularizer, **kwargs)\n"
     ]
    },
    {
     "name": "stdout",
     "output_type": "stream",
     "text": [
      "\u001b[1m8/8\u001b[0m \u001b[32m━━━━━━━━━━━━━━━━━━━━\u001b[0m\u001b[37m\u001b[0m \u001b[1m1s\u001b[0m 42ms/step\n"
     ]
    },
    {
     "name": "stderr",
     "output_type": "stream",
     "text": [
      "C:\\Users\\ReCas\\anaconda3\\Lib\\site-packages\\keras\\src\\layers\\convolutional\\base_conv.py:107: UserWarning: Do not pass an `input_shape`/`input_dim` argument to a layer. When using Sequential models, prefer using an `Input(shape)` object as the first layer in the model instead.\n",
      "  super().__init__(activity_regularizer=activity_regularizer, **kwargs)\n"
     ]
    },
    {
     "name": "stdout",
     "output_type": "stream",
     "text": [
      "\u001b[1m8/8\u001b[0m \u001b[32m━━━━━━━━━━━━━━━━━━━━\u001b[0m\u001b[37m\u001b[0m \u001b[1m0s\u001b[0m 26ms/step\n"
     ]
    },
    {
     "name": "stderr",
     "output_type": "stream",
     "text": [
      "C:\\Users\\ReCas\\anaconda3\\Lib\\site-packages\\keras\\src\\layers\\convolutional\\base_conv.py:107: UserWarning: Do not pass an `input_shape`/`input_dim` argument to a layer. When using Sequential models, prefer using an `Input(shape)` object as the first layer in the model instead.\n",
      "  super().__init__(activity_regularizer=activity_regularizer, **kwargs)\n"
     ]
    },
    {
     "name": "stdout",
     "output_type": "stream",
     "text": [
      "Processing or:force - Params: {'batch_size': 64, 'epochs': 20} - Mean Score (accuracy): 0.9943 - Time: 135.47 seconds\n",
      "Processing or:piece - Params: {'batch_size': 64, 'epochs': 20} - Mean Score (accuracy): 0.9771 - Time: 141.98 seconds\n",
      "Processing or:exact_piece - Params: {'batch_size': 64, 'epochs': 20} - Mean Score (accuracy): 0.9184 - Time: 138.02 seconds\n",
      "Processing or:country - Params: {'batch_size': 64, 'epochs': 20} - Mean Score (accuracy): 0.9755 - Time: 138.35 seconds\n",
      "\u001b[1m8/8\u001b[0m \u001b[32m━━━━━━━━━━━━━━━━━━━━\u001b[0m\u001b[37m\u001b[0m \u001b[1m1s\u001b[0m 40ms/step\n",
      "Processing or:force - Total time taken for image size (128, 128): 541.87 seconds\n",
      "\n",
      "Processing or:force - Evaluating for image size: (256, 256)\n"
     ]
    },
    {
     "name": "stderr",
     "output_type": "stream",
     "text": [
      "C:\\Users\\ReCas\\anaconda3\\Lib\\site-packages\\keras\\src\\layers\\convolutional\\base_conv.py:107: UserWarning: Do not pass an `input_shape`/`input_dim` argument to a layer. When using Sequential models, prefer using an `Input(shape)` object as the first layer in the model instead.\n",
      "  super().__init__(activity_regularizer=activity_regularizer, **kwargs)\n"
     ]
    },
    {
     "name": "stdout",
     "output_type": "stream",
     "text": [
      "\u001b[1m8/8\u001b[0m \u001b[32m━━━━━━━━━━━━━━━━━━━━\u001b[0m\u001b[37m\u001b[0m \u001b[1m1s\u001b[0m 41ms/step\n",
      "Processing or:piece - Total time taken for image size (128, 128): 550.11 seconds\n",
      "\n",
      "Processing or:piece - Evaluating for image size: (256, 256)\n"
     ]
    },
    {
     "name": "stderr",
     "output_type": "stream",
     "text": [
      "C:\\Users\\ReCas\\anaconda3\\Lib\\site-packages\\keras\\src\\layers\\convolutional\\base_conv.py:107: UserWarning: Do not pass an `input_shape`/`input_dim` argument to a layer. When using Sequential models, prefer using an `Input(shape)` object as the first layer in the model instead.\n",
      "  super().__init__(activity_regularizer=activity_regularizer, **kwargs)\n"
     ]
    },
    {
     "name": "stdout",
     "output_type": "stream",
     "text": [
      "\u001b[1m8/8\u001b[0m \u001b[32m━━━━━━━━━━━━━━━━━━━━\u001b[0m\u001b[37m\u001b[0m \u001b[1m0s\u001b[0m 36ms/step\n",
      "Processing or:exact_piece - Total time taken for image size (128, 128): 552.95 seconds\n",
      "\n",
      "Processing or:exact_piece - Evaluating for image size: (256, 256)\n",
      "\u001b[1m3/8\u001b[0m \u001b[32m━━━━━━━\u001b[0m\u001b[37m━━━━━━━━━━━━━\u001b[0m \u001b[1m0s\u001b[0m 34ms/step "
     ]
    },
    {
     "name": "stderr",
     "output_type": "stream",
     "text": [
      "C:\\Users\\ReCas\\anaconda3\\Lib\\site-packages\\keras\\src\\layers\\convolutional\\base_conv.py:107: UserWarning: Do not pass an `input_shape`/`input_dim` argument to a layer. When using Sequential models, prefer using an `Input(shape)` object as the first layer in the model instead.\n",
      "  super().__init__(activity_regularizer=activity_regularizer, **kwargs)\n"
     ]
    },
    {
     "name": "stdout",
     "output_type": "stream",
     "text": [
      "\u001b[1m8/8\u001b[0m \u001b[32m━━━━━━━━━━━━━━━━━━━━\u001b[0m\u001b[37m\u001b[0m \u001b[1m1s\u001b[0m 35ms/step\n",
      "Processing or:country - Total time taken for image size (128, 128): 555.59 seconds\n",
      "\n",
      "Processing or:country - Evaluating for image size: (256, 256)\n"
     ]
    },
    {
     "name": "stderr",
     "output_type": "stream",
     "text": [
      "C:\\Users\\ReCas\\anaconda3\\Lib\\site-packages\\keras\\src\\layers\\convolutional\\base_conv.py:107: UserWarning: Do not pass an `input_shape`/`input_dim` argument to a layer. When using Sequential models, prefer using an `Input(shape)` object as the first layer in the model instead.\n",
      "  super().__init__(activity_regularizer=activity_regularizer, **kwargs)\n"
     ]
    },
    {
     "name": "stdout",
     "output_type": "stream",
     "text": [
      "Processing or:force - Params: {'batch_size': 32, 'epochs': 10} - Mean Score (accuracy): 0.9918 - Time: 341.32 seconds\n",
      "Processing or:piece - Params: {'batch_size': 32, 'epochs': 10} - Mean Score (accuracy): 0.9551 - Time: 335.92 seconds\n",
      "Processing or:country - Params: {'batch_size': 32, 'epochs': 10} - Mean Score (accuracy): 0.9624 - Time: 330.82 seconds\n",
      "Processing or:exact_piece - Params: {'batch_size': 32, 'epochs': 10} - Mean Score (accuracy): 0.9282 - Time: 336.34 seconds\n",
      "\u001b[1m8/8\u001b[0m \u001b[32m━━━━━━━━━━━━━━━━━━━━\u001b[0m\u001b[37m\u001b[0m \u001b[1m1s\u001b[0m 84ms/step\n"
     ]
    },
    {
     "name": "stderr",
     "output_type": "stream",
     "text": [
      "C:\\Users\\ReCas\\anaconda3\\Lib\\site-packages\\keras\\src\\layers\\convolutional\\base_conv.py:107: UserWarning: Do not pass an `input_shape`/`input_dim` argument to a layer. When using Sequential models, prefer using an `Input(shape)` object as the first layer in the model instead.\n",
      "  super().__init__(activity_regularizer=activity_regularizer, **kwargs)\n"
     ]
    },
    {
     "name": "stdout",
     "output_type": "stream",
     "text": [
      "\u001b[1m8/8\u001b[0m \u001b[32m━━━━━━━━━━━━━━━━━━━━\u001b[0m\u001b[37m\u001b[0m \u001b[1m1s\u001b[0m 88ms/step\n"
     ]
    },
    {
     "name": "stderr",
     "output_type": "stream",
     "text": [
      "C:\\Users\\ReCas\\anaconda3\\Lib\\site-packages\\keras\\src\\layers\\convolutional\\base_conv.py:107: UserWarning: Do not pass an `input_shape`/`input_dim` argument to a layer. When using Sequential models, prefer using an `Input(shape)` object as the first layer in the model instead.\n",
      "  super().__init__(activity_regularizer=activity_regularizer, **kwargs)\n"
     ]
    },
    {
     "name": "stdout",
     "output_type": "stream",
     "text": [
      "\u001b[1m8/8\u001b[0m \u001b[32m━━━━━━━━━━━━━━━━━━━━\u001b[0m\u001b[37m\u001b[0m \u001b[1m1s\u001b[0m 62ms/step\n"
     ]
    },
    {
     "name": "stderr",
     "output_type": "stream",
     "text": [
      "C:\\Users\\ReCas\\anaconda3\\Lib\\site-packages\\keras\\src\\layers\\convolutional\\base_conv.py:107: UserWarning: Do not pass an `input_shape`/`input_dim` argument to a layer. When using Sequential models, prefer using an `Input(shape)` object as the first layer in the model instead.\n",
      "  super().__init__(activity_regularizer=activity_regularizer, **kwargs)\n"
     ]
    },
    {
     "name": "stdout",
     "output_type": "stream",
     "text": [
      "\u001b[1m8/8\u001b[0m \u001b[32m━━━━━━━━━━━━━━━━━━━━\u001b[0m\u001b[37m\u001b[0m \u001b[1m0s\u001b[0m 42ms/step\n"
     ]
    },
    {
     "name": "stderr",
     "output_type": "stream",
     "text": [
      "C:\\Users\\ReCas\\anaconda3\\Lib\\site-packages\\keras\\src\\layers\\convolutional\\base_conv.py:107: UserWarning: Do not pass an `input_shape`/`input_dim` argument to a layer. When using Sequential models, prefer using an `Input(shape)` object as the first layer in the model instead.\n",
      "  super().__init__(activity_regularizer=activity_regularizer, **kwargs)\n"
     ]
    },
    {
     "name": "stdout",
     "output_type": "stream",
     "text": [
      "Processing or:force - Params: {'batch_size': 32, 'epochs': 20} - Mean Score (accuracy): 0.9967 - Time: 658.11 seconds\n",
      "Processing or:country - Params: {'batch_size': 32, 'epochs': 20} - Mean Score (accuracy): 0.9902 - Time: 659.21 seconds\n",
      "Processing or:exact_piece - Params: {'batch_size': 32, 'epochs': 20} - Mean Score (accuracy): 0.9404 - Time: 666.81 seconds\n",
      "Processing or:piece - Params: {'batch_size': 32, 'epochs': 20} - Mean Score (accuracy): 0.9796 - Time: 679.51 seconds\n",
      "\u001b[1m8/8\u001b[0m \u001b[32m━━━━━━━━━━━━━━━━━━━━\u001b[0m\u001b[37m\u001b[0m \u001b[1m1s\u001b[0m 83ms/step\n"
     ]
    },
    {
     "name": "stderr",
     "output_type": "stream",
     "text": [
      "C:\\Users\\ReCas\\anaconda3\\Lib\\site-packages\\keras\\src\\layers\\convolutional\\base_conv.py:107: UserWarning: Do not pass an `input_shape`/`input_dim` argument to a layer. When using Sequential models, prefer using an `Input(shape)` object as the first layer in the model instead.\n",
      "  super().__init__(activity_regularizer=activity_regularizer, **kwargs)\n"
     ]
    },
    {
     "name": "stdout",
     "output_type": "stream",
     "text": [
      "\u001b[1m8/8\u001b[0m \u001b[32m━━━━━━━━━━━━━━━━━━━━\u001b[0m\u001b[37m\u001b[0m \u001b[1m1s\u001b[0m 65ms/step\n"
     ]
    },
    {
     "name": "stderr",
     "output_type": "stream",
     "text": [
      "C:\\Users\\ReCas\\anaconda3\\Lib\\site-packages\\keras\\src\\layers\\convolutional\\base_conv.py:107: UserWarning: Do not pass an `input_shape`/`input_dim` argument to a layer. When using Sequential models, prefer using an `Input(shape)` object as the first layer in the model instead.\n",
      "  super().__init__(activity_regularizer=activity_regularizer, **kwargs)\n"
     ]
    },
    {
     "name": "stdout",
     "output_type": "stream",
     "text": [
      "\u001b[1m8/8\u001b[0m \u001b[32m━━━━━━━━━━━━━━━━━━━━\u001b[0m\u001b[37m\u001b[0m \u001b[1m1s\u001b[0m 86ms/step\n"
     ]
    },
    {
     "name": "stderr",
     "output_type": "stream",
     "text": [
      "C:\\Users\\ReCas\\anaconda3\\Lib\\site-packages\\keras\\src\\layers\\convolutional\\base_conv.py:107: UserWarning: Do not pass an `input_shape`/`input_dim` argument to a layer. When using Sequential models, prefer using an `Input(shape)` object as the first layer in the model instead.\n",
      "  super().__init__(activity_regularizer=activity_regularizer, **kwargs)\n"
     ]
    },
    {
     "name": "stdout",
     "output_type": "stream",
     "text": [
      "\u001b[1m8/8\u001b[0m \u001b[32m━━━━━━━━━━━━━━━━━━━━\u001b[0m\u001b[37m\u001b[0m \u001b[1m1s\u001b[0m 45ms/step\n"
     ]
    },
    {
     "name": "stderr",
     "output_type": "stream",
     "text": [
      "C:\\Users\\ReCas\\anaconda3\\Lib\\site-packages\\keras\\src\\layers\\convolutional\\base_conv.py:107: UserWarning: Do not pass an `input_shape`/`input_dim` argument to a layer. When using Sequential models, prefer using an `Input(shape)` object as the first layer in the model instead.\n",
      "  super().__init__(activity_regularizer=activity_regularizer, **kwargs)\n"
     ]
    },
    {
     "name": "stdout",
     "output_type": "stream",
     "text": [
      "Processing or:country - Params: {'batch_size': 64, 'epochs': 10} - Mean Score (accuracy): 0.9469 - Time: 295.37 seconds\n",
      "Processing or:exact_piece - Params: {'batch_size': 64, 'epochs': 10} - Mean Score (accuracy): 0.9192 - Time: 305.34 seconds\n",
      "Processing or:force - Params: {'batch_size': 64, 'epochs': 10} - Mean Score (accuracy): 0.9935 - Time: 317.96 seconds\n",
      "Processing or:piece - Params: {'batch_size': 64, 'epochs': 10} - Mean Score (accuracy): 0.9608 - Time: 308.10 seconds\n",
      "\u001b[1m8/8\u001b[0m \u001b[32m━━━━━━━━━━━━━━━━━━━━\u001b[0m\u001b[37m\u001b[0m \u001b[1m1s\u001b[0m 78ms/step\n"
     ]
    },
    {
     "name": "stderr",
     "output_type": "stream",
     "text": [
      "C:\\Users\\ReCas\\anaconda3\\Lib\\site-packages\\keras\\src\\layers\\convolutional\\base_conv.py:107: UserWarning: Do not pass an `input_shape`/`input_dim` argument to a layer. When using Sequential models, prefer using an `Input(shape)` object as the first layer in the model instead.\n",
      "  super().__init__(activity_regularizer=activity_regularizer, **kwargs)\n"
     ]
    },
    {
     "name": "stdout",
     "output_type": "stream",
     "text": [
      "\u001b[1m8/8\u001b[0m \u001b[32m━━━━━━━━━━━━━━━━━━━━\u001b[0m\u001b[37m\u001b[0m \u001b[1m1s\u001b[0m 89ms/step\n"
     ]
    },
    {
     "name": "stderr",
     "output_type": "stream",
     "text": [
      "C:\\Users\\ReCas\\anaconda3\\Lib\\site-packages\\keras\\src\\layers\\convolutional\\base_conv.py:107: UserWarning: Do not pass an `input_shape`/`input_dim` argument to a layer. When using Sequential models, prefer using an `Input(shape)` object as the first layer in the model instead.\n",
      "  super().__init__(activity_regularizer=activity_regularizer, **kwargs)\n"
     ]
    },
    {
     "name": "stdout",
     "output_type": "stream",
     "text": [
      "\u001b[1m8/8\u001b[0m \u001b[32m━━━━━━━━━━━━━━━━━━━━\u001b[0m\u001b[37m\u001b[0m \u001b[1m1s\u001b[0m 59ms/step\n"
     ]
    },
    {
     "name": "stderr",
     "output_type": "stream",
     "text": [
      "C:\\Users\\ReCas\\anaconda3\\Lib\\site-packages\\keras\\src\\layers\\convolutional\\base_conv.py:107: UserWarning: Do not pass an `input_shape`/`input_dim` argument to a layer. When using Sequential models, prefer using an `Input(shape)` object as the first layer in the model instead.\n",
      "  super().__init__(activity_regularizer=activity_regularizer, **kwargs)\n"
     ]
    },
    {
     "name": "stdout",
     "output_type": "stream",
     "text": [
      "\u001b[1m8/8\u001b[0m \u001b[32m━━━━━━━━━━━━━━━━━━━━\u001b[0m\u001b[37m\u001b[0m \u001b[1m1s\u001b[0m 87ms/step\n"
     ]
    },
    {
     "name": "stderr",
     "output_type": "stream",
     "text": [
      "C:\\Users\\ReCas\\anaconda3\\Lib\\site-packages\\keras\\src\\layers\\convolutional\\base_conv.py:107: UserWarning: Do not pass an `input_shape`/`input_dim` argument to a layer. When using Sequential models, prefer using an `Input(shape)` object as the first layer in the model instead.\n",
      "  super().__init__(activity_regularizer=activity_regularizer, **kwargs)\n"
     ]
    },
    {
     "name": "stdout",
     "output_type": "stream",
     "text": [
      "Processing or:country - Params: {'batch_size': 64, 'epochs': 20} - Mean Score (accuracy): 0.9698 - Time: 601.33 seconds\n",
      "Processing or:force - Params: {'batch_size': 64, 'epochs': 20} - Mean Score (accuracy): 0.9967 - Time: 599.30 seconds\n",
      "Processing or:exact_piece - Params: {'batch_size': 64, 'epochs': 20} - Mean Score (accuracy): 0.9437 - Time: 602.33 seconds\n",
      "Processing or:piece - Params: {'batch_size': 64, 'epochs': 20} - Mean Score (accuracy): 0.9731 - Time: 609.16 seconds\n",
      "\u001b[1m8/8\u001b[0m \u001b[32m━━━━━━━━━━━━━━━━━━━━\u001b[0m\u001b[37m\u001b[0m \u001b[1m1s\u001b[0m 78ms/step\n",
      "Processing or:country - Total time taken for image size (256, 256): 2262.31 seconds\n",
      "\n",
      "Processing or:country - Best Score: 0.9902040839195252\n",
      "Processing or:country - Best Parameters: {'batch_size': 32, 'epochs': 20}\n",
      "Processing or:country - Best Image Size: (256, 256)\n",
      "Processing or:country - Grid search results saved to C:\\Users\\ReCas\\OneDrive\\Documents\\2024_AIMachineLearning\\99_Projects\\07.DataSets_or\\or_country_LeNet5_results_20240806_002136.xlsx\n",
      "Processing or:country - Loading and preprocessing test data\n",
      "\u001b[1m8/8\u001b[0m \u001b[32m━━━━━━━━━━━━━━━━━━━━\u001b[0m\u001b[37m\u001b[0m \u001b[1m1s\u001b[0m 68ms/step\n",
      "Processing or:force - Total time taken for image size (256, 256): 2297.30 seconds\n",
      "\n",
      "Processing or:force - Best Score: 0.9983673453330993\n",
      "Processing or:force - Best Parameters: {'batch_size': 32, 'epochs': 20}\n",
      "Processing or:force - Best Image Size: (128, 128)\n",
      "Processing or:force - Grid search results saved to C:\\Users\\ReCas\\OneDrive\\Documents\\2024_AIMachineLearning\\99_Projects\\07.DataSets_or\\or_force_LeNet5_results_20240806_002150.xlsx\n",
      "Processing or:force - Loading and preprocessing test data\n",
      "\u001b[1m8/8\u001b[0m \u001b[32m━━━━━━━━━━━━━━━━━━━━\u001b[0m\u001b[37m\u001b[0m \u001b[1m0s\u001b[0m 42ms/step\n",
      "Processing or:exact_piece - Total time taken for image size (256, 256): 2287.26 seconds\n",
      "\n",
      "Processing or:exact_piece - Best Score: 0.9436734676361084\n",
      "Processing or:exact_piece - Best Parameters: {'batch_size': 64, 'epochs': 20}\n",
      "Processing or:exact_piece - Best Image Size: (256, 256)\n",
      "Processing or:exact_piece - Grid search results saved to C:\\Users\\ReCas\\OneDrive\\Documents\\2024_AIMachineLearning\\99_Projects\\07.DataSets_or\\or_exact_piece_LeNet5_results_20240806_002158.xlsx\n",
      "Processing or:exact_piece - Loading and preprocessing test data\n",
      "\u001b[1m8/8\u001b[0m \u001b[32m━━━━━━━━━━━━━━━━━━━━\u001b[0m\u001b[37m\u001b[0m \u001b[1m0s\u001b[0m 26ms/step\n",
      "Processing or:piece - Total time taken for image size (256, 256): 2294.07 seconds\n",
      "\n",
      "Processing or:piece - Best Score: 0.9795918345451355\n",
      "Processing or:piece - Best Parameters: {'batch_size': 32, 'epochs': 20}\n",
      "Processing or:piece - Best Image Size: (256, 256)\n",
      "Processing or:piece - Grid search results saved to C:\\Users\\ReCas\\OneDrive\\Documents\\2024_AIMachineLearning\\99_Projects\\07.DataSets_or\\or_piece_LeNet5_results_20240806_002201.xlsx\n",
      "Processing or:piece - Loading and preprocessing test data\n"
     ]
    },
    {
     "name": "stderr",
     "output_type": "stream",
     "text": [
      "C:\\Users\\ReCas\\anaconda3\\Lib\\site-packages\\keras\\src\\layers\\convolutional\\base_conv.py:107: UserWarning: Do not pass an `input_shape`/`input_dim` argument to a layer. When using Sequential models, prefer using an `Input(shape)` object as the first layer in the model instead.\n",
      "  super().__init__(activity_regularizer=activity_regularizer, **kwargs)\n"
     ]
    },
    {
     "name": "stdout",
     "output_type": "stream",
     "text": [
      "\u001b[1m10/10\u001b[0m \u001b[32m━━━━━━━━━━━━━━━━━━━━\u001b[0m\u001b[37m\u001b[0m \u001b[1m1s\u001b[0m 61ms/step\n",
      "Processing or:force - Test Accuracy: 0.9804\n",
      "Processing or:force - Time taken for final training: 43.97 seconds\n",
      "Processing or:force - Time taken for final prediction: 1.58 seconds\n",
      "Processing or:force - Test Classification Report:\n",
      "              precision    recall  f1-score   support\n",
      "\n",
      "         AIR       0.93      0.99      0.96        68\n",
      "         LND       0.98      0.94      0.96        68\n",
      "         SEA       1.00      0.99      1.00       170\n",
      "\n",
      "    accuracy                           0.98       306\n",
      "   macro avg       0.97      0.97      0.97       306\n",
      "weighted avg       0.98      0.98      0.98       306\n",
      "\n",
      "Processing or:force - Test Confusion Matrix:\n",
      "[[ 67   1   0]\n",
      " [  4  64   0]\n",
      " [  1   0 169]]\n",
      "Processing or:force - Ended at 2024-08-06 00:22:58.504343\n",
      "Processing or:force - Total duration: 0:51:37.137660\n",
      "Processing or:force - Best Parameters identified from the grid search: {'batch_size': 32, 'epochs': 20}\n",
      "Processing or:force - Best Image Size identified from the grid search: (128, 128)\n",
      "Processing or:force - Final test results saved to C:\\Users\\ReCas\\OneDrive\\Documents\\2024_AIMachineLearning\\99_Projects\\07.DataSets_or\\or_force_LeNet5_results_20240806_002150.xlsx\n",
      "\u001b[1m10/10\u001b[0m \u001b[32m━━━━━━━━━━━━━━━━━━━━\u001b[0m\u001b[37m\u001b[0m \u001b[1m1s\u001b[0m 68ms/step\n",
      "Processing or:country - Test Accuracy: 0.7647\n",
      "Processing or:country - Time taken for final training: 113.14 seconds\n",
      "Processing or:country - Time taken for final prediction: 1.11 seconds\n",
      "Processing or:country - Test Classification Report:\n",
      "              precision    recall  f1-score   support\n",
      "\n",
      "      100RUS       0.91      0.67      0.77        61\n",
      "      200GER       0.68      0.97      0.80        61\n",
      "       300UK       0.78      0.69      0.73        61\n",
      "      400JAP       0.96      0.71      0.81        62\n",
      "      500USA       0.65      0.79      0.71        61\n",
      "\n",
      "    accuracy                           0.76       306\n",
      "   macro avg       0.79      0.76      0.77       306\n",
      "weighted avg       0.79      0.76      0.77       306\n",
      "\n",
      "Processing or:country - Test Confusion Matrix:\n",
      "[[41 18  0  0  2]\n",
      " [ 2 59  0  0  0]\n",
      " [ 0  0 42  2 17]\n",
      " [ 2  2  7 44  7]\n",
      " [ 0  8  5  0 48]]\n",
      "Processing or:country - Ended at 2024-08-06 00:24:01.270768\n",
      "Processing or:country - Total duration: 0:52:39.904591\n",
      "Processing or:country - Best Parameters identified from the grid search: {'batch_size': 32, 'epochs': 20}\n",
      "Processing or:country - Best Image Size identified from the grid search: (256, 256)\n",
      "Processing or:country - Final test results saved to C:\\Users\\ReCas\\OneDrive\\Documents\\2024_AIMachineLearning\\99_Projects\\07.DataSets_or\\or_country_LeNet5_results_20240806_002136.xlsx\n",
      "\u001b[1m10/10\u001b[0m \u001b[32m━━━━━━━━━━━━━━━━━━━━\u001b[0m\u001b[37m\u001b[0m \u001b[1m0s\u001b[0m 27ms/step\n",
      "Processing or:exact_piece - Test Accuracy: 0.4673\n",
      "Processing or:exact_piece - Time taken for final training: 124.14 seconds\n",
      "Processing or:exact_piece - Time taken for final prediction: 0.68 seconds\n",
      "Processing or:exact_piece - Test Classification Report:\n",
      "                  precision    recall  f1-score   support\n",
      "\n",
      "101_100RUS_01INF       0.83      0.71      0.77         7\n",
      "102_100RUS_02TNK       0.75      0.43      0.55         7\n",
      "103_100RUS_03FGT       0.67      0.29      0.40         7\n",
      "104_100RUS_04BMB       0.50      0.43      0.46         7\n",
      "105_100RUS_05DES       0.14      0.17      0.15         6\n",
      "106_100RUS_06TRS       0.29      0.29      0.29         7\n",
      "107_100RUS_07SUB       0.50      0.71      0.59         7\n",
      "108_100RUS_08BAT       0.33      0.86      0.48         7\n",
      "109_100RUS_09CAR       0.38      1.00      0.55         6\n",
      "201_200GER_01INF       0.50      0.71      0.59         7\n",
      "202_200GER_02TNK       0.71      0.71      0.71         7\n",
      "203_200GER_03FGT       0.71      0.71      0.71         7\n",
      "204_200GER_04BMB       0.21      0.50      0.30         6\n",
      "205_200GER_05DES       0.33      0.43      0.38         7\n",
      "206_200GER_06TRS       0.44      0.57      0.50         7\n",
      "207_200GER_07SUB       0.21      0.43      0.29         7\n",
      "208_200GER_08BAT       0.23      0.43      0.30         7\n",
      "209_200GER_09CAR       0.71      0.71      0.71         7\n",
      " 301_300UK_01INF       0.00      0.00      0.00         7\n",
      " 302_300UK_02TNK       1.00      0.43      0.60         7\n",
      " 303_300UK_03FGT       1.00      0.29      0.44         7\n",
      " 304_300UK_04BMB       0.23      0.43      0.30         7\n",
      " 305_300UK_05DES       1.00      0.71      0.83         7\n",
      " 306_300UK_06TRS       0.86      0.86      0.86         7\n",
      " 307_300UK_07SUB       1.00      0.14      0.25         7\n",
      " 308_300UK_08BAT       0.33      0.17      0.22         6\n",
      " 309_300UK_09CAR       0.80      0.67      0.73         6\n",
      "401_400JAP_01INF       0.00      0.00      0.00         7\n",
      "402_400JAP_02TNK       0.71      0.71      0.71         7\n",
      "403_400JAP_03FGT       0.00      0.00      0.00         7\n",
      "404_400JAP_04BMB       0.40      0.29      0.33         7\n",
      "405_400JAP_05DES       0.43      0.43      0.43         7\n",
      "406_400JAP_06TRS       1.00      0.57      0.73         7\n",
      "407_400JAP_07SUB       1.00      0.29      0.44         7\n",
      "408_400JAP_08BAT       1.00      0.14      0.25         7\n",
      "409_400JAP_09CAR       0.25      0.17      0.20         6\n",
      "501_500USA_01INF       0.37      1.00      0.54         7\n",
      "502_500USA_02TNK       0.60      0.86      0.71         7\n",
      "503_500USA_03FGT       1.00      0.57      0.73         7\n",
      "504_500USA_04BMB       0.00      0.00      0.00         6\n",
      "505_500USA_05DES       0.30      0.43      0.35         7\n",
      "506_500USA_06TRS       0.80      0.67      0.73         6\n",
      "507_500USA_07SUB       0.29      0.29      0.29         7\n",
      "508_500USA_08BAT       1.00      0.17      0.29         6\n",
      "509_500USA_09CAR       0.31      0.57      0.40         7\n",
      "\n",
      "        accuracy                           0.47       306\n",
      "       macro avg       0.54      0.47      0.45       306\n",
      "    weighted avg       0.54      0.47      0.45       306\n",
      "\n",
      "\u001b[1m 7/10\u001b[0m \u001b[32m━━━━━━━━━━━━━━\u001b[0m\u001b[37m━━━━━━\u001b[0m \u001b[1m0s\u001b[0m 20ms/stepProcessing or:exact_piece - Test Confusion Matrix:\n",
      "[[5 0 0 ... 0 0 0]\n",
      " [1 3 0 ... 0 0 0]\n",
      " [0 0 2 ... 0 0 0]\n",
      " ...\n",
      " [0 0 0 ... 2 0 0]\n",
      " [0 0 0 ... 0 1 0]\n",
      " [0 0 0 ... 0 0 4]]\n"
     ]
    },
    {
     "name": "stderr",
     "output_type": "stream",
     "text": [
      "C:\\Users\\ReCas\\anaconda3\\Lib\\site-packages\\sklearn\\metrics\\_classification.py:1531: UndefinedMetricWarning: Precision is ill-defined and being set to 0.0 in labels with no predicted samples. Use `zero_division` parameter to control this behavior.\n",
      "  _warn_prf(average, modifier, f\"{metric.capitalize()} is\", len(result))\n",
      "C:\\Users\\ReCas\\anaconda3\\Lib\\site-packages\\sklearn\\metrics\\_classification.py:1531: UndefinedMetricWarning: Precision is ill-defined and being set to 0.0 in labels with no predicted samples. Use `zero_division` parameter to control this behavior.\n",
      "  _warn_prf(average, modifier, f\"{metric.capitalize()} is\", len(result))\n",
      "C:\\Users\\ReCas\\anaconda3\\Lib\\site-packages\\sklearn\\metrics\\_classification.py:1531: UndefinedMetricWarning: Precision is ill-defined and being set to 0.0 in labels with no predicted samples. Use `zero_division` parameter to control this behavior.\n",
      "  _warn_prf(average, modifier, f\"{metric.capitalize()} is\", len(result))\n",
      "C:\\Users\\ReCas\\anaconda3\\Lib\\site-packages\\sklearn\\metrics\\_classification.py:1531: UndefinedMetricWarning: Precision is ill-defined and being set to 0.0 in labels with no predicted samples. Use `zero_division` parameter to control this behavior.\n",
      "  _warn_prf(average, modifier, f\"{metric.capitalize()} is\", len(result))\n",
      "C:\\Users\\ReCas\\anaconda3\\Lib\\site-packages\\sklearn\\metrics\\_classification.py:1531: UndefinedMetricWarning: Precision is ill-defined and being set to 0.0 in labels with no predicted samples. Use `zero_division` parameter to control this behavior.\n",
      "  _warn_prf(average, modifier, f\"{metric.capitalize()} is\", len(result))\n",
      "C:\\Users\\ReCas\\anaconda3\\Lib\\site-packages\\sklearn\\metrics\\_classification.py:1531: UndefinedMetricWarning: Precision is ill-defined and being set to 0.0 in labels with no predicted samples. Use `zero_division` parameter to control this behavior.\n",
      "  _warn_prf(average, modifier, f\"{metric.capitalize()} is\", len(result))\n"
     ]
    },
    {
     "name": "stdout",
     "output_type": "stream",
     "text": [
      "\u001b[1m10/10\u001b[0m \u001b[32m━━━━━━━━━━━━━━━━━━━━\u001b[0m\u001b[37m\u001b[0m \u001b[1m2s\u001b[0m 174ms/step\n",
      "Processing or:piece - Test Accuracy: 0.7810\n",
      "Processing or:piece - Time taken for final training: 121.37 seconds\n",
      "Processing or:piece - Time taken for final prediction: 1.95 seconds\n",
      "Processing or:piece - Test Classification Report:\n",
      "              precision    recall  f1-score   support\n",
      "\n",
      "       01INF       0.97      0.88      0.92        34\n",
      "       02TNK       0.84      0.79      0.82        34\n",
      "       03FGT       0.77      0.71      0.74        34\n",
      "       04BMB       0.60      0.76      0.68        34\n",
      "       05DES       0.65      0.65      0.65        34\n",
      "       06TRS       0.79      0.79      0.79        34\n",
      "       07SUB       0.96      0.65      0.77        34\n",
      "       08BAT       0.84      0.79      0.82        34\n",
      "       09CAR       0.74      1.00      0.85        34\n",
      "\n",
      "    accuracy                           0.78       306\n",
      "   macro avg       0.80      0.78      0.78       306\n",
      "weighted avg       0.80      0.78      0.78       306\n",
      "\n",
      "Processing or:piece - Test Confusion Matrix:\n",
      "[[30  3  0  1  0  0  0  0  0]\n",
      " [ 1 27  4  1  1  0  0  0  0]\n",
      " [ 0  2 24  8  0  0  0  0  0]\n",
      " [ 0  0  2 26  6  0  0  0  0]\n",
      " [ 0  0  1  7 22  3  1  0  0]\n",
      " [ 0  0  0  0  3 27  0  3  1]\n",
      " [ 0  0  0  0  2  3 22  2  5]\n",
      " [ 0  0  0  0  0  1  0 27  6]\n",
      " [ 0  0  0  0  0  0  0  0 34]]\n"
     ]
    },
    {
     "name": "stderr",
     "output_type": "stream",
     "text": [
      "C:\\Users\\ReCas\\anaconda3\\Lib\\site-packages\\sklearn\\metrics\\_classification.py:1531: UndefinedMetricWarning: Precision is ill-defined and being set to 0.0 in labels with no predicted samples. Use `zero_division` parameter to control this behavior.\n",
      "  _warn_prf(average, modifier, f\"{metric.capitalize()} is\", len(result))\n",
      "C:\\Users\\ReCas\\anaconda3\\Lib\\site-packages\\sklearn\\metrics\\_classification.py:1531: UndefinedMetricWarning: Precision is ill-defined and being set to 0.0 in labels with no predicted samples. Use `zero_division` parameter to control this behavior.\n",
      "  _warn_prf(average, modifier, f\"{metric.capitalize()} is\", len(result))\n",
      "C:\\Users\\ReCas\\anaconda3\\Lib\\site-packages\\sklearn\\metrics\\_classification.py:1531: UndefinedMetricWarning: Precision is ill-defined and being set to 0.0 in labels with no predicted samples. Use `zero_division` parameter to control this behavior.\n",
      "  _warn_prf(average, modifier, f\"{metric.capitalize()} is\", len(result))\n"
     ]
    },
    {
     "name": "stdout",
     "output_type": "stream",
     "text": [
      "Processing or:piece - Ended at 2024-08-06 00:24:30.896340\n",
      "Processing or:piece - Total duration: 0:53:09.529657\n",
      "Processing or:piece - Best Parameters identified from the grid search: {'batch_size': 32, 'epochs': 20}\n",
      "Processing or:piece - Best Image Size identified from the grid search: (256, 256)\n",
      "Processing or:piece - Final test results saved to C:\\Users\\ReCas\\OneDrive\\Documents\\2024_AIMachineLearning\\99_Projects\\07.DataSets_or\\or_piece_LeNet5_results_20240806_002201.xlsx\n",
      "Processing or:exact_piece - Ended at 2024-08-06 00:24:31.097185\n",
      "Processing or:exact_piece - Total duration: 0:53:09.730502\n",
      "Processing or:exact_piece - Best Parameters identified from the grid search: {'batch_size': 64, 'epochs': 20}\n",
      "Processing or:exact_piece - Best Image Size identified from the grid search: (256, 256)\n",
      "Processing or:exact_piece - Final test results saved to C:\\Users\\ReCas\\OneDrive\\Documents\\2024_AIMachineLearning\\99_Projects\\07.DataSets_or\\or_exact_piece_LeNet5_results_20240806_002158.xlsx\n",
      "Overall processing ended at 2024-08-06 00:24:31.251190\n",
      "Total duration for all models: 0:53:09.886997\n"
     ]
    }
   ],
   "source": [
    "import os\n",
    "import numpy as np\n",
    "import cv2\n",
    "import time\n",
    "import pandas as pd\n",
    "from sklearn.model_selection import KFold, train_test_split\n",
    "from sklearn.metrics import classification_report, confusion_matrix, accuracy_score\n",
    "from datetime import datetime\n",
    "import concurrent.futures\n",
    "import tensorflow as tf\n",
    "from tensorflow.keras.models import Sequential\n",
    "from tensorflow.keras.layers import Conv2D, MaxPooling2D, Flatten, Dense\n",
    "from tensorflow.keras.utils import to_categorical\n",
    "\n",
    "# Function to load and preprocess images\n",
    "def load_images_from_folder(folder, target_size):\n",
    "    images = []\n",
    "    labels = []\n",
    "    class_names = os.listdir(folder)\n",
    "    filenames = []\n",
    "    for label, class_name in enumerate(class_names):\n",
    "        class_folder = os.path.join(folder, class_name)\n",
    "        for filename in os.listdir(class_folder):\n",
    "            img_path = os.path.join(class_folder, filename)\n",
    "            img = cv2.imread(img_path, cv2.IMREAD_UNCHANGED)\n",
    "            if img is not None:\n",
    "                if len(img.shape) == 2:  # Grayscale image\n",
    "                    img = cv2.cvtColor(img, cv2.COLOR_GRAY2RGB)\n",
    "                elif img.shape[2] == 4:  # 4-channel image (e.g., RGBA)\n",
    "                    img = img[:, :, :3]  # Discard the alpha channel\n",
    "\n",
    "                img = cv2.resize(img, target_size)  # Resize to target_size\n",
    "                images.append(img)\n",
    "                labels.append(label)\n",
    "                filenames.append(filename)\n",
    "    return np.array(images), np.array(labels), class_names, filenames\n",
    "\n",
    "# Function to preprocess images for neural network\n",
    "def preprocess_images(X, target_size):\n",
    "    X_resized = []\n",
    "    for img in X:\n",
    "        img_resized = cv2.resize(img, target_size)\n",
    "        X_resized.append(img_resized)\n",
    "    X_resized = np.array(X_resized).astype('float32') / 255.0\n",
    "    return X_resized\n",
    "\n",
    "# Define LeNet-5 model\n",
    "def create_lenet5(input_shape, num_classes):\n",
    "    model = Sequential()\n",
    "    model.add(Conv2D(6, (5, 5), activation='relu', input_shape=input_shape, padding='same'))\n",
    "    model.add(MaxPooling2D(pool_size=(2, 2)))\n",
    "    model.add(Conv2D(16, (5, 5), activation='relu', padding='same'))\n",
    "    model.add(MaxPooling2D(pool_size=(2, 2)))\n",
    "    model.add(Flatten())\n",
    "    model.add(Dense(120, activation='relu'))\n",
    "    model.add(Dense(84, activation='relu'))\n",
    "    model.add(Dense(num_classes, activation='softmax'))\n",
    "    model.compile(optimizer='adam', loss='categorical_crossentropy', metrics=['accuracy'])\n",
    "    return model\n",
    "\n",
    "# Define parameter grid for GridSearch\n",
    "param_grid = {\n",
    "    'batch_size': [32, 64],\n",
    "    'epochs': [10, 20]\n",
    "}\n",
    "\n",
    "image_sizes = [(64, 64), (128, 128), (256, 256)]\n",
    "\n",
    "def run_model(train_dataset_folder, test_dataset_folder, model_type, root_folder_suffix):\n",
    "    model_start_time = datetime.now()\n",
    "    log = []\n",
    "    log.append(f\"Processing {root_folder_suffix}:{model_type} - Started at {model_start_time}\")\n",
    "    print(f\"Processing {root_folder_suffix}:{model_type} - Started at {model_start_time}\")\n",
    "\n",
    "    log.append(f\"Processing {root_folder_suffix}:{model_type} - Loading and preprocessing training data\")\n",
    "    print(f\"Processing {root_folder_suffix}:{model_type} - Loading and preprocessing training data\")\n",
    "    start_time = time.time()\n",
    "    X_train_orig, y_train, class_names, train_filenames = load_images_from_folder(train_dataset_folder, target_size=(128, 128))\n",
    "    y_train = to_categorical(y_train, num_classes=len(class_names))\n",
    "    load_preprocess_time = time.time() - start_time\n",
    "    log.append(f\"Processing {root_folder_suffix}:{model_type} - Time taken for loading and preprocessing: {load_preprocess_time:.2f} seconds\")\n",
    "    print(f\"Processing {root_folder_suffix}:{model_type} - Time taken for loading and preprocessing: {load_preprocess_time:.2f} seconds\")\n",
    "\n",
    "    best_params = None\n",
    "    best_score = 0\n",
    "    best_target_size = None\n",
    "    best_conf_matrix = None\n",
    "    best_X_train_resized = None\n",
    "\n",
    "    kf = KFold(n_splits=5, shuffle=True, random_state=42)\n",
    "\n",
    "    timing_results = []\n",
    "    cm_results = []\n",
    "\n",
    "    for target_size in image_sizes:\n",
    "        start_size_time = time.time()\n",
    "        log.append(f\"Processing {root_folder_suffix}:{model_type} - Evaluating for image size: {target_size}\")\n",
    "        print(f\"Processing {root_folder_suffix}:{model_type} - Evaluating for image size: {target_size}\")\n",
    "\n",
    "        X_train_resized = preprocess_images(X_train_orig, target_size)\n",
    "        input_shape = (target_size[0], target_size[1], 3)\n",
    "\n",
    "        for batch_size in param_grid['batch_size']:\n",
    "            for epochs in param_grid['epochs']:\n",
    "                params = {\n",
    "                    'batch_size': batch_size,\n",
    "                    'epochs': epochs\n",
    "                }\n",
    "\n",
    "                lenet5 = create_lenet5(input_shape, len(class_names))\n",
    "\n",
    "                start_grid_item_time = time.time()\n",
    "                scores = []\n",
    "\n",
    "                for train_index, val_index in kf.split(X_train_resized):\n",
    "                    X_train_fold, X_val_fold = X_train_resized[train_index], X_train_resized[val_index]\n",
    "                    y_train_fold, y_val_fold = y_train[train_index], y_train[val_index]\n",
    "\n",
    "                    lenet5.fit(X_train_fold, y_train_fold, batch_size=batch_size, epochs=epochs, verbose=0)\n",
    "                    score = lenet5.evaluate(X_val_fold, y_val_fold, verbose=0)[1]\n",
    "                    scores.append(score)\n",
    "\n",
    "                mean_score = np.mean(scores)\n",
    "                grid_item_time = time.time() - start_grid_item_time\n",
    "\n",
    "                timing_results.append({\n",
    "                    'image_size': target_size,\n",
    "                    'batch_size': batch_size,\n",
    "                    'epochs': epochs,\n",
    "                    'mean_score': mean_score,\n",
    "                    'time': grid_item_time,\n",
    "                    'scoring_metric': 'accuracy'\n",
    "                })\n",
    "\n",
    "                log.append(f\"Processing {root_folder_suffix}:{model_type} - Params: {params} - Mean Score (accuracy): {mean_score:.4f} - Time: {grid_item_time:.2f} seconds\")\n",
    "                print(f\"Processing {root_folder_suffix}:{model_type} - Params: {params} - Mean Score (accuracy): {mean_score:.4f} - Time: {grid_item_time:.2f} seconds\")\n",
    "\n",
    "                X_train_split, X_valid_split, y_train_split, y_valid_split = train_test_split(X_train_resized, y_train, test_size=0.2, random_state=42)\n",
    "                lenet5.fit(X_train_split, y_train_split, batch_size=batch_size, epochs=epochs, verbose=0)\n",
    "                y_valid_pred = np.argmax(lenet5.predict(X_valid_split), axis=1)\n",
    "                y_valid_true = np.argmax(y_valid_split, axis=1)\n",
    "                cm = confusion_matrix(y_valid_true, y_valid_pred)\n",
    "                cm_results.append({\n",
    "                    'image_size': target_size,\n",
    "                    'params': params,\n",
    "                    'confusion_matrix': cm\n",
    "                })\n",
    "\n",
    "                if mean_score > best_score:\n",
    "                    best_score = mean_score\n",
    "                    best_params = params\n",
    "                    best_target_size = target_size\n",
    "                    best_conf_matrix = cm\n",
    "                    best_X_train_resized = X_train_resized\n",
    "\n",
    "        size_time = time.time() - start_size_time\n",
    "        log.append(f\"Processing {root_folder_suffix}:{model_type} - Total time taken for image size {target_size}: {size_time:.2f} seconds\\n\")\n",
    "        print(f\"Processing {root_folder_suffix}:{model_type} - Total time taken for image size {target_size}: {size_time:.2f} seconds\\n\")\n",
    "\n",
    "    log.append(f\"Processing {root_folder_suffix}:{model_type} - Best Score: {best_score}\")\n",
    "    log.append(f\"Processing {root_folder_suffix}:{model_type} - Best Parameters: {best_params}\")\n",
    "    log.append(f\"Processing {root_folder_suffix}:{model_type} - Best Image Size: {best_target_size}\")\n",
    "    print(f\"Processing {root_folder_suffix}:{model_type} - Best Score: {best_score}\")\n",
    "    print(f\"Processing {root_folder_suffix}:{model_type} - Best Parameters: {best_params}\")\n",
    "    print(f\"Processing {root_folder_suffix}:{model_type} - Best Image Size: {best_target_size}\")\n",
    "\n",
    "    timestamp = datetime.now().strftime(\"%Y%m%d_%H%M%S\")\n",
    "    result_folder = os.path.dirname(train_dataset_folder)\n",
    "    file_path = os.path.join(result_folder, f\"{root_folder_suffix}_{model_type}_LeNet5_results_{timestamp}.xlsx\")\n",
    "\n",
    "    with pd.ExcelWriter(file_path, engine='xlsxwriter') as writer:\n",
    "        best_params_df = pd.DataFrame([best_params])\n",
    "        best_params_df['image_size'] = [best_target_size]\n",
    "        best_params_df.to_excel(writer, sheet_name='Best_Parameters', index=False)\n",
    "\n",
    "        timing_df = pd.DataFrame(timing_results)\n",
    "        timing_df.to_excel(writer, sheet_name='Timing_Results', index=False)\n",
    "\n",
    "        cm_data = []\n",
    "        for cm_result in cm_results:\n",
    "            for i in range(len(class_names)):\n",
    "                for j in range(len(class_names)):\n",
    "                    cm_data.append({\n",
    "                        'image_size': cm_result['image_size'],\n",
    "                        'params': cm_result['params'],\n",
    "                        'true_class': class_names[i],\n",
    "                        'predicted_class': class_names[j],\n",
    "                        'count': cm_result['confusion_matrix'][i, j]\n",
    "                    })\n",
    "        cm_df = pd.DataFrame(cm_data)\n",
    "        cm_df.to_excel(writer, sheet_name='Confusion_Matrices', index=False)\n",
    "\n",
    "    log.append(f\"Processing {root_folder_suffix}:{model_type} - Grid search results saved to {file_path}\")\n",
    "    print(f\"Processing {root_folder_suffix}:{model_type} - Grid search results saved to {file_path}\")\n",
    "\n",
    "    log.append(f\"Processing {root_folder_suffix}:{model_type} - Loading and preprocessing test data\")\n",
    "    print(f\"Processing {root_folder_suffix}:{model_type} - Loading and preprocessing test data\")\n",
    "    X_test_orig, y_test, _, test_filenames = load_images_from_folder(test_dataset_folder, target_size=best_target_size)\n",
    "    y_test = to_categorical(y_test, num_classes=len(class_names))\n",
    "\n",
    "    X_test_resized = preprocess_images(X_test_orig, best_target_size)\n",
    "\n",
    "    start_time = time.time()\n",
    "    final_model = create_lenet5((best_target_size[0], best_target_size[1], 3), len(class_names))\n",
    "    final_model.fit(best_X_train_resized, y_train, batch_size=best_params['batch_size'], epochs=best_params['epochs'], verbose=0)\n",
    "    train_time = time.time() - start_time\n",
    "\n",
    "    start_time = time.time()\n",
    "    y_test_pred = np.argmax(final_model.predict(X_test_resized), axis=1)\n",
    "    y_test_true = np.argmax(y_test, axis=1)\n",
    "    predict_time = time.time() - start_time\n",
    "\n",
    "    test_accuracy = accuracy_score(y_test_true, y_test_pred)\n",
    "    log.append(f\"Processing {root_folder_suffix}:{model_type} - Test Accuracy: {test_accuracy:.4f}\")\n",
    "    log.append(f\"Processing {root_folder_suffix}:{model_type} - Time taken for final training: {train_time:.2f} seconds\")\n",
    "    log.append(f\"Processing {root_folder_suffix}:{model_type} - Time taken for final prediction: {predict_time:.2f} seconds\")\n",
    "    log.append(f\"Processing {root_folder_suffix}:{model_type} - Test Classification Report:\\n{classification_report(y_test_true, y_test_pred, target_names=class_names)}\")\n",
    "    log.append(f\"Processing {root_folder_suffix}:{model_type} - Test Confusion Matrix:\\n{confusion_matrix(y_test_true, y_test_pred)}\")\n",
    "    print(f\"Processing {root_folder_suffix}:{model_type} - Test Accuracy: {test_accuracy:.4f}\")\n",
    "    print(f\"Processing {root_folder_suffix}:{model_type} - Time taken for final training: {train_time:.2f} seconds\")\n",
    "    print(f\"Processing {root_folder_suffix}:{model_type} - Time taken for final prediction: {predict_time:.2f} seconds\")\n",
    "    print(f\"Processing {root_folder_suffix}:{model_type} - Test Classification Report:\\n{classification_report(y_test_true, y_test_pred, target_names=class_names)}\")\n",
    "    print(f\"Processing {root_folder_suffix}:{model_type} - Test Confusion Matrix:\\n{confusion_matrix(y_test_true, y_test_pred)}\")\n",
    "\n",
    "    with pd.ExcelWriter(file_path, engine='openpyxl', mode='a') as writer:\n",
    "        test_report = classification_report(y_test_true, y_test_pred, target_names=class_names, output_dict=True)\n",
    "        test_report_df = pd.DataFrame(test_report).transpose()\n",
    "        test_report_df.to_excel(writer, sheet_name='Test_Classification_Report')\n",
    "\n",
    "        test_cm = confusion_matrix(y_test_true, y_test_pred)\n",
    "        test_cm_df = pd.DataFrame(test_cm, index=class_names, columns=class_names)\n",
    "        test_cm_df.to_excel(writer, sheet_name='Test_Confusion_Matrix')\n",
    "\n",
    "        predictions_df = pd.DataFrame({\n",
    "            'Filename': test_filenames,\n",
    "            'Actual': [class_names[label] for label in y_test_true],\n",
    "            'Predicted': [class_names[label] for label in y_test_pred]\n",
    "        })\n",
    "        predictions_df.to_excel(writer, sheet_name='Image_Predictions', index=False)\n",
    "\n",
    "        summary_data = {\n",
    "            'Best Score': [best_score],\n",
    "            'Best Parameters': [best_params],\n",
    "            'Best Image Size': [best_target_size],\n",
    "            'Test Accuracy': [test_accuracy],\n",
    "            'Training Time': [train_time],\n",
    "            'Prediction Time': [predict_time]\n",
    "        }\n",
    "        summary_df = pd.DataFrame(summary_data)\n",
    "        summary_df.to_excel(writer, sheet_name='Summary', index=False)\n",
    "\n",
    "        log_df = pd.DataFrame(log, columns=['Log'])\n",
    "        log_df.to_excel(writer, sheet_name='Log', index=False)\n",
    "\n",
    "    model_end_time = datetime.now()\n",
    "    log.append(f\"Processing {root_folder_suffix}:{model_type} - Ended at {model_end_time}\")\n",
    "    log.append(f\"Processing {root_folder_suffix}:{model_type} - Total duration: {model_end_time - model_start_time}\")\n",
    "    log.append(f\"Processing {root_folder_suffix}:{model_type} - Best Parameters identified from the grid search: {best_params}\")\n",
    "    log.append(f\"Processing {root_folder_suffix}:{model_type} - Best Image Size identified from the grid search: {best_target_size}\")\n",
    "    log.append(f\"Processing {root_folder_suffix}:{model_type} - Final test results saved to {file_path}\")\n",
    "    print(f\"Processing {root_folder_suffix}:{model_type} - Ended at {model_end_time}\")\n",
    "    print(f\"Processing {root_folder_suffix}:{model_type} - Total duration: {model_end_time - model_start_time}\")\n",
    "    print(f\"Processing {root_folder_suffix}:{model_type} - Best Parameters identified from the grid search: {best_params}\")\n",
    "    print(f\"Processing {root_folder_suffix}:{model_type} - Best Image Size identified from the grid search: {best_target_size}\")\n",
    "    print(f\"Processing {root_folder_suffix}:{model_type} - Final test results saved to {file_path}\")\n",
    "\n",
    "# Function to iterate over the data directories and run the model\n",
    "def run_models_for_all_datasets(root_folders):\n",
    "    overall_start_time = datetime.now()\n",
    "    print(f\"Overall processing started at {overall_start_time}\")\n",
    "\n",
    "    model_types = ['country', 'exact_piece', 'force', 'piece']\n",
    "\n",
    "    tasks = []\n",
    "\n",
    "    for root_folder in root_folders:\n",
    "        root_folder_suffix = os.path.basename(root_folder)[-2:]\n",
    "        for model_type in model_types:\n",
    "            train_folder = os.path.join(root_folder, f\"{model_type}_train\")\n",
    "            test_folder = os.path.join(root_folder, f\"{model_type}_test\")\n",
    "\n",
    "            if os.path.exists(train_folder) and os.path.exists(test_folder):\n",
    "                tasks.append((train_folder, test_folder, model_type, root_folder_suffix))\n",
    "            else:\n",
    "                print(f\"Skipping {model_type} in {root_folder} as train or test folder does not exist\")\n",
    "\n",
    "    with concurrent.futures.ThreadPoolExecutor() as executor:\n",
    "        futures = [executor.submit(run_model, train, test, model, suffix) for train, test, model, suffix in tasks]\n",
    "        for future in concurrent.futures.as_completed(futures):\n",
    "            try:\n",
    "                future.result()\n",
    "            except Exception as exc:\n",
    "                print(f\"Generated an exception: {exc}\")\n",
    "\n",
    "    overall_end_time = datetime.now()\n",
    "    print(f\"Overall processing ended at {overall_end_time}\")\n",
    "    print(f\"Total duration for all models: {overall_end_time - overall_start_time}\")\n",
    "\n",
    "root_folders = [\n",
    "#    'C:\\\\Users\\\\ReCas\\\\OneDrive\\\\Documents\\\\2024_AIMachineLearning\\\\99_Projects\\\\06.DataSets_gy',\n",
    "    'C:\\\\Users\\\\ReCas\\\\OneDrive\\\\Documents\\\\2024_AIMachineLearning\\\\99_Projects\\\\07.DataSets_or',\n",
    "#    'C:\\\\Users\\\\ReCas\\\\OneDrive\\\\Documents\\\\2024_AIMachineLearning\\\\99_Projects\\\\08.DataSets_fc'\n",
    "]\n",
    "\n",
    "run_models_for_all_datasets(root_folders)"
   ]
  },
  {
   "cell_type": "markdown",
   "id": "2d193da0",
   "metadata": {},
   "source": [
    "Running 06.DataSet_fc FOUR CHANNEL (i.e. original + depth map)"
   ]
  },
  {
   "cell_type": "code",
   "execution_count": 3,
   "id": "6288c060",
   "metadata": {},
   "outputs": [
    {
     "name": "stdout",
     "output_type": "stream",
     "text": [
      "Overall processing started at 2024-08-06 00:24:31.299226\n",
      "Processing fc:country - Started at 2024-08-06 00:24:31.301225\n",
      "Processing fc:country - Loading and preprocessing training data\n",
      "Processing fc:exact_piece - Started at 2024-08-06 00:24:31.301225\n",
      "Processing fc:exact_piece - Loading and preprocessing training data\n",
      "Processing fc:force - Started at 2024-08-06 00:24:31.301225\n",
      "Processing fc:force - Loading and preprocessing training data\n",
      "Processing fc:piece - Started at 2024-08-06 00:24:31.302224\n",
      "Processing fc:piece - Loading and preprocessing training data\n",
      "Processing fc:force - Time taken for loading and preprocessing: 63.99 seconds\n",
      "Processing fc:force - Evaluating for image size: (64, 64)\n",
      "Processing fc:piece - Time taken for loading and preprocessing: 64.05 seconds\n",
      "Processing fc:piece - Evaluating for image size: (64, 64)\n",
      "Processing fc:exact_piece - Time taken for loading and preprocessing: 64.11 seconds\n",
      "Processing fc:exact_piece - Evaluating for image size: (64, 64)\n",
      "Processing fc:country - Time taken for loading and preprocessing: 64.14 seconds\n",
      "Processing fc:country - Evaluating for image size: (64, 64)\n"
     ]
    },
    {
     "name": "stderr",
     "output_type": "stream",
     "text": [
      "C:\\Users\\ReCas\\anaconda3\\Lib\\site-packages\\keras\\src\\layers\\convolutional\\base_conv.py:107: UserWarning: Do not pass an `input_shape`/`input_dim` argument to a layer. When using Sequential models, prefer using an `Input(shape)` object as the first layer in the model instead.\n",
      "  super().__init__(activity_regularizer=activity_regularizer, **kwargs)\n"
     ]
    },
    {
     "name": "stdout",
     "output_type": "stream",
     "text": [
      "Processing fc:force - Params: {'batch_size': 32, 'epochs': 10} - Mean Score (accuracy): 0.9796 - Time: 22.70 seconds\n",
      "Processing fc:piece - Params: {'batch_size': 32, 'epochs': 10} - Mean Score (accuracy): 0.9347 - Time: 22.73 seconds\n",
      "Processing fc:country - Params: {'batch_size': 32, 'epochs': 10} - Mean Score (accuracy): 0.9453 - Time: 23.19 seconds\n",
      "Processing fc:exact_piece - Params: {'batch_size': 32, 'epochs': 10} - Mean Score (accuracy): 0.7779 - Time: 23.44 seconds\n",
      "\u001b[1m8/8\u001b[0m \u001b[32m━━━━━━━━━━━━━━━━━━━━\u001b[0m\u001b[37m\u001b[0m \u001b[1m0s\u001b[0m 17ms/step\n",
      "\u001b[1m1/8\u001b[0m \u001b[32m━━\u001b[0m\u001b[37m━━━━━━━━━━━━━━━━━━\u001b[0m \u001b[1m0s\u001b[0m 126ms/step"
     ]
    },
    {
     "name": "stderr",
     "output_type": "stream",
     "text": [
      "C:\\Users\\ReCas\\anaconda3\\Lib\\site-packages\\keras\\src\\layers\\convolutional\\base_conv.py:107: UserWarning: Do not pass an `input_shape`/`input_dim` argument to a layer. When using Sequential models, prefer using an `Input(shape)` object as the first layer in the model instead.\n",
      "  super().__init__(activity_regularizer=activity_regularizer, **kwargs)\n"
     ]
    },
    {
     "name": "stdout",
     "output_type": "stream",
     "text": [
      "\u001b[1m8/8\u001b[0m \u001b[32m━━━━━━━━━━━━━━━━━━━━\u001b[0m\u001b[37m\u001b[0m \u001b[1m0s\u001b[0m 15ms/step\n"
     ]
    },
    {
     "name": "stderr",
     "output_type": "stream",
     "text": [
      "C:\\Users\\ReCas\\anaconda3\\Lib\\site-packages\\keras\\src\\layers\\convolutional\\base_conv.py:107: UserWarning: Do not pass an `input_shape`/`input_dim` argument to a layer. When using Sequential models, prefer using an `Input(shape)` object as the first layer in the model instead.\n",
      "  super().__init__(activity_regularizer=activity_regularizer, **kwargs)\n"
     ]
    },
    {
     "name": "stdout",
     "output_type": "stream",
     "text": [
      "\u001b[1m8/8\u001b[0m \u001b[32m━━━━━━━━━━━━━━━━━━━━\u001b[0m\u001b[37m\u001b[0m \u001b[1m0s\u001b[0m 17ms/step\n",
      "\u001b[1m8/8\u001b[0m \u001b[32m━━━━━━━━━━━━━━━━━━━━\u001b[0m\u001b[37m\u001b[0m \u001b[1m0s\u001b[0m 16ms/step\n"
     ]
    },
    {
     "name": "stderr",
     "output_type": "stream",
     "text": [
      "C:\\Users\\ReCas\\anaconda3\\Lib\\site-packages\\keras\\src\\layers\\convolutional\\base_conv.py:107: UserWarning: Do not pass an `input_shape`/`input_dim` argument to a layer. When using Sequential models, prefer using an `Input(shape)` object as the first layer in the model instead.\n",
      "  super().__init__(activity_regularizer=activity_regularizer, **kwargs)\n",
      "C:\\Users\\ReCas\\anaconda3\\Lib\\site-packages\\keras\\src\\layers\\convolutional\\base_conv.py:107: UserWarning: Do not pass an `input_shape`/`input_dim` argument to a layer. When using Sequential models, prefer using an `Input(shape)` object as the first layer in the model instead.\n",
      "  super().__init__(activity_regularizer=activity_regularizer, **kwargs)\n"
     ]
    },
    {
     "name": "stdout",
     "output_type": "stream",
     "text": [
      "Processing fc:force - Params: {'batch_size': 32, 'epochs': 20} - Mean Score (accuracy): 0.9951 - Time: 39.43 seconds\n",
      "Processing fc:piece - Params: {'batch_size': 32, 'epochs': 20} - Mean Score (accuracy): 0.9624 - Time: 40.94 seconds\n",
      "Processing fc:country - Params: {'batch_size': 32, 'epochs': 20} - Mean Score (accuracy): 0.9698 - Time: 41.31 seconds\n",
      "Processing fc:exact_piece - Params: {'batch_size': 32, 'epochs': 20} - Mean Score (accuracy): 0.8963 - Time: 41.71 seconds\n",
      "\u001b[1m8/8\u001b[0m \u001b[32m━━━━━━━━━━━━━━━━━━━━\u001b[0m\u001b[37m\u001b[0m \u001b[1m0s\u001b[0m 16ms/step\n"
     ]
    },
    {
     "name": "stderr",
     "output_type": "stream",
     "text": [
      "C:\\Users\\ReCas\\anaconda3\\Lib\\site-packages\\keras\\src\\layers\\convolutional\\base_conv.py:107: UserWarning: Do not pass an `input_shape`/`input_dim` argument to a layer. When using Sequential models, prefer using an `Input(shape)` object as the first layer in the model instead.\n",
      "  super().__init__(activity_regularizer=activity_regularizer, **kwargs)\n"
     ]
    },
    {
     "name": "stdout",
     "output_type": "stream",
     "text": [
      "\u001b[1m8/8\u001b[0m \u001b[32m━━━━━━━━━━━━━━━━━━━━\u001b[0m\u001b[37m\u001b[0m \u001b[1m0s\u001b[0m 17ms/step\n"
     ]
    },
    {
     "name": "stderr",
     "output_type": "stream",
     "text": [
      "C:\\Users\\ReCas\\anaconda3\\Lib\\site-packages\\keras\\src\\layers\\convolutional\\base_conv.py:107: UserWarning: Do not pass an `input_shape`/`input_dim` argument to a layer. When using Sequential models, prefer using an `Input(shape)` object as the first layer in the model instead.\n",
      "  super().__init__(activity_regularizer=activity_regularizer, **kwargs)\n"
     ]
    },
    {
     "name": "stdout",
     "output_type": "stream",
     "text": [
      "\u001b[1m8/8\u001b[0m \u001b[32m━━━━━━━━━━━━━━━━━━━━\u001b[0m\u001b[37m\u001b[0m \u001b[1m0s\u001b[0m 21ms/step\n",
      "\u001b[1m8/8\u001b[0m \u001b[32m━━━━━━━━━━━━━━━━━━━━\u001b[0m\u001b[37m\u001b[0m \u001b[1m0s\u001b[0m 23ms/step\n"
     ]
    },
    {
     "name": "stderr",
     "output_type": "stream",
     "text": [
      "C:\\Users\\ReCas\\anaconda3\\Lib\\site-packages\\keras\\src\\layers\\convolutional\\base_conv.py:107: UserWarning: Do not pass an `input_shape`/`input_dim` argument to a layer. When using Sequential models, prefer using an `Input(shape)` object as the first layer in the model instead.\n",
      "  super().__init__(activity_regularizer=activity_regularizer, **kwargs)\n",
      "C:\\Users\\ReCas\\anaconda3\\Lib\\site-packages\\keras\\src\\layers\\convolutional\\base_conv.py:107: UserWarning: Do not pass an `input_shape`/`input_dim` argument to a layer. When using Sequential models, prefer using an `Input(shape)` object as the first layer in the model instead.\n",
      "  super().__init__(activity_regularizer=activity_regularizer, **kwargs)\n"
     ]
    },
    {
     "name": "stdout",
     "output_type": "stream",
     "text": [
      "Processing fc:force - Params: {'batch_size': 64, 'epochs': 10} - Mean Score (accuracy): 0.9567 - Time: 17.92 seconds\n",
      "\u001b[1m8/8\u001b[0m \u001b[32m━━━━━━━━━━━━━━━━━━━━\u001b[0m\u001b[37m\u001b[0m \u001b[1m0s\u001b[0m 18ms/step\n"
     ]
    },
    {
     "name": "stderr",
     "output_type": "stream",
     "text": [
      "C:\\Users\\ReCas\\anaconda3\\Lib\\site-packages\\keras\\src\\layers\\convolutional\\base_conv.py:107: UserWarning: Do not pass an `input_shape`/`input_dim` argument to a layer. When using Sequential models, prefer using an `Input(shape)` object as the first layer in the model instead.\n",
      "  super().__init__(activity_regularizer=activity_regularizer, **kwargs)\n"
     ]
    },
    {
     "name": "stdout",
     "output_type": "stream",
     "text": [
      "Processing fc:piece - Params: {'batch_size': 64, 'epochs': 10} - Mean Score (accuracy): 0.8726 - Time: 19.87 seconds\n",
      "Processing fc:country - Params: {'batch_size': 64, 'epochs': 10} - Mean Score (accuracy): 0.9339 - Time: 20.33 seconds\n",
      "Processing fc:exact_piece - Params: {'batch_size': 64, 'epochs': 10} - Mean Score (accuracy): 0.6570 - Time: 20.54 seconds\n",
      "\u001b[1m8/8\u001b[0m \u001b[32m━━━━━━━━━━━━━━━━━━━━\u001b[0m\u001b[37m\u001b[0m \u001b[1m0s\u001b[0m 24ms/step\n"
     ]
    },
    {
     "name": "stderr",
     "output_type": "stream",
     "text": [
      "C:\\Users\\ReCas\\anaconda3\\Lib\\site-packages\\keras\\src\\layers\\convolutional\\base_conv.py:107: UserWarning: Do not pass an `input_shape`/`input_dim` argument to a layer. When using Sequential models, prefer using an `Input(shape)` object as the first layer in the model instead.\n",
      "  super().__init__(activity_regularizer=activity_regularizer, **kwargs)\n"
     ]
    },
    {
     "name": "stdout",
     "output_type": "stream",
     "text": [
      "\u001b[1m8/8\u001b[0m \u001b[32m━━━━━━━━━━━━━━━━━━━━\u001b[0m\u001b[37m\u001b[0m \u001b[1m0s\u001b[0m 25ms/step\n",
      "\u001b[1m1/8\u001b[0m \u001b[32m━━\u001b[0m\u001b[37m━━━━━━━━━━━━━━━━━━\u001b[0m \u001b[1m0s\u001b[0m 107ms/step"
     ]
    },
    {
     "name": "stderr",
     "output_type": "stream",
     "text": [
      "C:\\Users\\ReCas\\anaconda3\\Lib\\site-packages\\keras\\src\\layers\\convolutional\\base_conv.py:107: UserWarning: Do not pass an `input_shape`/`input_dim` argument to a layer. When using Sequential models, prefer using an `Input(shape)` object as the first layer in the model instead.\n",
      "  super().__init__(activity_regularizer=activity_regularizer, **kwargs)\n"
     ]
    },
    {
     "name": "stdout",
     "output_type": "stream",
     "text": [
      "\u001b[1m8/8\u001b[0m \u001b[32m━━━━━━━━━━━━━━━━━━━━\u001b[0m\u001b[37m\u001b[0m \u001b[1m0s\u001b[0m 22ms/step\n"
     ]
    },
    {
     "name": "stderr",
     "output_type": "stream",
     "text": [
      "C:\\Users\\ReCas\\anaconda3\\Lib\\site-packages\\keras\\src\\layers\\convolutional\\base_conv.py:107: UserWarning: Do not pass an `input_shape`/`input_dim` argument to a layer. When using Sequential models, prefer using an `Input(shape)` object as the first layer in the model instead.\n",
      "  super().__init__(activity_regularizer=activity_regularizer, **kwargs)\n"
     ]
    },
    {
     "name": "stdout",
     "output_type": "stream",
     "text": [
      "Processing fc:force - Params: {'batch_size': 64, 'epochs': 20} - Mean Score (accuracy): 0.9902 - Time: 35.11 seconds\n",
      "Processing fc:piece - Params: {'batch_size': 64, 'epochs': 20} - Mean Score (accuracy): 0.9208 - Time: 34.26 seconds\n",
      "\u001b[1m8/8\u001b[0m \u001b[32m━━━━━━━━━━━━━━━━━━━━\u001b[0m\u001b[37m\u001b[0m \u001b[1m0s\u001b[0m 17ms/step\n",
      "Processing fc:force - Total time taken for image size (64, 64): 137.49 seconds\n",
      "\n",
      "Processing fc:force - Evaluating for image size: (128, 128)\n"
     ]
    },
    {
     "name": "stderr",
     "output_type": "stream",
     "text": [
      "C:\\Users\\ReCas\\anaconda3\\Lib\\site-packages\\keras\\src\\layers\\convolutional\\base_conv.py:107: UserWarning: Do not pass an `input_shape`/`input_dim` argument to a layer. When using Sequential models, prefer using an `Input(shape)` object as the first layer in the model instead.\n",
      "  super().__init__(activity_regularizer=activity_regularizer, **kwargs)\n"
     ]
    },
    {
     "name": "stdout",
     "output_type": "stream",
     "text": [
      "Processing fc:country - Params: {'batch_size': 64, 'epochs': 20} - Mean Score (accuracy): 0.9576 - Time: 37.58 seconds\n",
      "Processing fc:exact_piece - Params: {'batch_size': 64, 'epochs': 20} - Mean Score (accuracy): 0.8653 - Time: 37.62 seconds\n",
      "\u001b[1m8/8\u001b[0m \u001b[32m━━━━━━━━━━━━━━━━━━━━\u001b[0m\u001b[37m\u001b[0m \u001b[1m0s\u001b[0m 25ms/step\n",
      "Processing fc:piece - Total time taken for image size (64, 64): 140.26 seconds\n",
      "\n",
      "Processing fc:piece - Evaluating for image size: (128, 128)\n"
     ]
    },
    {
     "name": "stderr",
     "output_type": "stream",
     "text": [
      "C:\\Users\\ReCas\\anaconda3\\Lib\\site-packages\\keras\\src\\layers\\convolutional\\base_conv.py:107: UserWarning: Do not pass an `input_shape`/`input_dim` argument to a layer. When using Sequential models, prefer using an `Input(shape)` object as the first layer in the model instead.\n",
      "  super().__init__(activity_regularizer=activity_regularizer, **kwargs)\n"
     ]
    },
    {
     "name": "stdout",
     "output_type": "stream",
     "text": [
      "\u001b[1m8/8\u001b[0m \u001b[32m━━━━━━━━━━━━━━━━━━━━\u001b[0m\u001b[37m\u001b[0m \u001b[1m1s\u001b[0m 35ms/step\n",
      "Processing fc:country - Total time taken for image size (64, 64): 145.25 seconds\n",
      "\n",
      "Processing fc:country - Evaluating for image size: (128, 128)\n",
      "\u001b[1m8/8\u001b[0m \u001b[32m━━━━━━━━━━━━━━━━━━━━\u001b[0m\u001b[37m\u001b[0m \u001b[1m0s\u001b[0m 24ms/step\n",
      "Processing fc:exact_piece - Total time taken for image size (64, 64): 145.79 seconds\n",
      "\n",
      "Processing fc:exact_piece - Evaluating for image size: (128, 128)\n"
     ]
    },
    {
     "name": "stderr",
     "output_type": "stream",
     "text": [
      "C:\\Users\\ReCas\\anaconda3\\Lib\\site-packages\\keras\\src\\layers\\convolutional\\base_conv.py:107: UserWarning: Do not pass an `input_shape`/`input_dim` argument to a layer. When using Sequential models, prefer using an `Input(shape)` object as the first layer in the model instead.\n",
      "  super().__init__(activity_regularizer=activity_regularizer, **kwargs)\n"
     ]
    },
    {
     "name": "stdout",
     "output_type": "stream",
     "text": [
      "Processing fc:force - Params: {'batch_size': 32, 'epochs': 10} - Mean Score (accuracy): 0.9918 - Time: 77.72 seconds\n",
      "Processing fc:piece - Params: {'batch_size': 32, 'epochs': 10} - Mean Score (accuracy): 0.9714 - Time: 83.81 seconds\n",
      "Processing fc:country - Params: {'batch_size': 32, 'epochs': 10} - Mean Score (accuracy): 0.9624 - Time: 84.27 seconds\n",
      "Processing fc:exact_piece - Params: {'batch_size': 32, 'epochs': 10} - Mean Score (accuracy): 0.9151 - Time: 84.84 seconds\n",
      "\u001b[1m8/8\u001b[0m \u001b[32m━━━━━━━━━━━━━━━━━━━━\u001b[0m\u001b[37m\u001b[0m \u001b[1m0s\u001b[0m 38ms/step\n"
     ]
    },
    {
     "name": "stderr",
     "output_type": "stream",
     "text": [
      "C:\\Users\\ReCas\\anaconda3\\Lib\\site-packages\\keras\\src\\layers\\convolutional\\base_conv.py:107: UserWarning: Do not pass an `input_shape`/`input_dim` argument to a layer. When using Sequential models, prefer using an `Input(shape)` object as the first layer in the model instead.\n",
      "  super().__init__(activity_regularizer=activity_regularizer, **kwargs)\n"
     ]
    },
    {
     "name": "stdout",
     "output_type": "stream",
     "text": [
      "\u001b[1m8/8\u001b[0m \u001b[32m━━━━━━━━━━━━━━━━━━━━\u001b[0m\u001b[37m\u001b[0m \u001b[1m1s\u001b[0m 35ms/step\n"
     ]
    },
    {
     "name": "stderr",
     "output_type": "stream",
     "text": [
      "C:\\Users\\ReCas\\anaconda3\\Lib\\site-packages\\keras\\src\\layers\\convolutional\\base_conv.py:107: UserWarning: Do not pass an `input_shape`/`input_dim` argument to a layer. When using Sequential models, prefer using an `Input(shape)` object as the first layer in the model instead.\n",
      "  super().__init__(activity_regularizer=activity_regularizer, **kwargs)\n"
     ]
    },
    {
     "name": "stdout",
     "output_type": "stream",
     "text": [
      "\u001b[1m8/8\u001b[0m \u001b[32m━━━━━━━━━━━━━━━━━━━━\u001b[0m\u001b[37m\u001b[0m \u001b[1m0s\u001b[0m 38ms/step\n"
     ]
    },
    {
     "name": "stderr",
     "output_type": "stream",
     "text": [
      "C:\\Users\\ReCas\\anaconda3\\Lib\\site-packages\\keras\\src\\layers\\convolutional\\base_conv.py:107: UserWarning: Do not pass an `input_shape`/`input_dim` argument to a layer. When using Sequential models, prefer using an `Input(shape)` object as the first layer in the model instead.\n",
      "  super().__init__(activity_regularizer=activity_regularizer, **kwargs)\n"
     ]
    },
    {
     "name": "stdout",
     "output_type": "stream",
     "text": [
      "\u001b[1m8/8\u001b[0m \u001b[32m━━━━━━━━━━━━━━━━━━━━\u001b[0m\u001b[37m\u001b[0m \u001b[1m1s\u001b[0m 37ms/step\n"
     ]
    },
    {
     "name": "stderr",
     "output_type": "stream",
     "text": [
      "C:\\Users\\ReCas\\anaconda3\\Lib\\site-packages\\keras\\src\\layers\\convolutional\\base_conv.py:107: UserWarning: Do not pass an `input_shape`/`input_dim` argument to a layer. When using Sequential models, prefer using an `Input(shape)` object as the first layer in the model instead.\n",
      "  super().__init__(activity_regularizer=activity_regularizer, **kwargs)\n"
     ]
    },
    {
     "name": "stdout",
     "output_type": "stream",
     "text": [
      "Processing fc:force - Params: {'batch_size': 32, 'epochs': 20} - Mean Score (accuracy): 0.9959 - Time: 160.58 seconds\n",
      "Processing fc:piece - Params: {'batch_size': 32, 'epochs': 20} - Mean Score (accuracy): 0.9771 - Time: 160.42 seconds\n",
      "Processing fc:country - Params: {'batch_size': 32, 'epochs': 20} - Mean Score (accuracy): 0.9739 - Time: 162.53 seconds\n",
      "Processing fc:exact_piece - Params: {'batch_size': 32, 'epochs': 20} - Mean Score (accuracy): 0.9249 - Time: 162.81 seconds\n",
      "\u001b[1m8/8\u001b[0m \u001b[32m━━━━━━━━━━━━━━━━━━━━\u001b[0m\u001b[37m\u001b[0m \u001b[1m1s\u001b[0m 48ms/step\n"
     ]
    },
    {
     "name": "stderr",
     "output_type": "stream",
     "text": [
      "C:\\Users\\ReCas\\anaconda3\\Lib\\site-packages\\keras\\src\\layers\\convolutional\\base_conv.py:107: UserWarning: Do not pass an `input_shape`/`input_dim` argument to a layer. When using Sequential models, prefer using an `Input(shape)` object as the first layer in the model instead.\n",
      "  super().__init__(activity_regularizer=activity_regularizer, **kwargs)\n"
     ]
    },
    {
     "name": "stdout",
     "output_type": "stream",
     "text": [
      "\u001b[1m8/8\u001b[0m \u001b[32m━━━━━━━━━━━━━━━━━━━━\u001b[0m\u001b[37m\u001b[0m \u001b[1m1s\u001b[0m 45ms/step\n"
     ]
    },
    {
     "name": "stderr",
     "output_type": "stream",
     "text": [
      "C:\\Users\\ReCas\\anaconda3\\Lib\\site-packages\\keras\\src\\layers\\convolutional\\base_conv.py:107: UserWarning: Do not pass an `input_shape`/`input_dim` argument to a layer. When using Sequential models, prefer using an `Input(shape)` object as the first layer in the model instead.\n",
      "  super().__init__(activity_regularizer=activity_regularizer, **kwargs)\n"
     ]
    },
    {
     "name": "stdout",
     "output_type": "stream",
     "text": [
      "\u001b[1m8/8\u001b[0m \u001b[32m━━━━━━━━━━━━━━━━━━━━\u001b[0m\u001b[37m\u001b[0m \u001b[1m1s\u001b[0m 34ms/step\n"
     ]
    },
    {
     "name": "stderr",
     "output_type": "stream",
     "text": [
      "C:\\Users\\ReCas\\anaconda3\\Lib\\site-packages\\keras\\src\\layers\\convolutional\\base_conv.py:107: UserWarning: Do not pass an `input_shape`/`input_dim` argument to a layer. When using Sequential models, prefer using an `Input(shape)` object as the first layer in the model instead.\n",
      "  super().__init__(activity_regularizer=activity_regularizer, **kwargs)\n"
     ]
    },
    {
     "name": "stdout",
     "output_type": "stream",
     "text": [
      "\u001b[1m8/8\u001b[0m \u001b[32m━━━━━━━━━━━━━━━━━━━━\u001b[0m\u001b[37m\u001b[0m \u001b[1m1s\u001b[0m 46ms/step\n"
     ]
    },
    {
     "name": "stderr",
     "output_type": "stream",
     "text": [
      "C:\\Users\\ReCas\\anaconda3\\Lib\\site-packages\\keras\\src\\layers\\convolutional\\base_conv.py:107: UserWarning: Do not pass an `input_shape`/`input_dim` argument to a layer. When using Sequential models, prefer using an `Input(shape)` object as the first layer in the model instead.\n",
      "  super().__init__(activity_regularizer=activity_regularizer, **kwargs)\n"
     ]
    },
    {
     "name": "stdout",
     "output_type": "stream",
     "text": [
      "Processing fc:force - Params: {'batch_size': 64, 'epochs': 10} - Mean Score (accuracy): 0.9861 - Time: 69.95 seconds\n",
      "Processing fc:piece - Params: {'batch_size': 64, 'epochs': 10} - Mean Score (accuracy): 0.9347 - Time: 75.45 seconds\n",
      "\u001b[1m8/8\u001b[0m \u001b[32m━━━━━━━━━━━━━━━━━━━━\u001b[0m\u001b[37m\u001b[0m \u001b[1m1s\u001b[0m 39ms/step\n"
     ]
    },
    {
     "name": "stderr",
     "output_type": "stream",
     "text": [
      "C:\\Users\\ReCas\\anaconda3\\Lib\\site-packages\\keras\\src\\layers\\convolutional\\base_conv.py:107: UserWarning: Do not pass an `input_shape`/`input_dim` argument to a layer. When using Sequential models, prefer using an `Input(shape)` object as the first layer in the model instead.\n",
      "  super().__init__(activity_regularizer=activity_regularizer, **kwargs)\n"
     ]
    },
    {
     "name": "stdout",
     "output_type": "stream",
     "text": [
      "Processing fc:country - Params: {'batch_size': 64, 'epochs': 10} - Mean Score (accuracy): 0.9143 - Time: 75.92 seconds\n",
      "Processing fc:exact_piece - Params: {'batch_size': 64, 'epochs': 10} - Mean Score (accuracy): 0.8351 - Time: 74.83 seconds\n",
      "\u001b[1m8/8\u001b[0m \u001b[32m━━━━━━━━━━━━━━━━━━━━\u001b[0m\u001b[37m\u001b[0m \u001b[1m0s\u001b[0m 38ms/step\n"
     ]
    },
    {
     "name": "stderr",
     "output_type": "stream",
     "text": [
      "C:\\Users\\ReCas\\anaconda3\\Lib\\site-packages\\keras\\src\\layers\\convolutional\\base_conv.py:107: UserWarning: Do not pass an `input_shape`/`input_dim` argument to a layer. When using Sequential models, prefer using an `Input(shape)` object as the first layer in the model instead.\n",
      "  super().__init__(activity_regularizer=activity_regularizer, **kwargs)\n"
     ]
    },
    {
     "name": "stdout",
     "output_type": "stream",
     "text": [
      "\u001b[1m8/8\u001b[0m \u001b[32m━━━━━━━━━━━━━━━━━━━━\u001b[0m\u001b[37m\u001b[0m \u001b[1m1s\u001b[0m 72ms/step\n"
     ]
    },
    {
     "name": "stderr",
     "output_type": "stream",
     "text": [
      "C:\\Users\\ReCas\\anaconda3\\Lib\\site-packages\\keras\\src\\layers\\convolutional\\base_conv.py:107: UserWarning: Do not pass an `input_shape`/`input_dim` argument to a layer. When using Sequential models, prefer using an `Input(shape)` object as the first layer in the model instead.\n",
      "  super().__init__(activity_regularizer=activity_regularizer, **kwargs)\n"
     ]
    },
    {
     "name": "stdout",
     "output_type": "stream",
     "text": [
      "\u001b[1m8/8\u001b[0m \u001b[32m━━━━━━━━━━━━━━━━━━━━\u001b[0m\u001b[37m\u001b[0m \u001b[1m0s\u001b[0m 43ms/step\n"
     ]
    },
    {
     "name": "stderr",
     "output_type": "stream",
     "text": [
      "C:\\Users\\ReCas\\anaconda3\\Lib\\site-packages\\keras\\src\\layers\\convolutional\\base_conv.py:107: UserWarning: Do not pass an `input_shape`/`input_dim` argument to a layer. When using Sequential models, prefer using an `Input(shape)` object as the first layer in the model instead.\n",
      "  super().__init__(activity_regularizer=activity_regularizer, **kwargs)\n"
     ]
    },
    {
     "name": "stdout",
     "output_type": "stream",
     "text": [
      "Processing fc:force - Params: {'batch_size': 64, 'epochs': 20} - Mean Score (accuracy): 0.9951 - Time: 143.25 seconds\n",
      "Processing fc:piece - Params: {'batch_size': 64, 'epochs': 20} - Mean Score (accuracy): 0.9706 - Time: 144.52 seconds\n",
      "Processing fc:country - Params: {'batch_size': 64, 'epochs': 20} - Mean Score (accuracy): 0.9600 - Time: 143.33 seconds\n",
      "Processing fc:exact_piece - Params: {'batch_size': 64, 'epochs': 20} - Mean Score (accuracy): 0.8963 - Time: 146.76 seconds\n",
      "\u001b[1m8/8\u001b[0m \u001b[32m━━━━━━━━━━━━━━━━━━━━\u001b[0m\u001b[37m\u001b[0m \u001b[1m0s\u001b[0m 35ms/step\n",
      "Processing fc:force - Total time taken for image size (128, 128): 544.46 seconds\n",
      "\n",
      "Processing fc:force - Evaluating for image size: (256, 256)\n"
     ]
    },
    {
     "name": "stderr",
     "output_type": "stream",
     "text": [
      "C:\\Users\\ReCas\\anaconda3\\Lib\\site-packages\\keras\\src\\layers\\convolutional\\base_conv.py:107: UserWarning: Do not pass an `input_shape`/`input_dim` argument to a layer. When using Sequential models, prefer using an `Input(shape)` object as the first layer in the model instead.\n",
      "  super().__init__(activity_regularizer=activity_regularizer, **kwargs)\n"
     ]
    },
    {
     "name": "stdout",
     "output_type": "stream",
     "text": [
      "\u001b[1m8/8\u001b[0m \u001b[32m━━━━━━━━━━━━━━━━━━━━\u001b[0m\u001b[37m\u001b[0m \u001b[1m1s\u001b[0m 46ms/step\n",
      "Processing fc:piece - Total time taken for image size (128, 128): 551.26 seconds\n",
      "\n",
      "Processing fc:piece - Evaluating for image size: (256, 256)\n",
      "\u001b[1m8/8\u001b[0m \u001b[32m━━━━━━━━━━━━━━━━━━━━\u001b[0m\u001b[37m\u001b[0m \u001b[1m1s\u001b[0m 49ms/step\n"
     ]
    },
    {
     "name": "stderr",
     "output_type": "stream",
     "text": [
      "C:\\Users\\ReCas\\anaconda3\\Lib\\site-packages\\keras\\src\\layers\\convolutional\\base_conv.py:107: UserWarning: Do not pass an `input_shape`/`input_dim` argument to a layer. When using Sequential models, prefer using an `Input(shape)` object as the first layer in the model instead.\n",
      "  super().__init__(activity_regularizer=activity_regularizer, **kwargs)\n"
     ]
    },
    {
     "name": "stdout",
     "output_type": "stream",
     "text": [
      "Processing fc:country - Total time taken for image size (128, 128): 549.35 seconds\n",
      "\n",
      "Processing fc:country - Evaluating for image size: (256, 256)\n"
     ]
    },
    {
     "name": "stderr",
     "output_type": "stream",
     "text": [
      "C:\\Users\\ReCas\\anaconda3\\Lib\\site-packages\\keras\\src\\layers\\convolutional\\base_conv.py:107: UserWarning: Do not pass an `input_shape`/`input_dim` argument to a layer. When using Sequential models, prefer using an `Input(shape)` object as the first layer in the model instead.\n",
      "  super().__init__(activity_regularizer=activity_regularizer, **kwargs)\n"
     ]
    },
    {
     "name": "stdout",
     "output_type": "stream",
     "text": [
      "\u001b[1m8/8\u001b[0m \u001b[32m━━━━━━━━━━━━━━━━━━━━\u001b[0m\u001b[37m\u001b[0m \u001b[1m0s\u001b[0m 40ms/step\n",
      "Processing fc:exact_piece - Total time taken for image size (128, 128): 553.55 seconds\n",
      "\n",
      "Processing fc:exact_piece - Evaluating for image size: (256, 256)\n"
     ]
    },
    {
     "name": "stderr",
     "output_type": "stream",
     "text": [
      "C:\\Users\\ReCas\\anaconda3\\Lib\\site-packages\\keras\\src\\layers\\convolutional\\base_conv.py:107: UserWarning: Do not pass an `input_shape`/`input_dim` argument to a layer. When using Sequential models, prefer using an `Input(shape)` object as the first layer in the model instead.\n",
      "  super().__init__(activity_regularizer=activity_regularizer, **kwargs)\n"
     ]
    },
    {
     "name": "stdout",
     "output_type": "stream",
     "text": [
      "Processing fc:force - Params: {'batch_size': 32, 'epochs': 10} - Mean Score (accuracy): 0.9943 - Time: 333.32 seconds\n",
      "Processing fc:piece - Params: {'batch_size': 32, 'epochs': 10} - Mean Score (accuracy): 0.9804 - Time: 342.06 seconds\n",
      "Processing fc:country - Params: {'batch_size': 32, 'epochs': 10} - Mean Score (accuracy): 0.9673 - Time: 350.21 seconds\n",
      "Processing fc:exact_piece - Params: {'batch_size': 32, 'epochs': 10} - Mean Score (accuracy): 0.8980 - Time: 350.10 seconds\n",
      "\u001b[1m8/8\u001b[0m \u001b[32m━━━━━━━━━━━━━━━━━━━━\u001b[0m\u001b[37m\u001b[0m \u001b[1m1s\u001b[0m 100ms/step\n"
     ]
    },
    {
     "name": "stderr",
     "output_type": "stream",
     "text": [
      "C:\\Users\\ReCas\\anaconda3\\Lib\\site-packages\\keras\\src\\layers\\convolutional\\base_conv.py:107: UserWarning: Do not pass an `input_shape`/`input_dim` argument to a layer. When using Sequential models, prefer using an `Input(shape)` object as the first layer in the model instead.\n",
      "  super().__init__(activity_regularizer=activity_regularizer, **kwargs)\n"
     ]
    },
    {
     "name": "stdout",
     "output_type": "stream",
     "text": [
      "\u001b[1m8/8\u001b[0m \u001b[32m━━━━━━━━━━━━━━━━━━━━\u001b[0m\u001b[37m\u001b[0m \u001b[1m1s\u001b[0m 95ms/step\n"
     ]
    },
    {
     "name": "stderr",
     "output_type": "stream",
     "text": [
      "C:\\Users\\ReCas\\anaconda3\\Lib\\site-packages\\keras\\src\\layers\\convolutional\\base_conv.py:107: UserWarning: Do not pass an `input_shape`/`input_dim` argument to a layer. When using Sequential models, prefer using an `Input(shape)` object as the first layer in the model instead.\n",
      "  super().__init__(activity_regularizer=activity_regularizer, **kwargs)\n"
     ]
    },
    {
     "name": "stdout",
     "output_type": "stream",
     "text": [
      "\u001b[1m8/8\u001b[0m \u001b[32m━━━━━━━━━━━━━━━━━━━━\u001b[0m\u001b[37m\u001b[0m \u001b[1m1s\u001b[0m 81ms/step\n"
     ]
    },
    {
     "name": "stderr",
     "output_type": "stream",
     "text": [
      "C:\\Users\\ReCas\\anaconda3\\Lib\\site-packages\\keras\\src\\layers\\convolutional\\base_conv.py:107: UserWarning: Do not pass an `input_shape`/`input_dim` argument to a layer. When using Sequential models, prefer using an `Input(shape)` object as the first layer in the model instead.\n",
      "  super().__init__(activity_regularizer=activity_regularizer, **kwargs)\n"
     ]
    },
    {
     "name": "stdout",
     "output_type": "stream",
     "text": [
      "\u001b[1m8/8\u001b[0m \u001b[32m━━━━━━━━━━━━━━━━━━━━\u001b[0m\u001b[37m\u001b[0m \u001b[1m1s\u001b[0m 74ms/step\n"
     ]
    },
    {
     "name": "stderr",
     "output_type": "stream",
     "text": [
      "C:\\Users\\ReCas\\anaconda3\\Lib\\site-packages\\keras\\src\\layers\\convolutional\\base_conv.py:107: UserWarning: Do not pass an `input_shape`/`input_dim` argument to a layer. When using Sequential models, prefer using an `Input(shape)` object as the first layer in the model instead.\n",
      "  super().__init__(activity_regularizer=activity_regularizer, **kwargs)\n"
     ]
    },
    {
     "name": "stdout",
     "output_type": "stream",
     "text": [
      "Processing fc:force - Params: {'batch_size': 32, 'epochs': 20} - Mean Score (accuracy): 0.9959 - Time: 680.00 seconds\n",
      "Processing fc:country - Params: {'batch_size': 32, 'epochs': 20} - Mean Score (accuracy): 0.9894 - Time: 682.70 seconds\n",
      "Processing fc:piece - Params: {'batch_size': 32, 'epochs': 20} - Mean Score (accuracy): 0.9755 - Time: 699.97 seconds\n",
      "Processing fc:exact_piece - Params: {'batch_size': 32, 'epochs': 20} - Mean Score (accuracy): 0.9551 - Time: 695.63 seconds\n",
      "\u001b[1m8/8\u001b[0m \u001b[32m━━━━━━━━━━━━━━━━━━━━\u001b[0m\u001b[37m\u001b[0m \u001b[1m1s\u001b[0m 80ms/step\n"
     ]
    },
    {
     "name": "stderr",
     "output_type": "stream",
     "text": [
      "C:\\Users\\ReCas\\anaconda3\\Lib\\site-packages\\keras\\src\\layers\\convolutional\\base_conv.py:107: UserWarning: Do not pass an `input_shape`/`input_dim` argument to a layer. When using Sequential models, prefer using an `Input(shape)` object as the first layer in the model instead.\n",
      "  super().__init__(activity_regularizer=activity_regularizer, **kwargs)\n"
     ]
    },
    {
     "name": "stdout",
     "output_type": "stream",
     "text": [
      "\u001b[1m8/8\u001b[0m \u001b[32m━━━━━━━━━━━━━━━━━━━━\u001b[0m\u001b[37m\u001b[0m \u001b[1m1s\u001b[0m 88ms/step\n"
     ]
    },
    {
     "name": "stderr",
     "output_type": "stream",
     "text": [
      "C:\\Users\\ReCas\\anaconda3\\Lib\\site-packages\\keras\\src\\layers\\convolutional\\base_conv.py:107: UserWarning: Do not pass an `input_shape`/`input_dim` argument to a layer. When using Sequential models, prefer using an `Input(shape)` object as the first layer in the model instead.\n",
      "  super().__init__(activity_regularizer=activity_regularizer, **kwargs)\n"
     ]
    },
    {
     "name": "stdout",
     "output_type": "stream",
     "text": [
      "\u001b[1m8/8\u001b[0m \u001b[32m━━━━━━━━━━━━━━━━━━━━\u001b[0m\u001b[37m\u001b[0m \u001b[1m1s\u001b[0m 65ms/step\n"
     ]
    },
    {
     "name": "stderr",
     "output_type": "stream",
     "text": [
      "C:\\Users\\ReCas\\anaconda3\\Lib\\site-packages\\keras\\src\\layers\\convolutional\\base_conv.py:107: UserWarning: Do not pass an `input_shape`/`input_dim` argument to a layer. When using Sequential models, prefer using an `Input(shape)` object as the first layer in the model instead.\n",
      "  super().__init__(activity_regularizer=activity_regularizer, **kwargs)\n"
     ]
    },
    {
     "name": "stdout",
     "output_type": "stream",
     "text": [
      "\u001b[1m8/8\u001b[0m \u001b[32m━━━━━━━━━━━━━━━━━━━━\u001b[0m\u001b[37m\u001b[0m \u001b[1m1s\u001b[0m 83ms/step\n"
     ]
    },
    {
     "name": "stderr",
     "output_type": "stream",
     "text": [
      "C:\\Users\\ReCas\\anaconda3\\Lib\\site-packages\\keras\\src\\layers\\convolutional\\base_conv.py:107: UserWarning: Do not pass an `input_shape`/`input_dim` argument to a layer. When using Sequential models, prefer using an `Input(shape)` object as the first layer in the model instead.\n",
      "  super().__init__(activity_regularizer=activity_regularizer, **kwargs)\n"
     ]
    },
    {
     "name": "stdout",
     "output_type": "stream",
     "text": [
      "Processing fc:force - Params: {'batch_size': 64, 'epochs': 10} - Mean Score (accuracy): 0.9902 - Time: 310.00 seconds\n",
      "Processing fc:country - Params: {'batch_size': 64, 'epochs': 10} - Mean Score (accuracy): 0.9241 - Time: 313.81 seconds\n",
      "Processing fc:piece - Params: {'batch_size': 64, 'epochs': 10} - Mean Score (accuracy): 0.9608 - Time: 311.02 seconds\n",
      "Processing fc:exact_piece - Params: {'batch_size': 64, 'epochs': 10} - Mean Score (accuracy): 0.9094 - Time: 302.33 seconds\n",
      "\u001b[1m8/8\u001b[0m \u001b[32m━━━━━━━━━━━━━━━━━━━━\u001b[0m\u001b[37m\u001b[0m \u001b[1m1s\u001b[0m 61ms/step\n"
     ]
    },
    {
     "name": "stderr",
     "output_type": "stream",
     "text": [
      "C:\\Users\\ReCas\\anaconda3\\Lib\\site-packages\\keras\\src\\layers\\convolutional\\base_conv.py:107: UserWarning: Do not pass an `input_shape`/`input_dim` argument to a layer. When using Sequential models, prefer using an `Input(shape)` object as the first layer in the model instead.\n",
      "  super().__init__(activity_regularizer=activity_regularizer, **kwargs)\n"
     ]
    },
    {
     "name": "stdout",
     "output_type": "stream",
     "text": [
      "\u001b[1m8/8\u001b[0m \u001b[32m━━━━━━━━━━━━━━━━━━━━\u001b[0m\u001b[37m\u001b[0m \u001b[1m1s\u001b[0m 86ms/step\n",
      "\u001b[1m1/8\u001b[0m \u001b[32m━━\u001b[0m\u001b[37m━━━━━━━━━━━━━━━━━━\u001b[0m \u001b[1m1s\u001b[0m 227ms/step"
     ]
    },
    {
     "name": "stderr",
     "output_type": "stream",
     "text": [
      "C:\\Users\\ReCas\\anaconda3\\Lib\\site-packages\\keras\\src\\layers\\convolutional\\base_conv.py:107: UserWarning: Do not pass an `input_shape`/`input_dim` argument to a layer. When using Sequential models, prefer using an `Input(shape)` object as the first layer in the model instead.\n",
      "  super().__init__(activity_regularizer=activity_regularizer, **kwargs)\n"
     ]
    },
    {
     "name": "stdout",
     "output_type": "stream",
     "text": [
      "\u001b[1m8/8\u001b[0m \u001b[32m━━━━━━━━━━━━━━━━━━━━\u001b[0m\u001b[37m\u001b[0m \u001b[1m1s\u001b[0m 64ms/step\n"
     ]
    },
    {
     "name": "stderr",
     "output_type": "stream",
     "text": [
      "C:\\Users\\ReCas\\anaconda3\\Lib\\site-packages\\keras\\src\\layers\\convolutional\\base_conv.py:107: UserWarning: Do not pass an `input_shape`/`input_dim` argument to a layer. When using Sequential models, prefer using an `Input(shape)` object as the first layer in the model instead.\n",
      "  super().__init__(activity_regularizer=activity_regularizer, **kwargs)\n"
     ]
    },
    {
     "name": "stdout",
     "output_type": "stream",
     "text": [
      "\u001b[1m8/8\u001b[0m \u001b[32m━━━━━━━━━━━━━━━━━━━━\u001b[0m\u001b[37m\u001b[0m \u001b[1m1s\u001b[0m 68ms/step\n"
     ]
    },
    {
     "name": "stderr",
     "output_type": "stream",
     "text": [
      "C:\\Users\\ReCas\\anaconda3\\Lib\\site-packages\\keras\\src\\layers\\convolutional\\base_conv.py:107: UserWarning: Do not pass an `input_shape`/`input_dim` argument to a layer. When using Sequential models, prefer using an `Input(shape)` object as the first layer in the model instead.\n",
      "  super().__init__(activity_regularizer=activity_regularizer, **kwargs)\n"
     ]
    },
    {
     "name": "stdout",
     "output_type": "stream",
     "text": [
      "Processing fc:force - Params: {'batch_size': 64, 'epochs': 20} - Mean Score (accuracy): 0.9959 - Time: 597.11 seconds\n",
      "Processing fc:country - Params: {'batch_size': 64, 'epochs': 20} - Mean Score (accuracy): 0.9747 - Time: 597.76 seconds\n",
      "Processing fc:piece - Params: {'batch_size': 64, 'epochs': 20} - Mean Score (accuracy): 0.9804 - Time: 601.69 seconds\n",
      "Processing fc:exact_piece - Params: {'batch_size': 64, 'epochs': 20} - Mean Score (accuracy): 0.9331 - Time: 611.61 seconds\n",
      "\u001b[1m8/8\u001b[0m \u001b[32m━━━━━━━━━━━━━━━━━━━━\u001b[0m\u001b[37m\u001b[0m \u001b[1m1s\u001b[0m 85ms/step\n",
      "Processing fc:force - Total time taken for image size (256, 256): 2314.50 seconds\n",
      "\n",
      "Processing fc:force - Best Score: 0.9959183812141419\n",
      "Processing fc:force - Best Parameters: {'batch_size': 32, 'epochs': 20}\n",
      "Processing fc:force - Best Image Size: (128, 128)\n",
      "Processing fc:force - Grid search results saved to C:\\Users\\ReCas\\OneDrive\\Documents\\2024_AIMachineLearning\\99_Projects\\08.DataSets_fc\\fc_force_LeNet5_results_20240806_011531.xlsx\n",
      "Processing fc:force - Loading and preprocessing test data\n",
      "\u001b[1m8/8\u001b[0m \u001b[32m━━━━━━━━━━━━━━━━━━━━\u001b[0m\u001b[37m\u001b[0m \u001b[1m1s\u001b[0m 66ms/step\n",
      "Processing fc:country - Total time taken for image size (256, 256): 2326.50 seconds\n",
      "\n",
      "Processing fc:country - Best Score: 0.9893877506256104\n",
      "Processing fc:country - Best Parameters: {'batch_size': 32, 'epochs': 20}\n",
      "Processing fc:country - Best Image Size: (256, 256)\n",
      "Processing fc:country - Grid search results saved to C:\\Users\\ReCas\\OneDrive\\Documents\\2024_AIMachineLearning\\99_Projects\\08.DataSets_fc\\fc_country_LeNet5_results_20240806_011556.xlsx\n",
      "Processing fc:country - Loading and preprocessing test data\n",
      "\u001b[1m8/8\u001b[0m \u001b[32m━━━━━━━━━━━━━━━━━━━━\u001b[0m\u001b[37m\u001b[0m \u001b[1m0s\u001b[0m 45ms/step\n",
      "Processing fc:piece - Total time taken for image size (256, 256): 2332.72 seconds\n",
      "\n",
      "Processing fc:piece - Best Score: 0.9804081678390503\n",
      "Processing fc:piece - Best Parameters: {'batch_size': 64, 'epochs': 20}\n",
      "Processing fc:piece - Best Image Size: (256, 256)\n",
      "Processing fc:piece - Grid search results saved to C:\\Users\\ReCas\\OneDrive\\Documents\\2024_AIMachineLearning\\99_Projects\\08.DataSets_fc\\fc_piece_LeNet5_results_20240806_011559.xlsx\n",
      "Processing fc:piece - Loading and preprocessing test data\n",
      "\u001b[1m8/8\u001b[0m \u001b[32m━━━━━━━━━━━━━━━━━━━━\u001b[0m\u001b[37m\u001b[0m \u001b[1m0s\u001b[0m 24ms/step\n",
      "Processing fc:exact_piece - Total time taken for image size (256, 256): 2328.93 seconds\n",
      "\n",
      "Processing fc:exact_piece - Best Score: 0.9551020503044129\n",
      "Processing fc:exact_piece - Best Parameters: {'batch_size': 32, 'epochs': 20}\n",
      "Processing fc:exact_piece - Best Image Size: (256, 256)\n",
      "Processing fc:exact_piece - Grid search results saved to C:\\Users\\ReCas\\OneDrive\\Documents\\2024_AIMachineLearning\\99_Projects\\08.DataSets_fc\\fc_exact_piece_LeNet5_results_20240806_011603.xlsx\n",
      "Processing fc:exact_piece - Loading and preprocessing test data\n"
     ]
    },
    {
     "name": "stderr",
     "output_type": "stream",
     "text": [
      "C:\\Users\\ReCas\\anaconda3\\Lib\\site-packages\\keras\\src\\layers\\convolutional\\base_conv.py:107: UserWarning: Do not pass an `input_shape`/`input_dim` argument to a layer. When using Sequential models, prefer using an `Input(shape)` object as the first layer in the model instead.\n",
      "  super().__init__(activity_regularizer=activity_regularizer, **kwargs)\n"
     ]
    },
    {
     "name": "stdout",
     "output_type": "stream",
     "text": [
      "\u001b[1m10/10\u001b[0m \u001b[32m━━━━━━━━━━━━━━━━━━━━\u001b[0m\u001b[37m\u001b[0m \u001b[1m0s\u001b[0m 10ms/step\n",
      "Processing fc:force - Test Accuracy: 0.9804\n",
      "Processing fc:force - Time taken for final training: 14.64 seconds\n",
      "Processing fc:force - Time taken for final prediction: 0.20 seconds\n",
      "Processing fc:force - Test Classification Report:\n",
      "              precision    recall  f1-score   support\n",
      "\n",
      "         AIR       0.93      0.99      0.96        68\n",
      "         LND       0.98      0.94      0.96        68\n",
      "         SEA       1.00      0.99      1.00       170\n",
      "\n",
      "    accuracy                           0.98       306\n",
      "   macro avg       0.97      0.97      0.97       306\n",
      "weighted avg       0.98      0.98      0.98       306\n",
      "\n",
      "Processing fc:force - Test Confusion Matrix:\n",
      "[[ 67   1   0]\n",
      " [  4  64   0]\n",
      " [  1   0 169]]\n",
      "Processing fc:force - Ended at 2024-08-06 01:16:24.299322\n",
      "Processing fc:force - Total duration: 0:51:52.998097\n",
      "Processing fc:force - Best Parameters identified from the grid search: {'batch_size': 32, 'epochs': 20}\n",
      "Processing fc:force - Best Image Size identified from the grid search: (128, 128)\n",
      "Processing fc:force - Final test results saved to C:\\Users\\ReCas\\OneDrive\\Documents\\2024_AIMachineLearning\\99_Projects\\08.DataSets_fc\\fc_force_LeNet5_results_20240806_011531.xlsx\n"
     ]
    },
    {
     "name": "stderr",
     "output_type": "stream",
     "text": [
      "C:\\Users\\ReCas\\anaconda3\\Lib\\site-packages\\keras\\src\\layers\\convolutional\\base_conv.py:107: UserWarning: Do not pass an `input_shape`/`input_dim` argument to a layer. When using Sequential models, prefer using an `Input(shape)` object as the first layer in the model instead.\n",
      "  super().__init__(activity_regularizer=activity_regularizer, **kwargs)\n"
     ]
    },
    {
     "name": "stdout",
     "output_type": "stream",
     "text": [
      "\u001b[1m10/10\u001b[0m \u001b[32m━━━━━━━━━━━━━━━━━━━━\u001b[0m\u001b[37m\u001b[0m \u001b[1m1s\u001b[0m 64ms/step\n",
      "Processing fc:country - Test Accuracy: 0.8464\n",
      "Processing fc:country - Time taken for final training: 121.31 seconds\n",
      "Processing fc:country - Time taken for final prediction: 1.12 seconds\n",
      "Processing fc:country - Test Classification Report:\n",
      "              precision    recall  f1-score   support\n",
      "\n",
      "      100RUS       0.81      0.79      0.80        61\n",
      "      200GER       0.74      0.95      0.83        61\n",
      "       300UK       0.96      0.74      0.83        61\n",
      "      400JAP       0.97      0.95      0.96        62\n",
      "      500USA       0.80      0.80      0.80        61\n",
      "\n",
      "    accuracy                           0.85       306\n",
      "   macro avg       0.86      0.85      0.85       306\n",
      "weighted avg       0.86      0.85      0.85       306\n",
      "\n",
      "Processing fc:country - Test Confusion Matrix:\n",
      "[[48 12  0  0  1]\n",
      " [ 3 58  0  0  0]\n",
      " [ 3  0 45  2 11]\n",
      " [ 3  0  0 59  0]\n",
      " [ 2  8  2  0 49]]\n",
      "Processing fc:country - Ended at 2024-08-06 01:18:27.844525\n",
      "Processing fc:country - Total duration: 0:53:56.543300\n",
      "Processing fc:country - Best Parameters identified from the grid search: {'batch_size': 32, 'epochs': 20}\n",
      "Processing fc:country - Best Image Size identified from the grid search: (256, 256)\n",
      "Processing fc:country - Final test results saved to C:\\Users\\ReCas\\OneDrive\\Documents\\2024_AIMachineLearning\\99_Projects\\08.DataSets_fc\\fc_country_LeNet5_results_20240806_011556.xlsx\n",
      "\u001b[1m10/10\u001b[0m \u001b[32m━━━━━━━━━━━━━━━━━━━━\u001b[0m\u001b[37m\u001b[0m \u001b[1m1s\u001b[0m 39ms/step\n",
      "Processing fc:piece - Test Accuracy: 0.6078\n",
      "Processing fc:piece - Time taken for final training: 125.00 seconds\n",
      "Processing fc:piece - Time taken for final prediction: 0.69 seconds\n",
      "Processing fc:piece - Test Classification Report:\n",
      "              precision    recall  f1-score   support\n",
      "\n",
      "       01INF       0.96      0.76      0.85        34\n",
      "       02TNK       0.92      0.71      0.80        34\n",
      "       03FGT       1.00      0.18      0.30        34\n",
      "       04BMB       0.40      0.74      0.52        34\n",
      "       05DES       0.53      0.59      0.56        34\n",
      "       06TRS       0.79      0.65      0.71        34\n",
      "       07SUB       1.00      0.24      0.38        34\n",
      "       08BAT       0.50      0.62      0.55        34\n",
      "       09CAR       0.50      1.00      0.67        34\n",
      "\n",
      "    accuracy                           0.61       306\n",
      "   macro avg       0.73      0.61      0.59       306\n",
      "weighted avg       0.73      0.61      0.59       306\n",
      "\n",
      "Processing fc:piece - Test Confusion Matrix:\n",
      "[[26  2  0  4  1  1  0  0  0]\n",
      " [ 1 24  0  5  4  0  0  0  0]\n",
      " [ 0  0  6 23  5  0  0  0  0]\n",
      " [ 0  0  0 25  7  1  0  0  1]\n",
      " [ 0  0  0  5 20  3  0  2  4]\n",
      " [ 0  0  0  1  1 22  0  6  4]\n",
      " [ 0  0  0  0  0  1  8 13 12]\n",
      " [ 0  0  0  0  0  0  0 21 13]\n",
      " [ 0  0  0  0  0  0  0  0 34]]\n",
      "Processing fc:piece - Ended at 2024-08-06 01:18:32.299338\n",
      "Processing fc:piece - Total duration: 0:54:00.997114\n",
      "Processing fc:piece - Best Parameters identified from the grid search: {'batch_size': 64, 'epochs': 20}\n",
      "Processing fc:piece - Best Image Size identified from the grid search: (256, 256)\n",
      "Processing fc:piece - Final test results saved to C:\\Users\\ReCas\\OneDrive\\Documents\\2024_AIMachineLearning\\99_Projects\\08.DataSets_fc\\fc_piece_LeNet5_results_20240806_011559.xlsx\n",
      "\u001b[1m10/10\u001b[0m \u001b[32m━━━━━━━━━━━━━━━━━━━━\u001b[0m\u001b[37m\u001b[0m \u001b[1m0s\u001b[0m 21ms/step\n",
      "Processing fc:exact_piece - Test Accuracy: 0.5980\n",
      "Processing fc:exact_piece - Time taken for final training: 121.49 seconds\n",
      "Processing fc:exact_piece - Time taken for final prediction: 0.33 seconds\n",
      "Processing fc:exact_piece - Test Classification Report:\n",
      "                  precision    recall  f1-score   support\n",
      "\n",
      "101_100RUS_01INF       0.83      0.71      0.77         7\n",
      "102_100RUS_02TNK       1.00      0.43      0.60         7\n",
      "103_100RUS_03FGT       0.71      0.71      0.71         7\n",
      "104_100RUS_04BMB       0.50      0.71      0.59         7\n",
      "105_100RUS_05DES       0.12      0.17      0.14         6\n",
      "106_100RUS_06TRS       0.56      0.71      0.62         7\n",
      "107_100RUS_07SUB       0.55      0.86      0.67         7\n",
      "108_100RUS_08BAT       0.86      0.86      0.86         7\n",
      "109_100RUS_09CAR       0.60      1.00      0.75         6\n",
      "201_200GER_01INF       1.00      0.43      0.60         7\n",
      "202_200GER_02TNK       0.67      0.57      0.62         7\n",
      "203_200GER_03FGT       0.80      0.57      0.67         7\n",
      "204_200GER_04BMB       0.20      0.50      0.29         6\n",
      "205_200GER_05DES       0.50      0.14      0.22         7\n",
      "206_200GER_06TRS       0.62      0.71      0.67         7\n",
      "207_200GER_07SUB       0.83      0.71      0.77         7\n",
      "208_200GER_08BAT       0.50      0.71      0.59         7\n",
      "209_200GER_09CAR       0.80      0.57      0.67         7\n",
      " 301_300UK_01INF       1.00      0.43      0.60         7\n",
      " 302_300UK_02TNK       1.00      0.71      0.83         7\n",
      " 303_300UK_03FGT       1.00      0.43      0.60         7\n",
      " 304_300UK_04BMB       0.40      0.29      0.33         7\n",
      " 305_300UK_05DES       0.75      0.43      0.55         7\n",
      " 306_300UK_06TRS       1.00      0.43      0.60         7\n",
      " 307_300UK_07SUB       1.00      0.57      0.73         7\n",
      " 308_300UK_08BAT       0.50      0.33      0.40         6\n",
      " 309_300UK_09CAR       0.83      0.83      0.83         6\n",
      "401_400JAP_01INF       0.46      0.86      0.60         7\n",
      "402_400JAP_02TNK       0.67      0.86      0.75         7\n",
      "403_400JAP_03FGT       0.71      0.71      0.71         7\n",
      "404_400JAP_04BMB       0.50      0.71      0.59         7\n",
      "405_400JAP_05DES       0.71      0.71      0.71         7\n",
      "406_400JAP_06TRS       0.43      0.86      0.57         7\n",
      "407_400JAP_07SUB       1.00      0.57      0.73         7\n",
      "408_400JAP_08BAT       0.20      0.29      0.24         7\n",
      "409_400JAP_09CAR       0.42      0.83      0.56         6\n",
      "501_500USA_01INF       0.20      0.14      0.17         7\n",
      "502_500USA_02TNK       0.86      0.86      0.86         7\n",
      "503_500USA_03FGT       0.75      0.43      0.55         7\n",
      "504_500USA_04BMB       1.00      0.50      0.67         6\n",
      "505_500USA_05DES       0.50      0.43      0.46         7\n",
      "506_500USA_06TRS       0.56      0.83      0.67         6\n",
      "507_500USA_07SUB       1.00      0.57      0.73         7\n",
      "508_500USA_08BAT       0.50      0.50      0.50         6\n",
      "509_500USA_09CAR       0.62      0.71      0.67         7\n",
      "\n",
      "        accuracy                           0.60       306\n",
      "       macro avg       0.67      0.60      0.60       306\n",
      "    weighted avg       0.68      0.60      0.60       306\n",
      "\n",
      "Processing fc:exact_piece - Test Confusion Matrix:\n",
      "[[5 0 0 ... 0 0 0]\n",
      " [0 3 0 ... 0 0 0]\n",
      " [0 0 5 ... 0 0 0]\n",
      " ...\n",
      " [0 0 0 ... 4 0 0]\n",
      " [0 0 0 ... 0 3 0]\n",
      " [0 0 0 ... 0 0 5]]\n",
      "Processing fc:exact_piece - Ended at 2024-08-06 01:18:37.864579\n",
      "Processing fc:exact_piece - Total duration: 0:54:06.563354\n",
      "Processing fc:exact_piece - Best Parameters identified from the grid search: {'batch_size': 32, 'epochs': 20}\n",
      "Processing fc:exact_piece - Best Image Size identified from the grid search: (256, 256)\n",
      "Processing fc:exact_piece - Final test results saved to C:\\Users\\ReCas\\OneDrive\\Documents\\2024_AIMachineLearning\\99_Projects\\08.DataSets_fc\\fc_exact_piece_LeNet5_results_20240806_011603.xlsx\n",
      "Overall processing ended at 2024-08-06 01:18:38.017981\n",
      "Total duration for all models: 0:54:06.718755\n"
     ]
    }
   ],
   "source": [
    "import os\n",
    "import numpy as np\n",
    "import cv2\n",
    "import time\n",
    "import pandas as pd\n",
    "from sklearn.model_selection import KFold, train_test_split\n",
    "from sklearn.metrics import classification_report, confusion_matrix, accuracy_score\n",
    "from datetime import datetime\n",
    "import concurrent.futures\n",
    "import tensorflow as tf\n",
    "from tensorflow.keras.models import Sequential\n",
    "from tensorflow.keras.layers import Conv2D, MaxPooling2D, Flatten, Dense\n",
    "from tensorflow.keras.utils import to_categorical\n",
    "\n",
    "# Function to load and preprocess images\n",
    "def load_images_from_folder(folder, target_size):\n",
    "    images = []\n",
    "    labels = []\n",
    "    class_names = os.listdir(folder)\n",
    "    filenames = []\n",
    "    for label, class_name in enumerate(class_names):\n",
    "        class_folder = os.path.join(folder, class_name)\n",
    "        for filename in os.listdir(class_folder):\n",
    "            img_path = os.path.join(class_folder, filename)\n",
    "            img = cv2.imread(img_path, cv2.IMREAD_UNCHANGED)\n",
    "            if img is not None:\n",
    "                if len(img.shape) == 2:  # Grayscale image\n",
    "                    img = cv2.cvtColor(img, cv2.COLOR_GRAY2RGB)\n",
    "                elif img.shape[2] == 4:  # 4-channel image (e.g., RGBA)\n",
    "                    img = img[:, :, :3]  # Discard the alpha channel\n",
    "\n",
    "                img = cv2.resize(img, target_size)  # Resize to target_size\n",
    "                images.append(img)\n",
    "                labels.append(label)\n",
    "                filenames.append(filename)\n",
    "    return np.array(images), np.array(labels), class_names, filenames\n",
    "\n",
    "# Function to preprocess images for neural network\n",
    "def preprocess_images(X, target_size):\n",
    "    X_resized = []\n",
    "    for img in X:\n",
    "        img_resized = cv2.resize(img, target_size)\n",
    "        X_resized.append(img_resized)\n",
    "    X_resized = np.array(X_resized).astype('float32') / 255.0\n",
    "    return X_resized\n",
    "\n",
    "# Define LeNet-5 model\n",
    "def create_lenet5(input_shape, num_classes):\n",
    "    model = Sequential()\n",
    "    model.add(Conv2D(6, (5, 5), activation='relu', input_shape=input_shape, padding='same'))\n",
    "    model.add(MaxPooling2D(pool_size=(2, 2)))\n",
    "    model.add(Conv2D(16, (5, 5), activation='relu', padding='same'))\n",
    "    model.add(MaxPooling2D(pool_size=(2, 2)))\n",
    "    model.add(Flatten())\n",
    "    model.add(Dense(120, activation='relu'))\n",
    "    model.add(Dense(84, activation='relu'))\n",
    "    model.add(Dense(num_classes, activation='softmax'))\n",
    "    model.compile(optimizer='adam', loss='categorical_crossentropy', metrics=['accuracy'])\n",
    "    return model\n",
    "\n",
    "# Define parameter grid for GridSearch\n",
    "param_grid = {\n",
    "    'batch_size': [32, 64],\n",
    "    'epochs': [10, 20]\n",
    "}\n",
    "\n",
    "image_sizes = [(64, 64), (128, 128), (256, 256)]\n",
    "\n",
    "def run_model(train_dataset_folder, test_dataset_folder, model_type, root_folder_suffix):\n",
    "    model_start_time = datetime.now()\n",
    "    log = []\n",
    "    log.append(f\"Processing {root_folder_suffix}:{model_type} - Started at {model_start_time}\")\n",
    "    print(f\"Processing {root_folder_suffix}:{model_type} - Started at {model_start_time}\")\n",
    "\n",
    "    log.append(f\"Processing {root_folder_suffix}:{model_type} - Loading and preprocessing training data\")\n",
    "    print(f\"Processing {root_folder_suffix}:{model_type} - Loading and preprocessing training data\")\n",
    "    start_time = time.time()\n",
    "    X_train_orig, y_train, class_names, train_filenames = load_images_from_folder(train_dataset_folder, target_size=(128, 128))\n",
    "    y_train = to_categorical(y_train, num_classes=len(class_names))\n",
    "    load_preprocess_time = time.time() - start_time\n",
    "    log.append(f\"Processing {root_folder_suffix}:{model_type} - Time taken for loading and preprocessing: {load_preprocess_time:.2f} seconds\")\n",
    "    print(f\"Processing {root_folder_suffix}:{model_type} - Time taken for loading and preprocessing: {load_preprocess_time:.2f} seconds\")\n",
    "\n",
    "    best_params = None\n",
    "    best_score = 0\n",
    "    best_target_size = None\n",
    "    best_conf_matrix = None\n",
    "    best_X_train_resized = None\n",
    "\n",
    "    kf = KFold(n_splits=5, shuffle=True, random_state=42)\n",
    "\n",
    "    timing_results = []\n",
    "    cm_results = []\n",
    "\n",
    "    for target_size in image_sizes:\n",
    "        start_size_time = time.time()\n",
    "        log.append(f\"Processing {root_folder_suffix}:{model_type} - Evaluating for image size: {target_size}\")\n",
    "        print(f\"Processing {root_folder_suffix}:{model_type} - Evaluating for image size: {target_size}\")\n",
    "\n",
    "        X_train_resized = preprocess_images(X_train_orig, target_size)\n",
    "        input_shape = (target_size[0], target_size[1], 3)\n",
    "\n",
    "        for batch_size in param_grid['batch_size']:\n",
    "            for epochs in param_grid['epochs']:\n",
    "                params = {\n",
    "                    'batch_size': batch_size,\n",
    "                    'epochs': epochs\n",
    "                }\n",
    "\n",
    "                lenet5 = create_lenet5(input_shape, len(class_names))\n",
    "\n",
    "                start_grid_item_time = time.time()\n",
    "                scores = []\n",
    "\n",
    "                for train_index, val_index in kf.split(X_train_resized):\n",
    "                    X_train_fold, X_val_fold = X_train_resized[train_index], X_train_resized[val_index]\n",
    "                    y_train_fold, y_val_fold = y_train[train_index], y_train[val_index]\n",
    "\n",
    "                    lenet5.fit(X_train_fold, y_train_fold, batch_size=batch_size, epochs=epochs, verbose=0)\n",
    "                    score = lenet5.evaluate(X_val_fold, y_val_fold, verbose=0)[1]\n",
    "                    scores.append(score)\n",
    "\n",
    "                mean_score = np.mean(scores)\n",
    "                grid_item_time = time.time() - start_grid_item_time\n",
    "\n",
    "                timing_results.append({\n",
    "                    'image_size': target_size,\n",
    "                    'batch_size': batch_size,\n",
    "                    'epochs': epochs,\n",
    "                    'mean_score': mean_score,\n",
    "                    'time': grid_item_time,\n",
    "                    'scoring_metric': 'accuracy'\n",
    "                })\n",
    "\n",
    "                log.append(f\"Processing {root_folder_suffix}:{model_type} - Params: {params} - Mean Score (accuracy): {mean_score:.4f} - Time: {grid_item_time:.2f} seconds\")\n",
    "                print(f\"Processing {root_folder_suffix}:{model_type} - Params: {params} - Mean Score (accuracy): {mean_score:.4f} - Time: {grid_item_time:.2f} seconds\")\n",
    "\n",
    "                X_train_split, X_valid_split, y_train_split, y_valid_split = train_test_split(X_train_resized, y_train, test_size=0.2, random_state=42)\n",
    "                lenet5.fit(X_train_split, y_train_split, batch_size=batch_size, epochs=epochs, verbose=0)\n",
    "                y_valid_pred = np.argmax(lenet5.predict(X_valid_split), axis=1)\n",
    "                y_valid_true = np.argmax(y_valid_split, axis=1)\n",
    "                cm = confusion_matrix(y_valid_true, y_valid_pred)\n",
    "                cm_results.append({\n",
    "                    'image_size': target_size,\n",
    "                    'params': params,\n",
    "                    'confusion_matrix': cm\n",
    "                })\n",
    "\n",
    "                if mean_score > best_score:\n",
    "                    best_score = mean_score\n",
    "                    best_params = params\n",
    "                    best_target_size = target_size\n",
    "                    best_conf_matrix = cm\n",
    "                    best_X_train_resized = X_train_resized\n",
    "\n",
    "        size_time = time.time() - start_size_time\n",
    "        log.append(f\"Processing {root_folder_suffix}:{model_type} - Total time taken for image size {target_size}: {size_time:.2f} seconds\\n\")\n",
    "        print(f\"Processing {root_folder_suffix}:{model_type} - Total time taken for image size {target_size}: {size_time:.2f} seconds\\n\")\n",
    "\n",
    "    log.append(f\"Processing {root_folder_suffix}:{model_type} - Best Score: {best_score}\")\n",
    "    log.append(f\"Processing {root_folder_suffix}:{model_type} - Best Parameters: {best_params}\")\n",
    "    log.append(f\"Processing {root_folder_suffix}:{model_type} - Best Image Size: {best_target_size}\")\n",
    "    print(f\"Processing {root_folder_suffix}:{model_type} - Best Score: {best_score}\")\n",
    "    print(f\"Processing {root_folder_suffix}:{model_type} - Best Parameters: {best_params}\")\n",
    "    print(f\"Processing {root_folder_suffix}:{model_type} - Best Image Size: {best_target_size}\")\n",
    "\n",
    "    timestamp = datetime.now().strftime(\"%Y%m%d_%H%M%S\")\n",
    "    result_folder = os.path.dirname(train_dataset_folder)\n",
    "    file_path = os.path.join(result_folder, f\"{root_folder_suffix}_{model_type}_LeNet5_results_{timestamp}.xlsx\")\n",
    "\n",
    "    with pd.ExcelWriter(file_path, engine='xlsxwriter') as writer:\n",
    "        best_params_df = pd.DataFrame([best_params])\n",
    "        best_params_df['image_size'] = [best_target_size]\n",
    "        best_params_df.to_excel(writer, sheet_name='Best_Parameters', index=False)\n",
    "\n",
    "        timing_df = pd.DataFrame(timing_results)\n",
    "        timing_df.to_excel(writer, sheet_name='Timing_Results', index=False)\n",
    "\n",
    "        cm_data = []\n",
    "        for cm_result in cm_results:\n",
    "            for i in range(len(class_names)):\n",
    "                for j in range(len(class_names)):\n",
    "                    cm_data.append({\n",
    "                        'image_size': cm_result['image_size'],\n",
    "                        'params': cm_result['params'],\n",
    "                        'true_class': class_names[i],\n",
    "                        'predicted_class': class_names[j],\n",
    "                        'count': cm_result['confusion_matrix'][i, j]\n",
    "                    })\n",
    "        cm_df = pd.DataFrame(cm_data)\n",
    "        cm_df.to_excel(writer, sheet_name='Confusion_Matrices', index=False)\n",
    "\n",
    "    log.append(f\"Processing {root_folder_suffix}:{model_type} - Grid search results saved to {file_path}\")\n",
    "    print(f\"Processing {root_folder_suffix}:{model_type} - Grid search results saved to {file_path}\")\n",
    "\n",
    "    log.append(f\"Processing {root_folder_suffix}:{model_type} - Loading and preprocessing test data\")\n",
    "    print(f\"Processing {root_folder_suffix}:{model_type} - Loading and preprocessing test data\")\n",
    "    X_test_orig, y_test, _, test_filenames = load_images_from_folder(test_dataset_folder, target_size=best_target_size)\n",
    "    y_test = to_categorical(y_test, num_classes=len(class_names))\n",
    "\n",
    "    X_test_resized = preprocess_images(X_test_orig, best_target_size)\n",
    "\n",
    "    start_time = time.time()\n",
    "    final_model = create_lenet5((best_target_size[0], best_target_size[1], 3), len(class_names))\n",
    "    final_model.fit(best_X_train_resized, y_train, batch_size=best_params['batch_size'], epochs=best_params['epochs'], verbose=0)\n",
    "    train_time = time.time() - start_time\n",
    "\n",
    "    start_time = time.time()\n",
    "    y_test_pred = np.argmax(final_model.predict(X_test_resized), axis=1)\n",
    "    y_test_true = np.argmax(y_test, axis=1)\n",
    "    predict_time = time.time() - start_time\n",
    "\n",
    "    test_accuracy = accuracy_score(y_test_true, y_test_pred)\n",
    "    log.append(f\"Processing {root_folder_suffix}:{model_type} - Test Accuracy: {test_accuracy:.4f}\")\n",
    "    log.append(f\"Processing {root_folder_suffix}:{model_type} - Time taken for final training: {train_time:.2f} seconds\")\n",
    "    log.append(f\"Processing {root_folder_suffix}:{model_type} - Time taken for final prediction: {predict_time:.2f} seconds\")\n",
    "    log.append(f\"Processing {root_folder_suffix}:{model_type} - Test Classification Report:\\n{classification_report(y_test_true, y_test_pred, target_names=class_names)}\")\n",
    "    log.append(f\"Processing {root_folder_suffix}:{model_type} - Test Confusion Matrix:\\n{confusion_matrix(y_test_true, y_test_pred)}\")\n",
    "    print(f\"Processing {root_folder_suffix}:{model_type} - Test Accuracy: {test_accuracy:.4f}\")\n",
    "    print(f\"Processing {root_folder_suffix}:{model_type} - Time taken for final training: {train_time:.2f} seconds\")\n",
    "    print(f\"Processing {root_folder_suffix}:{model_type} - Time taken for final prediction: {predict_time:.2f} seconds\")\n",
    "    print(f\"Processing {root_folder_suffix}:{model_type} - Test Classification Report:\\n{classification_report(y_test_true, y_test_pred, target_names=class_names)}\")\n",
    "    print(f\"Processing {root_folder_suffix}:{model_type} - Test Confusion Matrix:\\n{confusion_matrix(y_test_true, y_test_pred)}\")\n",
    "\n",
    "    with pd.ExcelWriter(file_path, engine='openpyxl', mode='a') as writer:\n",
    "        test_report = classification_report(y_test_true, y_test_pred, target_names=class_names, output_dict=True)\n",
    "        test_report_df = pd.DataFrame(test_report).transpose()\n",
    "        test_report_df.to_excel(writer, sheet_name='Test_Classification_Report')\n",
    "\n",
    "        test_cm = confusion_matrix(y_test_true, y_test_pred)\n",
    "        test_cm_df = pd.DataFrame(test_cm, index=class_names, columns=class_names)\n",
    "        test_cm_df.to_excel(writer, sheet_name='Test_Confusion_Matrix')\n",
    "\n",
    "        predictions_df = pd.DataFrame({\n",
    "            'Filename': test_filenames,\n",
    "            'Actual': [class_names[label] for label in y_test_true],\n",
    "            'Predicted': [class_names[label] for label in y_test_pred]\n",
    "        })\n",
    "        predictions_df.to_excel(writer, sheet_name='Image_Predictions', index=False)\n",
    "\n",
    "        summary_data = {\n",
    "            'Best Score': [best_score],\n",
    "            'Best Parameters': [best_params],\n",
    "            'Best Image Size': [best_target_size],\n",
    "            'Test Accuracy': [test_accuracy],\n",
    "            'Training Time': [train_time],\n",
    "            'Prediction Time': [predict_time]\n",
    "        }\n",
    "        summary_df = pd.DataFrame(summary_data)\n",
    "        summary_df.to_excel(writer, sheet_name='Summary', index=False)\n",
    "\n",
    "        log_df = pd.DataFrame(log, columns=['Log'])\n",
    "        log_df.to_excel(writer, sheet_name='Log', index=False)\n",
    "\n",
    "    model_end_time = datetime.now()\n",
    "    log.append(f\"Processing {root_folder_suffix}:{model_type} - Ended at {model_end_time}\")\n",
    "    log.append(f\"Processing {root_folder_suffix}:{model_type} - Total duration: {model_end_time - model_start_time}\")\n",
    "    log.append(f\"Processing {root_folder_suffix}:{model_type} - Best Parameters identified from the grid search: {best_params}\")\n",
    "    log.append(f\"Processing {root_folder_suffix}:{model_type} - Best Image Size identified from the grid search: {best_target_size}\")\n",
    "    log.append(f\"Processing {root_folder_suffix}:{model_type} - Final test results saved to {file_path}\")\n",
    "    print(f\"Processing {root_folder_suffix}:{model_type} - Ended at {model_end_time}\")\n",
    "    print(f\"Processing {root_folder_suffix}:{model_type} - Total duration: {model_end_time - model_start_time}\")\n",
    "    print(f\"Processing {root_folder_suffix}:{model_type} - Best Parameters identified from the grid search: {best_params}\")\n",
    "    print(f\"Processing {root_folder_suffix}:{model_type} - Best Image Size identified from the grid search: {best_target_size}\")\n",
    "    print(f\"Processing {root_folder_suffix}:{model_type} - Final test results saved to {file_path}\")\n",
    "\n",
    "# Function to iterate over the data directories and run the model\n",
    "def run_models_for_all_datasets(root_folders):\n",
    "    overall_start_time = datetime.now()\n",
    "    print(f\"Overall processing started at {overall_start_time}\")\n",
    "\n",
    "    model_types = ['country', 'exact_piece', 'force', 'piece']\n",
    "\n",
    "    tasks = []\n",
    "\n",
    "    for root_folder in root_folders:\n",
    "        root_folder_suffix = os.path.basename(root_folder)[-2:]\n",
    "        for model_type in model_types:\n",
    "            train_folder = os.path.join(root_folder, f\"{model_type}_train\")\n",
    "            test_folder = os.path.join(root_folder, f\"{model_type}_test\")\n",
    "\n",
    "            if os.path.exists(train_folder) and os.path.exists(test_folder):\n",
    "                tasks.append((train_folder, test_folder, model_type, root_folder_suffix))\n",
    "            else:\n",
    "                print(f\"Skipping {model_type} in {root_folder} as train or test folder does not exist\")\n",
    "\n",
    "    with concurrent.futures.ThreadPoolExecutor() as executor:\n",
    "        futures = [executor.submit(run_model, train, test, model, suffix) for train, test, model, suffix in tasks]\n",
    "        for future in concurrent.futures.as_completed(futures):\n",
    "            try:\n",
    "                future.result()\n",
    "            except Exception as exc:\n",
    "                print(f\"Generated an exception: {exc}\")\n",
    "\n",
    "    overall_end_time = datetime.now()\n",
    "    print(f\"Overall processing ended at {overall_end_time}\")\n",
    "    print(f\"Total duration for all models: {overall_end_time - overall_start_time}\")\n",
    "\n",
    "root_folders = [\n",
    "#    'C:\\\\Users\\\\ReCas\\\\OneDrive\\\\Documents\\\\2024_AIMachineLearning\\\\99_Projects\\\\06.DataSets_gy',\n",
    "#    'C:\\\\Users\\\\ReCas\\\\OneDrive\\\\Documents\\\\2024_AIMachineLearning\\\\99_Projects\\\\07.DataSets_or',\n",
    "    'C:\\\\Users\\\\ReCas\\\\OneDrive\\\\Documents\\\\2024_AIMachineLearning\\\\99_Projects\\\\08.DataSets_fc'\n",
    "]\n",
    "\n",
    "run_models_for_all_datasets(root_folders)"
   ]
  },
  {
   "cell_type": "code",
   "execution_count": null,
   "id": "8c6da318",
   "metadata": {},
   "outputs": [],
   "source": []
  }
 ],
 "metadata": {
  "kernelspec": {
   "display_name": "Python 3 (ipykernel)",
   "language": "python",
   "name": "python3"
  },
  "language_info": {
   "codemirror_mode": {
    "name": "ipython",
    "version": 3
   },
   "file_extension": ".py",
   "mimetype": "text/x-python",
   "name": "python",
   "nbconvert_exporter": "python",
   "pygments_lexer": "ipython3",
   "version": "3.11.9"
  }
 },
 "nbformat": 4,
 "nbformat_minor": 5
}
